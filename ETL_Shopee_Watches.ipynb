{
  "nbformat": 4,
  "nbformat_minor": 0,
  "metadata": {
    "colab": {
      "name": "ETL-Shopee_Watches.ipynb",
      "provenance": [],
      "collapsed_sections": [],
      "include_colab_link": true
    },
    "kernelspec": {
      "name": "python3",
      "display_name": "Python 3"
    },
    "language_info": {
      "name": "python"
    }
  },
  "cells": [
    {
      "cell_type": "markdown",
      "metadata": {
        "id": "view-in-github",
        "colab_type": "text"
      },
      "source": [
        "<a href=\"https://colab.research.google.com/github/KahChoo99/ETL-Shopee/blob/main/ETL_Shopee_Watches.ipynb\" target=\"_parent\"><img src=\"https://colab.research.google.com/assets/colab-badge.svg\" alt=\"Open In Colab\"/></a>"
      ]
    },
    {
      "cell_type": "markdown",
      "source": [
        "**Group 6 Members:**<br>\n",
        "\n",
        "> a. Teo Jie Xi (A176716) <br>\n",
        "    b. Tang Jia Hui (A176297) <br>\n",
        "    c. Wong Wai Jian (A175985) <br>\n",
        "    d. Ooi Kah Choo (A176225) <br>\n",
        "\n"
      ],
      "metadata": {
        "id": "ykeCT_Bv5WTp"
      }
    },
    {
      "cell_type": "markdown",
      "source": [
        "#**Step 1: Import Libraries**"
      ],
      "metadata": {
        "id": "ulb2WyX5IPTf"
      }
    },
    {
      "cell_type": "code",
      "source": [
        "import requests\n",
        "import re\n",
        "import string\n",
        "\n",
        "!pip install malaya\n",
        "import malaya\n",
        "\n",
        "!pip install fasttext\n",
        "import fasttext\n",
        "\n",
        "import numpy as np\n",
        "import pandas as pd\n",
        "\n",
        "!pip install chart-studio"
      ],
      "metadata": {
        "colab": {
          "base_uri": "https://localhost:8080/"
        },
        "id": "AfGlSIlnIOzc",
        "outputId": "75e43685-1626-4f6d-e996-d1166b87fef1"
      },
      "execution_count": null,
      "outputs": [
        {
          "output_type": "stream",
          "name": "stdout",
          "text": [
            "Collecting malaya\n",
            "  Downloading malaya-4.7.1-py3-none-any.whl (2.2 MB)\n",
            "\u001b[K     |████████████████████████████████| 2.2 MB 9.0 MB/s \n",
            "\u001b[?25hCollecting ftfy\n",
            "  Downloading ftfy-6.0.3.tar.gz (64 kB)\n",
            "\u001b[K     |████████████████████████████████| 64 kB 2.8 MB/s \n",
            "\u001b[?25hRequirement already satisfied: scikit-learn in /usr/local/lib/python3.7/dist-packages (from malaya) (1.0.1)\n",
            "Requirement already satisfied: requests in /usr/local/lib/python3.7/dist-packages (from malaya) (2.23.0)\n",
            "Requirement already satisfied: tqdm in /usr/local/lib/python3.7/dist-packages (from malaya) (4.62.3)\n",
            "Requirement already satisfied: scipy in /usr/local/lib/python3.7/dist-packages (from malaya) (1.4.1)\n",
            "Collecting malaya-boilerplate>=0.0.10\n",
            "  Downloading malaya_boilerplate-0.0.15-py3-none-any.whl (11 kB)\n",
            "Collecting dateparser\n",
            "  Downloading dateparser-1.1.0-py2.py3-none-any.whl (288 kB)\n",
            "\u001b[K     |████████████████████████████████| 288 kB 65.8 MB/s \n",
            "\u001b[?25hRequirement already satisfied: regex in /usr/local/lib/python3.7/dist-packages (from malaya) (2019.12.20)\n",
            "Requirement already satisfied: tensorflow>=1.15 in /usr/local/lib/python3.7/dist-packages (from malaya) (2.7.0)\n",
            "Collecting unidecode\n",
            "  Downloading Unidecode-1.3.2-py3-none-any.whl (235 kB)\n",
            "\u001b[K     |████████████████████████████████| 235 kB 45.3 MB/s \n",
            "\u001b[?25hCollecting sentencepiece\n",
            "  Downloading sentencepiece-0.1.96-cp37-cp37m-manylinux_2_17_x86_64.manylinux2014_x86_64.whl (1.2 MB)\n",
            "\u001b[K     |████████████████████████████████| 1.2 MB 58.5 MB/s \n",
            "\u001b[?25hCollecting networkx<=2.5.1\n",
            "  Downloading networkx-2.5.1-py3-none-any.whl (1.6 MB)\n",
            "\u001b[K     |████████████████████████████████| 1.6 MB 42.7 MB/s \n",
            "\u001b[?25hRequirement already satisfied: numpy in /usr/local/lib/python3.7/dist-packages (from malaya) (1.19.5)\n",
            "Collecting herpetologist\n",
            "  Downloading herpetologist-0.0.9-py3-none-any.whl (2.4 kB)\n",
            "Requirement already satisfied: decorator<5,>=4.3 in /usr/local/lib/python3.7/dist-packages (from networkx<=2.5.1->malaya) (4.4.2)\n",
            "Requirement already satisfied: absl-py>=0.4.0 in /usr/local/lib/python3.7/dist-packages (from tensorflow>=1.15->malaya) (0.12.0)\n",
            "Requirement already satisfied: gast<0.5.0,>=0.2.1 in /usr/local/lib/python3.7/dist-packages (from tensorflow>=1.15->malaya) (0.4.0)\n",
            "Requirement already satisfied: libclang>=9.0.1 in /usr/local/lib/python3.7/dist-packages (from tensorflow>=1.15->malaya) (12.0.0)\n",
            "Requirement already satisfied: protobuf>=3.9.2 in /usr/local/lib/python3.7/dist-packages (from tensorflow>=1.15->malaya) (3.17.3)\n",
            "Requirement already satisfied: wrapt>=1.11.0 in /usr/local/lib/python3.7/dist-packages (from tensorflow>=1.15->malaya) (1.13.3)\n",
            "Requirement already satisfied: tensorboard~=2.6 in /usr/local/lib/python3.7/dist-packages (from tensorflow>=1.15->malaya) (2.7.0)\n",
            "Requirement already satisfied: wheel<1.0,>=0.32.0 in /usr/local/lib/python3.7/dist-packages (from tensorflow>=1.15->malaya) (0.37.0)\n",
            "Requirement already satisfied: termcolor>=1.1.0 in /usr/local/lib/python3.7/dist-packages (from tensorflow>=1.15->malaya) (1.1.0)\n",
            "Requirement already satisfied: six>=1.12.0 in /usr/local/lib/python3.7/dist-packages (from tensorflow>=1.15->malaya) (1.15.0)\n",
            "Requirement already satisfied: keras<2.8,>=2.7.0rc0 in /usr/local/lib/python3.7/dist-packages (from tensorflow>=1.15->malaya) (2.7.0)\n",
            "Requirement already satisfied: google-pasta>=0.1.1 in /usr/local/lib/python3.7/dist-packages (from tensorflow>=1.15->malaya) (0.2.0)\n",
            "Requirement already satisfied: astunparse>=1.6.0 in /usr/local/lib/python3.7/dist-packages (from tensorflow>=1.15->malaya) (1.6.3)\n",
            "Requirement already satisfied: tensorflow-estimator<2.8,~=2.7.0rc0 in /usr/local/lib/python3.7/dist-packages (from tensorflow>=1.15->malaya) (2.7.0)\n",
            "Requirement already satisfied: flatbuffers<3.0,>=1.12 in /usr/local/lib/python3.7/dist-packages (from tensorflow>=1.15->malaya) (2.0)\n",
            "Requirement already satisfied: keras-preprocessing>=1.1.1 in /usr/local/lib/python3.7/dist-packages (from tensorflow>=1.15->malaya) (1.1.2)\n",
            "Requirement already satisfied: opt-einsum>=2.3.2 in /usr/local/lib/python3.7/dist-packages (from tensorflow>=1.15->malaya) (3.3.0)\n",
            "Requirement already satisfied: tensorflow-io-gcs-filesystem>=0.21.0 in /usr/local/lib/python3.7/dist-packages (from tensorflow>=1.15->malaya) (0.22.0)\n",
            "Requirement already satisfied: typing-extensions>=3.6.6 in /usr/local/lib/python3.7/dist-packages (from tensorflow>=1.15->malaya) (3.10.0.2)\n",
            "Requirement already satisfied: h5py>=2.9.0 in /usr/local/lib/python3.7/dist-packages (from tensorflow>=1.15->malaya) (3.1.0)\n",
            "Requirement already satisfied: grpcio<2.0,>=1.24.3 in /usr/local/lib/python3.7/dist-packages (from tensorflow>=1.15->malaya) (1.42.0)\n",
            "Requirement already satisfied: cached-property in /usr/local/lib/python3.7/dist-packages (from h5py>=2.9.0->tensorflow>=1.15->malaya) (1.5.2)\n",
            "Requirement already satisfied: setuptools>=41.0.0 in /usr/local/lib/python3.7/dist-packages (from tensorboard~=2.6->tensorflow>=1.15->malaya) (57.4.0)\n",
            "Requirement already satisfied: tensorboard-data-server<0.7.0,>=0.6.0 in /usr/local/lib/python3.7/dist-packages (from tensorboard~=2.6->tensorflow>=1.15->malaya) (0.6.1)\n",
            "Requirement already satisfied: google-auth-oauthlib<0.5,>=0.4.1 in /usr/local/lib/python3.7/dist-packages (from tensorboard~=2.6->tensorflow>=1.15->malaya) (0.4.6)\n",
            "Requirement already satisfied: tensorboard-plugin-wit>=1.6.0 in /usr/local/lib/python3.7/dist-packages (from tensorboard~=2.6->tensorflow>=1.15->malaya) (1.8.0)\n",
            "Requirement already satisfied: markdown>=2.6.8 in /usr/local/lib/python3.7/dist-packages (from tensorboard~=2.6->tensorflow>=1.15->malaya) (3.3.6)\n",
            "Requirement already satisfied: google-auth<3,>=1.6.3 in /usr/local/lib/python3.7/dist-packages (from tensorboard~=2.6->tensorflow>=1.15->malaya) (1.35.0)\n",
            "Requirement already satisfied: werkzeug>=0.11.15 in /usr/local/lib/python3.7/dist-packages (from tensorboard~=2.6->tensorflow>=1.15->malaya) (1.0.1)\n",
            "Requirement already satisfied: cachetools<5.0,>=2.0.0 in /usr/local/lib/python3.7/dist-packages (from google-auth<3,>=1.6.3->tensorboard~=2.6->tensorflow>=1.15->malaya) (4.2.4)\n",
            "Requirement already satisfied: rsa<5,>=3.1.4 in /usr/local/lib/python3.7/dist-packages (from google-auth<3,>=1.6.3->tensorboard~=2.6->tensorflow>=1.15->malaya) (4.8)\n",
            "Requirement already satisfied: pyasn1-modules>=0.2.1 in /usr/local/lib/python3.7/dist-packages (from google-auth<3,>=1.6.3->tensorboard~=2.6->tensorflow>=1.15->malaya) (0.2.8)\n",
            "Requirement already satisfied: requests-oauthlib>=0.7.0 in /usr/local/lib/python3.7/dist-packages (from google-auth-oauthlib<0.5,>=0.4.1->tensorboard~=2.6->tensorflow>=1.15->malaya) (1.3.0)\n",
            "Requirement already satisfied: importlib-metadata>=4.4 in /usr/local/lib/python3.7/dist-packages (from markdown>=2.6.8->tensorboard~=2.6->tensorflow>=1.15->malaya) (4.8.2)\n",
            "Requirement already satisfied: zipp>=0.5 in /usr/local/lib/python3.7/dist-packages (from importlib-metadata>=4.4->markdown>=2.6.8->tensorboard~=2.6->tensorflow>=1.15->malaya) (3.6.0)\n",
            "Requirement already satisfied: pyasn1<0.5.0,>=0.4.6 in /usr/local/lib/python3.7/dist-packages (from pyasn1-modules>=0.2.1->google-auth<3,>=1.6.3->tensorboard~=2.6->tensorflow>=1.15->malaya) (0.4.8)\n",
            "Requirement already satisfied: chardet<4,>=3.0.2 in /usr/local/lib/python3.7/dist-packages (from requests->malaya) (3.0.4)\n",
            "Requirement already satisfied: idna<3,>=2.5 in /usr/local/lib/python3.7/dist-packages (from requests->malaya) (2.10)\n",
            "Requirement already satisfied: certifi>=2017.4.17 in /usr/local/lib/python3.7/dist-packages (from requests->malaya) (2021.10.8)\n",
            "Requirement already satisfied: urllib3!=1.25.0,!=1.25.1,<1.26,>=1.21.1 in /usr/local/lib/python3.7/dist-packages (from requests->malaya) (1.24.3)\n",
            "Requirement already satisfied: oauthlib>=3.0.0 in /usr/local/lib/python3.7/dist-packages (from requests-oauthlib>=0.7.0->google-auth-oauthlib<0.5,>=0.4.1->tensorboard~=2.6->tensorflow>=1.15->malaya) (3.1.1)\n",
            "Requirement already satisfied: pytz in /usr/local/lib/python3.7/dist-packages (from dateparser->malaya) (2018.9)\n",
            "Requirement already satisfied: tzlocal in /usr/local/lib/python3.7/dist-packages (from dateparser->malaya) (1.5.1)\n",
            "Requirement already satisfied: python-dateutil in /usr/local/lib/python3.7/dist-packages (from dateparser->malaya) (2.8.2)\n",
            "Requirement already satisfied: wcwidth in /usr/local/lib/python3.7/dist-packages (from ftfy->malaya) (0.2.5)\n",
            "Collecting memoization\n",
            "  Downloading memoization-0.4.0.tar.gz (41 kB)\n",
            "\u001b[K     |████████████████████████████████| 41 kB 189 kB/s \n",
            "\u001b[?25hRequirement already satisfied: threadpoolctl>=2.0.0 in /usr/local/lib/python3.7/dist-packages (from scikit-learn->malaya) (3.0.0)\n",
            "Requirement already satisfied: joblib>=0.11 in /usr/local/lib/python3.7/dist-packages (from scikit-learn->malaya) (1.1.0)\n",
            "Building wheels for collected packages: ftfy, memoization\n",
            "  Building wheel for ftfy (setup.py) ... \u001b[?25l\u001b[?25hdone\n",
            "  Created wheel for ftfy: filename=ftfy-6.0.3-py3-none-any.whl size=41933 sha256=5d0930db226a1bae1dea282206f9dcc4108fbcf52cc472cb6417611c815d8fc3\n",
            "  Stored in directory: /root/.cache/pip/wheels/19/f5/38/273eb3b5e76dfd850619312f693716ac4518b498f5ffb6f56d\n",
            "  Building wheel for memoization (setup.py) ... \u001b[?25l\u001b[?25hdone\n",
            "  Created wheel for memoization: filename=memoization-0.4.0-py3-none-any.whl size=50466 sha256=113c1c3caa69598867042a5fecfbb775eb07f2a639465a717d9f9fb35a932e25\n",
            "  Stored in directory: /root/.cache/pip/wheels/38/f7/65/161985e7311dd484a23b3a5c9149995dbf11db6cede602e7ef\n",
            "Successfully built ftfy memoization\n",
            "Installing collected packages: memoization, unidecode, sentencepiece, networkx, malaya-boilerplate, herpetologist, ftfy, dateparser, malaya\n",
            "  Attempting uninstall: networkx\n",
            "    Found existing installation: networkx 2.6.3\n",
            "    Uninstalling networkx-2.6.3:\n",
            "      Successfully uninstalled networkx-2.6.3\n",
            "\u001b[31mERROR: pip's dependency resolver does not currently take into account all the packages that are installed. This behaviour is the source of the following dependency conflicts.\n",
            "albumentations 0.1.12 requires imgaug<0.2.7,>=0.2.5, but you have imgaug 0.2.9 which is incompatible.\u001b[0m\n",
            "Successfully installed dateparser-1.1.0 ftfy-6.0.3 herpetologist-0.0.9 malaya-4.7.1 malaya-boilerplate-0.0.15 memoization-0.4.0 networkx-2.5.1 sentencepiece-0.1.96 unidecode-1.3.2\n"
          ]
        },
        {
          "output_type": "stream",
          "name": "stderr",
          "text": [
            "/usr/local/lib/python3.7/dist-packages/malaya_boilerplate/frozen_graph.py:35: UserWarning:\n",
            "\n",
            "Cannot import beam_search_ops from Tensorflow Addons, `deep_model` for stemmer will not available to use, make sure Tensorflow Addons version >= 0.12.0\n",
            "\n"
          ]
        },
        {
          "output_type": "stream",
          "name": "stdout",
          "text": [
            "Collecting fasttext\n",
            "  Downloading fasttext-0.9.2.tar.gz (68 kB)\n",
            "\u001b[?25l\r\u001b[K     |████▊                           | 10 kB 28.7 MB/s eta 0:00:01\r\u001b[K     |█████████▌                      | 20 kB 31.1 MB/s eta 0:00:01\r\u001b[K     |██████████████▎                 | 30 kB 21.1 MB/s eta 0:00:01\r\u001b[K     |███████████████████             | 40 kB 16.5 MB/s eta 0:00:01\r\u001b[K     |███████████████████████▉        | 51 kB 10.7 MB/s eta 0:00:01\r\u001b[K     |████████████████████████████▋   | 61 kB 9.0 MB/s eta 0:00:01\r\u001b[K     |████████████████████████████████| 68 kB 4.3 MB/s \n",
            "\u001b[?25hCollecting pybind11>=2.2\n",
            "  Using cached pybind11-2.9.0-py2.py3-none-any.whl (210 kB)\n",
            "Requirement already satisfied: setuptools>=0.7.0 in /usr/local/lib/python3.7/dist-packages (from fasttext) (57.4.0)\n",
            "Requirement already satisfied: numpy in /usr/local/lib/python3.7/dist-packages (from fasttext) (1.19.5)\n",
            "Building wheels for collected packages: fasttext\n",
            "  Building wheel for fasttext (setup.py) ... \u001b[?25l\u001b[?25hdone\n",
            "  Created wheel for fasttext: filename=fasttext-0.9.2-cp37-cp37m-linux_x86_64.whl size=3125963 sha256=0423269190c0004d706a539c7ead8c076d4199af85e30444bab28524465db5ee\n",
            "  Stored in directory: /root/.cache/pip/wheels/4e/ca/bf/b020d2be95f7641801a6597a29c8f4f19e38f9c02a345bab9b\n",
            "Successfully built fasttext\n",
            "Installing collected packages: pybind11, fasttext\n",
            "Successfully installed fasttext-0.9.2 pybind11-2.9.0\n",
            "Requirement already satisfied: chart-studio in /usr/local/lib/python3.7/dist-packages (1.1.0)\n",
            "Requirement already satisfied: plotly in /usr/local/lib/python3.7/dist-packages (from chart-studio) (4.4.1)\n",
            "Requirement already satisfied: requests in /usr/local/lib/python3.7/dist-packages (from chart-studio) (2.23.0)\n",
            "Requirement already satisfied: retrying>=1.3.3 in /usr/local/lib/python3.7/dist-packages (from chart-studio) (1.3.3)\n",
            "Requirement already satisfied: six in /usr/local/lib/python3.7/dist-packages (from chart-studio) (1.15.0)\n",
            "Requirement already satisfied: certifi>=2017.4.17 in /usr/local/lib/python3.7/dist-packages (from requests->chart-studio) (2021.10.8)\n",
            "Requirement already satisfied: idna<3,>=2.5 in /usr/local/lib/python3.7/dist-packages (from requests->chart-studio) (2.10)\n",
            "Requirement already satisfied: urllib3!=1.25.0,!=1.25.1,<1.26,>=1.21.1 in /usr/local/lib/python3.7/dist-packages (from requests->chart-studio) (1.24.3)\n",
            "Requirement already satisfied: chardet<4,>=3.0.2 in /usr/local/lib/python3.7/dist-packages (from requests->chart-studio) (3.0.4)\n"
          ]
        }
      ]
    },
    {
      "cell_type": "markdown",
      "source": [
        "#**Step 2: Extraction & Visualization**"
      ],
      "metadata": {
        "id": "zTzBLz4Q2eSc"
      }
    },
    {
      "cell_type": "markdown",
      "source": [
        "##**Step 2.1: Define and Call Scraping Function**"
      ],
      "metadata": {
        "id": "Y3jAy8Ld24jh"
      }
    },
    {
      "cell_type": "code",
      "execution_count": null,
      "metadata": {
        "id": "zXH8K8r9HOFR",
        "colab": {
          "base_uri": "https://localhost:8080/"
        },
        "outputId": "c2621a8f-f855-4162-f632-91db80a01206"
      },
      "outputs": [
        {
          "output_type": "stream",
          "name": "stdout",
          "text": [
            "Total data collected: 100 \n",
            "\n",
            "Total data collected: 100 \n",
            "\n"
          ]
        }
      ],
      "source": [
        "# define list\n",
        "list_name = []\n",
        "list_total_sold = []\n",
        "list_total_favorite = []\n",
        "list_brand = []\n",
        "list_min_price = []\n",
        "list_max_price = []\n",
        "list_rating = []\n",
        "list_shipping_fee = []\n",
        "list_shop_location = []\n",
        "list_discount = []\n",
        "\n",
        "# function\n",
        "def main(watch, items_number=200):\n",
        "    url = \"https://shopee.com.my/api/v4/search/search_items\"\n",
        "\n",
        "    params = {\n",
        "        \"by\": \"relevancy\",\n",
        "        \"keyword\": watch,\n",
        "        \"limit\": 100,  # default value at start\n",
        "        \"newest\": 0,   # default value at start\n",
        "        \"order\": \"desc\",\n",
        "        \"page_type\": \"search\",\n",
        "        \"scenario\": \"PAGE_GLOBAL_SEARCH\",\n",
        "        \"version\": \"2\"\n",
        "    }\n",
        "    \n",
        "    for offset in range(0, items_number, 100):\n",
        "        params[\"newest\"] = offset\n",
        "        limit = items_number - offset\n",
        "        if limit < 100:\n",
        "            params[\"limit\"] = limit\n",
        "        r = requests.get(url, params=params)\n",
        "        data = r.json()    \n",
        "        print('Total data collected:', len(data['items']), '\\n')\n",
        "        \n",
        "        x = 0\n",
        "        for number, item in enumerate(data['items']):\n",
        "\n",
        "            basic = item['item_basic']\n",
        "\n",
        "            # # show the type of key\n",
        "            # print(x)\n",
        "\n",
        "            # print('keys:', basic.keys())\n",
        "            # for key, value in basic.items():\n",
        "            #    print(f\"{key}: {value}\")\n",
        "          \n",
        "            # x += 1\n",
        "            # print(\"\")\n",
        "              \n",
        "            # product name\n",
        "            list_name.append(basic['name'])\n",
        "\n",
        "            # total_sold\n",
        "            list_total_sold.append(basic['historical_sold'])\n",
        "\n",
        "            # total_favorite\n",
        "            list_total_favorite.append(basic['liked_count'])\n",
        "\n",
        "            # brand_name\n",
        "            brand = basic.get('brand')\n",
        "            if brand is None:\n",
        "                list_brand.append('NaN')\n",
        "            else:\n",
        "                list_brand.append(brand)\n",
        "\n",
        "            # min_price\n",
        "            list_min_price.append(basic.get('price_min'))\n",
        "\n",
        "            # max_price\n",
        "            list_max_price.append(basic.get('price_max'))\n",
        "\n",
        "            # rating\n",
        "            list_rating.append(basic['item_rating']['rating_star'])\n",
        "\n",
        "            # shipping_fee\n",
        "            list_shipping_fee.append(basic['show_free_shipping'])\n",
        "\n",
        "            # shop_location\n",
        "            list_shop_location.append(basic['shop_location'])\n",
        "\n",
        "            # discount\n",
        "            discount=basic.get('discount')\n",
        "            if discount is None:\n",
        "              list_discount.append('0%')\n",
        "            else:\n",
        "              list_discount.append(discount)\n",
        "\n",
        "\n",
        "# execute function\n",
        "main(\"watch\")"
      ]
    },
    {
      "cell_type": "markdown",
      "source": [
        "Attributes: Product Name, Total Sold, Total Favourite, Brand, Minimum Price, Maximum Price, Average Rating, Shipping Fee, Shop Location. Discount"
      ],
      "metadata": {
        "id": "dqUNR0au8NWp"
      }
    },
    {
      "cell_type": "code",
      "source": [
        "data_df = pd.DataFrame({'Product Name' : list_name ,\n",
        "                        'Total of Sold' : list_total_sold, \n",
        "                        'Total of Favourite' : list_total_favorite, \n",
        "                        'Brand' : list_brand,\n",
        "                        'Min Price (RM)' : list_min_price,\n",
        "                        'Max Price (RM)' : list_max_price,\n",
        "                        'Average Rating' : list_rating,\n",
        "                        'Shipping Fee' : list_shipping_fee,\n",
        "                        'Shop Location' : list_shop_location,\n",
        "                        'Discount (%)' : list_discount})"
      ],
      "metadata": {
        "id": "k8EVyrtOJdXR"
      },
      "execution_count": null,
      "outputs": []
    },
    {
      "cell_type": "code",
      "source": [
        "data_df.head(5)"
      ],
      "metadata": {
        "colab": {
          "base_uri": "https://localhost:8080/",
          "height": 354
        },
        "id": "8-a6wE1LL6Wg",
        "outputId": "da7c6c84-033b-4076-9a9d-026c571b570b"
      },
      "execution_count": null,
      "outputs": [
        {
          "output_type": "execute_result",
          "data": {
            "text/html": [
              "\n",
              "  <div id=\"df-de9a7fa8-ec97-43f8-9c62-b367e5e5770d\">\n",
              "    <div class=\"colab-df-container\">\n",
              "      <div>\n",
              "<style scoped>\n",
              "    .dataframe tbody tr th:only-of-type {\n",
              "        vertical-align: middle;\n",
              "    }\n",
              "\n",
              "    .dataframe tbody tr th {\n",
              "        vertical-align: top;\n",
              "    }\n",
              "\n",
              "    .dataframe thead th {\n",
              "        text-align: right;\n",
              "    }\n",
              "</style>\n",
              "<table border=\"1\" class=\"dataframe\">\n",
              "  <thead>\n",
              "    <tr style=\"text-align: right;\">\n",
              "      <th></th>\n",
              "      <th>Product Name</th>\n",
              "      <th>Total of Sold</th>\n",
              "      <th>Total of Favourite</th>\n",
              "      <th>Brand</th>\n",
              "      <th>Min Price (RM)</th>\n",
              "      <th>Max Price (RM)</th>\n",
              "      <th>Average Rating</th>\n",
              "      <th>Shipping Fee</th>\n",
              "      <th>Shop Location</th>\n",
              "      <th>Discount (%)</th>\n",
              "    </tr>\n",
              "  </thead>\n",
              "  <tbody>\n",
              "    <tr>\n",
              "      <th>0</th>\n",
              "      <td>[Malaysia 3 Year Warranty] CASIO GSHOCK King o...</td>\n",
              "      <td>13996</td>\n",
              "      <td>5441</td>\n",
              "      <td>No Brand</td>\n",
              "      <td>490000</td>\n",
              "      <td>1830000</td>\n",
              "      <td>4.757587</td>\n",
              "      <td>False</td>\n",
              "      <td>Selangor</td>\n",
              "      <td>91%</td>\n",
              "    </tr>\n",
              "    <tr>\n",
              "      <th>1</th>\n",
              "      <td>SANDA Waterproof Men Fashion Luminous Watch Me...</td>\n",
              "      <td>54</td>\n",
              "      <td>55</td>\n",
              "      <td>NaN</td>\n",
              "      <td>2990000</td>\n",
              "      <td>2990000</td>\n",
              "      <td>4.812500</td>\n",
              "      <td>False</td>\n",
              "      <td>Mainland China</td>\n",
              "      <td>75%</td>\n",
              "    </tr>\n",
              "    <tr>\n",
              "      <th>2</th>\n",
              "      <td>READY STOCK🔥GRIMO Snova Digital Watch Women Ma...</td>\n",
              "      <td>25488</td>\n",
              "      <td>6927</td>\n",
              "      <td>No Brand</td>\n",
              "      <td>790000</td>\n",
              "      <td>790000</td>\n",
              "      <td>4.881279</td>\n",
              "      <td>True</td>\n",
              "      <td>Selangor</td>\n",
              "      <td>84%</td>\n",
              "    </tr>\n",
              "    <tr>\n",
              "      <th>3</th>\n",
              "      <td>Ready stock F10 🔥Smart Watch Full Touch Screen...</td>\n",
              "      <td>20537</td>\n",
              "      <td>21744</td>\n",
              "      <td>OEM</td>\n",
              "      <td>2990000</td>\n",
              "      <td>5999000</td>\n",
              "      <td>4.829460</td>\n",
              "      <td>False</td>\n",
              "      <td>Selangor</td>\n",
              "      <td>60%</td>\n",
              "    </tr>\n",
              "    <tr>\n",
              "      <th>4</th>\n",
              "      <td>【Ready Stock】jam tangan perempuan korean versi...</td>\n",
              "      <td>2357</td>\n",
              "      <td>2014</td>\n",
              "      <td>NaN</td>\n",
              "      <td>517000</td>\n",
              "      <td>747000</td>\n",
              "      <td>4.874112</td>\n",
              "      <td>False</td>\n",
              "      <td>Mainland China</td>\n",
              "      <td>78%</td>\n",
              "    </tr>\n",
              "  </tbody>\n",
              "</table>\n",
              "</div>\n",
              "      <button class=\"colab-df-convert\" onclick=\"convertToInteractive('df-de9a7fa8-ec97-43f8-9c62-b367e5e5770d')\"\n",
              "              title=\"Convert this dataframe to an interactive table.\"\n",
              "              style=\"display:none;\">\n",
              "        \n",
              "  <svg xmlns=\"http://www.w3.org/2000/svg\" height=\"24px\"viewBox=\"0 0 24 24\"\n",
              "       width=\"24px\">\n",
              "    <path d=\"M0 0h24v24H0V0z\" fill=\"none\"/>\n",
              "    <path d=\"M18.56 5.44l.94 2.06.94-2.06 2.06-.94-2.06-.94-.94-2.06-.94 2.06-2.06.94zm-11 1L8.5 8.5l.94-2.06 2.06-.94-2.06-.94L8.5 2.5l-.94 2.06-2.06.94zm10 10l.94 2.06.94-2.06 2.06-.94-2.06-.94-.94-2.06-.94 2.06-2.06.94z\"/><path d=\"M17.41 7.96l-1.37-1.37c-.4-.4-.92-.59-1.43-.59-.52 0-1.04.2-1.43.59L10.3 9.45l-7.72 7.72c-.78.78-.78 2.05 0 2.83L4 21.41c.39.39.9.59 1.41.59.51 0 1.02-.2 1.41-.59l7.78-7.78 2.81-2.81c.8-.78.8-2.07 0-2.86zM5.41 20L4 18.59l7.72-7.72 1.47 1.35L5.41 20z\"/>\n",
              "  </svg>\n",
              "      </button>\n",
              "      \n",
              "  <style>\n",
              "    .colab-df-container {\n",
              "      display:flex;\n",
              "      flex-wrap:wrap;\n",
              "      gap: 12px;\n",
              "    }\n",
              "\n",
              "    .colab-df-convert {\n",
              "      background-color: #E8F0FE;\n",
              "      border: none;\n",
              "      border-radius: 50%;\n",
              "      cursor: pointer;\n",
              "      display: none;\n",
              "      fill: #1967D2;\n",
              "      height: 32px;\n",
              "      padding: 0 0 0 0;\n",
              "      width: 32px;\n",
              "    }\n",
              "\n",
              "    .colab-df-convert:hover {\n",
              "      background-color: #E2EBFA;\n",
              "      box-shadow: 0px 1px 2px rgba(60, 64, 67, 0.3), 0px 1px 3px 1px rgba(60, 64, 67, 0.15);\n",
              "      fill: #174EA6;\n",
              "    }\n",
              "\n",
              "    [theme=dark] .colab-df-convert {\n",
              "      background-color: #3B4455;\n",
              "      fill: #D2E3FC;\n",
              "    }\n",
              "\n",
              "    [theme=dark] .colab-df-convert:hover {\n",
              "      background-color: #434B5C;\n",
              "      box-shadow: 0px 1px 3px 1px rgba(0, 0, 0, 0.15);\n",
              "      filter: drop-shadow(0px 1px 2px rgba(0, 0, 0, 0.3));\n",
              "      fill: #FFFFFF;\n",
              "    }\n",
              "  </style>\n",
              "\n",
              "      <script>\n",
              "        const buttonEl =\n",
              "          document.querySelector('#df-de9a7fa8-ec97-43f8-9c62-b367e5e5770d button.colab-df-convert');\n",
              "        buttonEl.style.display =\n",
              "          google.colab.kernel.accessAllowed ? 'block' : 'none';\n",
              "\n",
              "        async function convertToInteractive(key) {\n",
              "          const element = document.querySelector('#df-de9a7fa8-ec97-43f8-9c62-b367e5e5770d');\n",
              "          const dataTable =\n",
              "            await google.colab.kernel.invokeFunction('convertToInteractive',\n",
              "                                                     [key], {});\n",
              "          if (!dataTable) return;\n",
              "\n",
              "          const docLinkHtml = 'Like what you see? Visit the ' +\n",
              "            '<a target=\"_blank\" href=https://colab.research.google.com/notebooks/data_table.ipynb>data table notebook</a>'\n",
              "            + ' to learn more about interactive tables.';\n",
              "          element.innerHTML = '';\n",
              "          dataTable['output_type'] = 'display_data';\n",
              "          await google.colab.output.renderOutput(dataTable, element);\n",
              "          const docLink = document.createElement('div');\n",
              "          docLink.innerHTML = docLinkHtml;\n",
              "          element.appendChild(docLink);\n",
              "        }\n",
              "      </script>\n",
              "    </div>\n",
              "  </div>\n",
              "  "
            ],
            "text/plain": [
              "                                        Product Name  ...  Discount (%)\n",
              "0  [Malaysia 3 Year Warranty] CASIO GSHOCK King o...  ...           91%\n",
              "1  SANDA Waterproof Men Fashion Luminous Watch Me...  ...           75%\n",
              "2  READY STOCK🔥GRIMO Snova Digital Watch Women Ma...  ...           84%\n",
              "3  Ready stock F10 🔥Smart Watch Full Touch Screen...  ...           60%\n",
              "4  【Ready Stock】jam tangan perempuan korean versi...  ...           78%\n",
              "\n",
              "[5 rows x 10 columns]"
            ]
          },
          "metadata": {},
          "execution_count": 4
        }
      ]
    },
    {
      "cell_type": "code",
      "source": [
        "data_df.dtypes"
      ],
      "metadata": {
        "colab": {
          "base_uri": "https://localhost:8080/"
        },
        "id": "6C3hp_7OVE0s",
        "outputId": "ba3b75a6-660b-4d5a-e96f-876a1d026b64"
      },
      "execution_count": null,
      "outputs": [
        {
          "output_type": "execute_result",
          "data": {
            "text/plain": [
              "Product Name           object\n",
              "Total of Sold           int64\n",
              "Total of Favourite      int64\n",
              "Brand                  object\n",
              "Min Price (RM)          int64\n",
              "Max Price (RM)          int64\n",
              "Average Rating        float64\n",
              "Shipping Fee             bool\n",
              "Shop Location          object\n",
              "Discount (%)           object\n",
              "dtype: object"
            ]
          },
          "metadata": {},
          "execution_count": 5
        }
      ]
    },
    {
      "cell_type": "markdown",
      "source": [
        "##**Step 2.2: Data Cleaning & Visualization**"
      ],
      "metadata": {
        "id": "_oUOpmSw3A2W"
      }
    },
    {
      "cell_type": "markdown",
      "source": [
        "###**Product Name**"
      ],
      "metadata": {
        "id": "u2fFxU0LI2UP"
      }
    },
    {
      "cell_type": "code",
      "source": [
        "# change all words in the dataframe to lowercase\n",
        "# Reason: To ease the latter data cleaning process by avoiding situations such as 2 same words are identified as different\n",
        "#         words due to their difference in letter case \n",
        "data_df['Product Name'] = data_df['Product Name'].map(lambda x: x.lower())\n",
        "\n",
        "# replace html ampersand(&amp) to the word 'and' that exists in the dataframe\n",
        "# Reason: To avoid different representation of word with the same meaning (&amp; is the same as the word 'and')\n",
        "data_df['Product Name'] = data_df['Product Name'].map(lambda x: re.sub('&amp;', 'and', x))\n",
        "\n",
        "# remove apostrophe s that exists in the dataframe\n",
        "# Reason: Avoid possible redundancy (example: women's and women are semantically the same in this case study)\n",
        "#         Besides, symbols are not important for analysis.\n",
        "data_df['Product Name'] = data_df['Product Name'].map(lambda x: re.sub(\"('s|【|】|（|《|》)\", ' ', x))\n",
        "\n",
        "# remove punctuation\n",
        "data_df['Product Name'] = data_df['Product Name'].map(lambda x: ''.join(character for character in x if character not in list(string.punctuation)))\n",
        "\n",
        "# Reason: To assist the smooth removal of certain words without worrying that extra spaces will incur a difference between the same word.\n",
        "# Example: 'jam tangan' and 'jam  tangan'\n",
        "data_df['Product Name'] = data_df['Product Name'].map(lambda x: ' '.join(x.split()))\n",
        "\n",
        "# remove non-alphanumeric (etc. emoji)\n",
        "data_df['Product Name'] = data_df['Product Name'].str.replace(r'[^a-zA-Z ]\\s?',r'',regex=True)\n",
        "\n",
        "# Remove words that are detected to belong to words of the Malay language.\n",
        "fast_text = malaya.language_detection.fasttext()\n",
        "data_df['Product Name'] = data_df['Product Name'].map(lambda x: ' '.join(word for word in x.split() if (fast_text.predict([word])[0] != 'malay' or (word.isalnum() and not word.isalpha() and not word.isdigit()) ) ))\n"
      ],
      "metadata": {
        "colab": {
          "base_uri": "https://localhost:8080/"
        },
        "id": "icO7Vvl2HlhX",
        "outputId": "4e491977-8f5c-4e08-9992-96522f307d85"
      },
      "execution_count": null,
      "outputs": [
        {
          "output_type": "stream",
          "name": "stderr",
          "text": [
            " 78%|███████▊  | 23.0/29.6 [00:00<00:00, 28.4MB/s]/usr/local/lib/python3.7/dist-packages/tqdm/std.py:536: TqdmWarning: clamping frac to range [0, 1]\n",
            "  colour=colour)\n",
            "101%|██████████| 30.0/29.6 [00:00<00:00, 30.2MB/s]\n",
            "Warning : `load_model` does not return WordVectorModel or SupervisedModel any more, but a `FastText` object which is very similar.\n"
          ]
        }
      ]
    },
    {
      "cell_type": "code",
      "source": [
        "# Define function refine_and_remove_repeated_info to refine the process of removing malay language words\n",
        "def refine_and_remove_repeated_info(sentence):\n",
        "    sentence = re.sub('(jam tangan|jam)', '', sentence)\n",
        "    sentence = re.sub('(perempuan|wanita|female|ladies)', 'women', sentence)\n",
        "    sentence = re.sub('(lelaki|male)', 'men', sentence)\n",
        "    sentence = re.sub('(budak|kanak|children|kids)', 'kid', sentence)\n",
        "    sentence = re.sub('pasangan', 'couple', sentence)\n",
        "    sentence = re.sub('rasmi', 'official', sentence)\n",
        "    sentence = re.sub('asal', 'original', sentence)\n",
        "    sentence = re.sub('murah', 'cheap', sentence)\n",
        "\n",
        "    s = ''\n",
        "    final_lst = []\n",
        "    for w in sentence.split():\n",
        "        if w not in final_lst:\n",
        "            final_lst.append(w)\n",
        "            s += w +\" \"\n",
        "    return s.strip()"
      ],
      "metadata": {
        "id": "5_H8bjjLIcg3"
      },
      "execution_count": null,
      "outputs": []
    },
    {
      "cell_type": "code",
      "source": [
        "data_df['Product Name'] = data_df['Product Name'].apply(refine_and_remove_repeated_info)"
      ],
      "metadata": {
        "id": "opEe8eWAIe4s"
      },
      "execution_count": null,
      "outputs": []
    },
    {
      "cell_type": "code",
      "source": [
        "data_df.head(5)"
      ],
      "metadata": {
        "colab": {
          "base_uri": "https://localhost:8080/",
          "height": 354
        },
        "id": "H_BvsWrbKXk4",
        "outputId": "ea25e024-efb4-4908-c3d6-e729e9207fbf"
      },
      "execution_count": null,
      "outputs": [
        {
          "output_type": "execute_result",
          "data": {
            "text/html": [
              "\n",
              "  <div id=\"df-cc0b17d9-5327-4bc2-8e43-2a405121f057\">\n",
              "    <div class=\"colab-df-container\">\n",
              "      <div>\n",
              "<style scoped>\n",
              "    .dataframe tbody tr th:only-of-type {\n",
              "        vertical-align: middle;\n",
              "    }\n",
              "\n",
              "    .dataframe tbody tr th {\n",
              "        vertical-align: top;\n",
              "    }\n",
              "\n",
              "    .dataframe thead th {\n",
              "        text-align: right;\n",
              "    }\n",
              "</style>\n",
              "<table border=\"1\" class=\"dataframe\">\n",
              "  <thead>\n",
              "    <tr style=\"text-align: right;\">\n",
              "      <th></th>\n",
              "      <th>Product Name</th>\n",
              "      <th>Total of Sold</th>\n",
              "      <th>Total of Favourite</th>\n",
              "      <th>Brand</th>\n",
              "      <th>Min Price (RM)</th>\n",
              "      <th>Max Price (RM)</th>\n",
              "      <th>Average Rating</th>\n",
              "      <th>Shipping Fee</th>\n",
              "      <th>Shop Location</th>\n",
              "      <th>Discount (%)</th>\n",
              "    </tr>\n",
              "  </thead>\n",
              "  <tbody>\n",
              "    <tr>\n",
              "      <th>0</th>\n",
              "      <td>year warranty casio gshock king of bb dark gxb...</td>\n",
              "      <td>13996</td>\n",
              "      <td>5441</td>\n",
              "      <td>No Brand</td>\n",
              "      <td>490000</td>\n",
              "      <td>1830000</td>\n",
              "      <td>4.757587</td>\n",
              "      <td>False</td>\n",
              "      <td>Selangor</td>\n",
              "      <td>91%</td>\n",
              "    </tr>\n",
              "    <tr>\n",
              "      <th>1</th>\n",
              "      <td>sanda waterproof men fashion watch luxury casu...</td>\n",
              "      <td>54</td>\n",
              "      <td>55</td>\n",
              "      <td>NaN</td>\n",
              "      <td>2990000</td>\n",
              "      <td>2990000</td>\n",
              "      <td>4.812500</td>\n",
              "      <td>False</td>\n",
              "      <td>Mainland China</td>\n",
              "      <td>75%</td>\n",
              "    </tr>\n",
              "    <tr>\n",
              "      <th>2</th>\n",
              "      <td>ready stockgrimo snova watch women magnet watc...</td>\n",
              "      <td>25488</td>\n",
              "      <td>6927</td>\n",
              "      <td>No Brand</td>\n",
              "      <td>790000</td>\n",
              "      <td>790000</td>\n",
              "      <td>4.881279</td>\n",
              "      <td>True</td>\n",
              "      <td>Selangor</td>\n",
              "      <td>84%</td>\n",
              "    </tr>\n",
              "    <tr>\n",
              "      <th>3</th>\n",
              "      <td>ready stock fsmart watch full touch screen hea...</td>\n",
              "      <td>20537</td>\n",
              "      <td>21744</td>\n",
              "      <td>OEM</td>\n",
              "      <td>2990000</td>\n",
              "      <td>5999000</td>\n",
              "      <td>4.829460</td>\n",
              "      <td>False</td>\n",
              "      <td>Selangor</td>\n",
              "      <td>60%</td>\n",
              "    </tr>\n",
              "    <tr>\n",
              "      <th>4</th>\n",
              "      <td>ready stock korean version of women retro watc...</td>\n",
              "      <td>2357</td>\n",
              "      <td>2014</td>\n",
              "      <td>NaN</td>\n",
              "      <td>517000</td>\n",
              "      <td>747000</td>\n",
              "      <td>4.874112</td>\n",
              "      <td>False</td>\n",
              "      <td>Mainland China</td>\n",
              "      <td>78%</td>\n",
              "    </tr>\n",
              "  </tbody>\n",
              "</table>\n",
              "</div>\n",
              "      <button class=\"colab-df-convert\" onclick=\"convertToInteractive('df-cc0b17d9-5327-4bc2-8e43-2a405121f057')\"\n",
              "              title=\"Convert this dataframe to an interactive table.\"\n",
              "              style=\"display:none;\">\n",
              "        \n",
              "  <svg xmlns=\"http://www.w3.org/2000/svg\" height=\"24px\"viewBox=\"0 0 24 24\"\n",
              "       width=\"24px\">\n",
              "    <path d=\"M0 0h24v24H0V0z\" fill=\"none\"/>\n",
              "    <path d=\"M18.56 5.44l.94 2.06.94-2.06 2.06-.94-2.06-.94-.94-2.06-.94 2.06-2.06.94zm-11 1L8.5 8.5l.94-2.06 2.06-.94-2.06-.94L8.5 2.5l-.94 2.06-2.06.94zm10 10l.94 2.06.94-2.06 2.06-.94-2.06-.94-.94-2.06-.94 2.06-2.06.94z\"/><path d=\"M17.41 7.96l-1.37-1.37c-.4-.4-.92-.59-1.43-.59-.52 0-1.04.2-1.43.59L10.3 9.45l-7.72 7.72c-.78.78-.78 2.05 0 2.83L4 21.41c.39.39.9.59 1.41.59.51 0 1.02-.2 1.41-.59l7.78-7.78 2.81-2.81c.8-.78.8-2.07 0-2.86zM5.41 20L4 18.59l7.72-7.72 1.47 1.35L5.41 20z\"/>\n",
              "  </svg>\n",
              "      </button>\n",
              "      \n",
              "  <style>\n",
              "    .colab-df-container {\n",
              "      display:flex;\n",
              "      flex-wrap:wrap;\n",
              "      gap: 12px;\n",
              "    }\n",
              "\n",
              "    .colab-df-convert {\n",
              "      background-color: #E8F0FE;\n",
              "      border: none;\n",
              "      border-radius: 50%;\n",
              "      cursor: pointer;\n",
              "      display: none;\n",
              "      fill: #1967D2;\n",
              "      height: 32px;\n",
              "      padding: 0 0 0 0;\n",
              "      width: 32px;\n",
              "    }\n",
              "\n",
              "    .colab-df-convert:hover {\n",
              "      background-color: #E2EBFA;\n",
              "      box-shadow: 0px 1px 2px rgba(60, 64, 67, 0.3), 0px 1px 3px 1px rgba(60, 64, 67, 0.15);\n",
              "      fill: #174EA6;\n",
              "    }\n",
              "\n",
              "    [theme=dark] .colab-df-convert {\n",
              "      background-color: #3B4455;\n",
              "      fill: #D2E3FC;\n",
              "    }\n",
              "\n",
              "    [theme=dark] .colab-df-convert:hover {\n",
              "      background-color: #434B5C;\n",
              "      box-shadow: 0px 1px 3px 1px rgba(0, 0, 0, 0.15);\n",
              "      filter: drop-shadow(0px 1px 2px rgba(0, 0, 0, 0.3));\n",
              "      fill: #FFFFFF;\n",
              "    }\n",
              "  </style>\n",
              "\n",
              "      <script>\n",
              "        const buttonEl =\n",
              "          document.querySelector('#df-cc0b17d9-5327-4bc2-8e43-2a405121f057 button.colab-df-convert');\n",
              "        buttonEl.style.display =\n",
              "          google.colab.kernel.accessAllowed ? 'block' : 'none';\n",
              "\n",
              "        async function convertToInteractive(key) {\n",
              "          const element = document.querySelector('#df-cc0b17d9-5327-4bc2-8e43-2a405121f057');\n",
              "          const dataTable =\n",
              "            await google.colab.kernel.invokeFunction('convertToInteractive',\n",
              "                                                     [key], {});\n",
              "          if (!dataTable) return;\n",
              "\n",
              "          const docLinkHtml = 'Like what you see? Visit the ' +\n",
              "            '<a target=\"_blank\" href=https://colab.research.google.com/notebooks/data_table.ipynb>data table notebook</a>'\n",
              "            + ' to learn more about interactive tables.';\n",
              "          element.innerHTML = '';\n",
              "          dataTable['output_type'] = 'display_data';\n",
              "          await google.colab.output.renderOutput(dataTable, element);\n",
              "          const docLink = document.createElement('div');\n",
              "          docLink.innerHTML = docLinkHtml;\n",
              "          element.appendChild(docLink);\n",
              "        }\n",
              "      </script>\n",
              "    </div>\n",
              "  </div>\n",
              "  "
            ],
            "text/plain": [
              "                                        Product Name  ...  Discount (%)\n",
              "0  year warranty casio gshock king of bb dark gxb...  ...           91%\n",
              "1  sanda waterproof men fashion watch luxury casu...  ...           75%\n",
              "2  ready stockgrimo snova watch women magnet watc...  ...           84%\n",
              "3  ready stock fsmart watch full touch screen hea...  ...           60%\n",
              "4  ready stock korean version of women retro watc...  ...           78%\n",
              "\n",
              "[5 rows x 10 columns]"
            ]
          },
          "metadata": {},
          "execution_count": 9
        }
      ]
    },
    {
      "cell_type": "markdown",
      "source": [
        "###**Brand**"
      ],
      "metadata": {
        "id": "CxqpzgQFJD4Y"
      }
    },
    {
      "cell_type": "code",
      "source": [
        "#data visualisation for brand before cleaning\n",
        "#histogram\n",
        "import matplotlib.pyplot as plt\n",
        "fig, axs = plt.subplots(figsize =(40,10))\n",
        "axs.hist(data_df['Brand'])\n",
        "\n",
        "# Set title\n",
        "axs.set_title(\"Brand and Its Frequency\")\n",
        "\n",
        "# adding labels\n",
        "axs.set_xlabel('Brand')\n",
        "axs.set_ylabel('Frequency')"
      ],
      "metadata": {
        "colab": {
          "base_uri": "https://localhost:8080/",
          "height": 329
        },
        "id": "iLNd8C9XWvj_",
        "outputId": "b7ad03f4-ab5d-47b4-acf7-513f4d426d0b"
      },
      "execution_count": null,
      "outputs": [
        {
          "output_type": "execute_result",
          "data": {
            "text/plain": [
              "Text(0, 0.5, 'Frequency')"
            ]
          },
          "metadata": {},
          "execution_count": 10
        },
        {
          "output_type": "display_data",
          "data": {
            "image/png": "[encoded data removed]",
            "text/plain": [
              "<Figure size 2880x720 with 1 Axes>"
            ]
          },
          "metadata": {
            "needs_background": "light"
          }
        }
      ]
    },
    {
      "cell_type": "code",
      "source": [
        "data_df['Brand'].unique()"
      ],
      "metadata": {
        "colab": {
          "base_uri": "https://localhost:8080/"
        },
        "id": "q_7FOIWnGZPy",
        "outputId": "a4f8480a-e5f6-45d8-b454-a62058f98e23"
      },
      "execution_count": null,
      "outputs": [
        {
          "output_type": "execute_result",
          "data": {
            "text/plain": [
              "array(['No Brand', 'NaN', 'OEM', 'Hannah Martin', 'Olevs', 'Vava Voom',\n",
              "       '', 'Geneva', 'Sanda', 'HONHX', 'Wishdoit', 'WWOOR', 'Megalith',\n",
              "       'AOSUN', 'SKMEI', 'SOKI', 'Haylou', 'Huawei', 'Chronos', 'Casio',\n",
              "       'Coach', 'Forsining', 'OLEVS', 'NORTH ', 'NAVIFORCE', 'Fossil'],\n",
              "      dtype=object)"
            ]
          },
          "metadata": {},
          "execution_count": 11
        }
      ]
    },
    {
      "cell_type": "code",
      "source": [
        "data_df['Brand'] = data_df['Brand'].replace({'NaN':'No Brand', '0': 'No Brand', '': 'No Brand'})\n",
        "data_df['Brand'] = data_df['Brand'].map(lambda x: x.lower())"
      ],
      "metadata": {
        "id": "984j5UwlJDiN"
      },
      "execution_count": null,
      "outputs": []
    },
    {
      "cell_type": "code",
      "source": [
        "data_df.head(5)"
      ],
      "metadata": {
        "colab": {
          "base_uri": "https://localhost:8080/",
          "height": 354
        },
        "id": "qGV0XCh8Vv1V",
        "outputId": "3fe25632-9c0d-41f8-bc3a-cb9e4a596f21"
      },
      "execution_count": null,
      "outputs": [
        {
          "output_type": "execute_result",
          "data": {
            "text/html": [
              "\n",
              "  <div id=\"df-444d6c39-7bb1-4973-9e3d-b9b2475ad27f\">\n",
              "    <div class=\"colab-df-container\">\n",
              "      <div>\n",
              "<style scoped>\n",
              "    .dataframe tbody tr th:only-of-type {\n",
              "        vertical-align: middle;\n",
              "    }\n",
              "\n",
              "    .dataframe tbody tr th {\n",
              "        vertical-align: top;\n",
              "    }\n",
              "\n",
              "    .dataframe thead th {\n",
              "        text-align: right;\n",
              "    }\n",
              "</style>\n",
              "<table border=\"1\" class=\"dataframe\">\n",
              "  <thead>\n",
              "    <tr style=\"text-align: right;\">\n",
              "      <th></th>\n",
              "      <th>Product Name</th>\n",
              "      <th>Total of Sold</th>\n",
              "      <th>Total of Favourite</th>\n",
              "      <th>Brand</th>\n",
              "      <th>Min Price (RM)</th>\n",
              "      <th>Max Price (RM)</th>\n",
              "      <th>Average Rating</th>\n",
              "      <th>Shipping Fee</th>\n",
              "      <th>Shop Location</th>\n",
              "      <th>Discount (%)</th>\n",
              "    </tr>\n",
              "  </thead>\n",
              "  <tbody>\n",
              "    <tr>\n",
              "      <th>0</th>\n",
              "      <td>year warranty casio gshock king of bb dark gxb...</td>\n",
              "      <td>13996</td>\n",
              "      <td>5441</td>\n",
              "      <td>no brand</td>\n",
              "      <td>490000</td>\n",
              "      <td>1830000</td>\n",
              "      <td>4.757587</td>\n",
              "      <td>False</td>\n",
              "      <td>Selangor</td>\n",
              "      <td>91%</td>\n",
              "    </tr>\n",
              "    <tr>\n",
              "      <th>1</th>\n",
              "      <td>sanda waterproof men fashion watch luxury casu...</td>\n",
              "      <td>54</td>\n",
              "      <td>55</td>\n",
              "      <td>no brand</td>\n",
              "      <td>2990000</td>\n",
              "      <td>2990000</td>\n",
              "      <td>4.812500</td>\n",
              "      <td>False</td>\n",
              "      <td>Mainland China</td>\n",
              "      <td>75%</td>\n",
              "    </tr>\n",
              "    <tr>\n",
              "      <th>2</th>\n",
              "      <td>ready stockgrimo snova watch women magnet watc...</td>\n",
              "      <td>25488</td>\n",
              "      <td>6927</td>\n",
              "      <td>no brand</td>\n",
              "      <td>790000</td>\n",
              "      <td>790000</td>\n",
              "      <td>4.881279</td>\n",
              "      <td>True</td>\n",
              "      <td>Selangor</td>\n",
              "      <td>84%</td>\n",
              "    </tr>\n",
              "    <tr>\n",
              "      <th>3</th>\n",
              "      <td>ready stock fsmart watch full touch screen hea...</td>\n",
              "      <td>20537</td>\n",
              "      <td>21744</td>\n",
              "      <td>oem</td>\n",
              "      <td>2990000</td>\n",
              "      <td>5999000</td>\n",
              "      <td>4.829460</td>\n",
              "      <td>False</td>\n",
              "      <td>Selangor</td>\n",
              "      <td>60%</td>\n",
              "    </tr>\n",
              "    <tr>\n",
              "      <th>4</th>\n",
              "      <td>ready stock korean version of women retro watc...</td>\n",
              "      <td>2357</td>\n",
              "      <td>2014</td>\n",
              "      <td>no brand</td>\n",
              "      <td>517000</td>\n",
              "      <td>747000</td>\n",
              "      <td>4.874112</td>\n",
              "      <td>False</td>\n",
              "      <td>Mainland China</td>\n",
              "      <td>78%</td>\n",
              "    </tr>\n",
              "  </tbody>\n",
              "</table>\n",
              "</div>\n",
              "      <button class=\"colab-df-convert\" onclick=\"convertToInteractive('df-444d6c39-7bb1-4973-9e3d-b9b2475ad27f')\"\n",
              "              title=\"Convert this dataframe to an interactive table.\"\n",
              "              style=\"display:none;\">\n",
              "        \n",
              "  <svg xmlns=\"http://www.w3.org/2000/svg\" height=\"24px\"viewBox=\"0 0 24 24\"\n",
              "       width=\"24px\">\n",
              "    <path d=\"M0 0h24v24H0V0z\" fill=\"none\"/>\n",
              "    <path d=\"M18.56 5.44l.94 2.06.94-2.06 2.06-.94-2.06-.94-.94-2.06-.94 2.06-2.06.94zm-11 1L8.5 8.5l.94-2.06 2.06-.94-2.06-.94L8.5 2.5l-.94 2.06-2.06.94zm10 10l.94 2.06.94-2.06 2.06-.94-2.06-.94-.94-2.06-.94 2.06-2.06.94z\"/><path d=\"M17.41 7.96l-1.37-1.37c-.4-.4-.92-.59-1.43-.59-.52 0-1.04.2-1.43.59L10.3 9.45l-7.72 7.72c-.78.78-.78 2.05 0 2.83L4 21.41c.39.39.9.59 1.41.59.51 0 1.02-.2 1.41-.59l7.78-7.78 2.81-2.81c.8-.78.8-2.07 0-2.86zM5.41 20L4 18.59l7.72-7.72 1.47 1.35L5.41 20z\"/>\n",
              "  </svg>\n",
              "      </button>\n",
              "      \n",
              "  <style>\n",
              "    .colab-df-container {\n",
              "      display:flex;\n",
              "      flex-wrap:wrap;\n",
              "      gap: 12px;\n",
              "    }\n",
              "\n",
              "    .colab-df-convert {\n",
              "      background-color: #E8F0FE;\n",
              "      border: none;\n",
              "      border-radius: 50%;\n",
              "      cursor: pointer;\n",
              "      display: none;\n",
              "      fill: #1967D2;\n",
              "      height: 32px;\n",
              "      padding: 0 0 0 0;\n",
              "      width: 32px;\n",
              "    }\n",
              "\n",
              "    .colab-df-convert:hover {\n",
              "      background-color: #E2EBFA;\n",
              "      box-shadow: 0px 1px 2px rgba(60, 64, 67, 0.3), 0px 1px 3px 1px rgba(60, 64, 67, 0.15);\n",
              "      fill: #174EA6;\n",
              "    }\n",
              "\n",
              "    [theme=dark] .colab-df-convert {\n",
              "      background-color: #3B4455;\n",
              "      fill: #D2E3FC;\n",
              "    }\n",
              "\n",
              "    [theme=dark] .colab-df-convert:hover {\n",
              "      background-color: #434B5C;\n",
              "      box-shadow: 0px 1px 3px 1px rgba(0, 0, 0, 0.15);\n",
              "      filter: drop-shadow(0px 1px 2px rgba(0, 0, 0, 0.3));\n",
              "      fill: #FFFFFF;\n",
              "    }\n",
              "  </style>\n",
              "\n",
              "      <script>\n",
              "        const buttonEl =\n",
              "          document.querySelector('#df-444d6c39-7bb1-4973-9e3d-b9b2475ad27f button.colab-df-convert');\n",
              "        buttonEl.style.display =\n",
              "          google.colab.kernel.accessAllowed ? 'block' : 'none';\n",
              "\n",
              "        async function convertToInteractive(key) {\n",
              "          const element = document.querySelector('#df-444d6c39-7bb1-4973-9e3d-b9b2475ad27f');\n",
              "          const dataTable =\n",
              "            await google.colab.kernel.invokeFunction('convertToInteractive',\n",
              "                                                     [key], {});\n",
              "          if (!dataTable) return;\n",
              "\n",
              "          const docLinkHtml = 'Like what you see? Visit the ' +\n",
              "            '<a target=\"_blank\" href=https://colab.research.google.com/notebooks/data_table.ipynb>data table notebook</a>'\n",
              "            + ' to learn more about interactive tables.';\n",
              "          element.innerHTML = '';\n",
              "          dataTable['output_type'] = 'display_data';\n",
              "          await google.colab.output.renderOutput(dataTable, element);\n",
              "          const docLink = document.createElement('div');\n",
              "          docLink.innerHTML = docLinkHtml;\n",
              "          element.appendChild(docLink);\n",
              "        }\n",
              "      </script>\n",
              "    </div>\n",
              "  </div>\n",
              "  "
            ],
            "text/plain": [
              "                                        Product Name  ...  Discount (%)\n",
              "0  year warranty casio gshock king of bb dark gxb...  ...           91%\n",
              "1  sanda waterproof men fashion watch luxury casu...  ...           75%\n",
              "2  ready stockgrimo snova watch women magnet watc...  ...           84%\n",
              "3  ready stock fsmart watch full touch screen hea...  ...           60%\n",
              "4  ready stock korean version of women retro watc...  ...           78%\n",
              "\n",
              "[5 rows x 10 columns]"
            ]
          },
          "metadata": {},
          "execution_count": 13
        }
      ]
    },
    {
      "cell_type": "markdown",
      "source": [
        "Data Visualisation for Brand after removing outliers"
      ],
      "metadata": {
        "id": "uV06Xgcb4D1s"
      }
    },
    {
      "cell_type": "code",
      "source": [
        "#data visualisation for brand after cleaning\n",
        "#histogram\n",
        "import matplotlib.pyplot as plt\n",
        "fig, axs = plt.subplots(figsize =(40,10))\n",
        "axs.hist(data_df['Brand'])\n",
        "\n",
        "# Set title\n",
        "axs.set_title(\"Brand and Its Frequency\")\n",
        "\n",
        "# adding labels\n",
        "axs.set_xlabel('Brand')\n",
        "axs.set_ylabel('Frequency')"
      ],
      "metadata": {
        "colab": {
          "base_uri": "https://localhost:8080/",
          "height": 329
        },
        "id": "dn1pGOG3XPaH",
        "outputId": "76fa9c19-6630-43ab-a363-d390e26ce8af"
      },
      "execution_count": null,
      "outputs": [
        {
          "output_type": "execute_result",
          "data": {
            "text/plain": [
              "Text(0, 0.5, 'Frequency')"
            ]
          },
          "metadata": {},
          "execution_count": 14
        },
        {
          "output_type": "display_data",
          "data": {
            "image/png": "[encoded data removed]",
            "text/plain": [
              "<Figure size 2880x720 with 1 Axes>"
            ]
          },
          "metadata": {
            "needs_background": "light"
          }
        }
      ]
    },
    {
      "cell_type": "markdown",
      "source": [
        "###**Shop Location**"
      ],
      "metadata": {
        "id": "cseQEPVdK50E"
      }
    },
    {
      "cell_type": "code",
      "source": [
        "data_df['Shop Location'].unique()"
      ],
      "metadata": {
        "colab": {
          "base_uri": "https://localhost:8080/"
        },
        "id": "X88WgElLK-ND",
        "outputId": "c980169c-7c39-443d-bb7b-0c1147355bf3"
      },
      "execution_count": null,
      "outputs": [
        {
          "output_type": "execute_result",
          "data": {
            "text/plain": [
              "array(['Selangor', 'Mainland China', 'Kuala Lumpur', 'Penang', 'Johor',\n",
              "       'Kelantan', 'Kedah'], dtype=object)"
            ]
          },
          "metadata": {},
          "execution_count": 15
        }
      ]
    },
    {
      "cell_type": "markdown",
      "source": [
        "###**Price, Discount, Average Rating**"
      ],
      "metadata": {
        "id": "HqKbgw5GKlM0"
      }
    },
    {
      "cell_type": "code",
      "source": [
        "data_df.describe()"
      ],
      "metadata": {
        "colab": {
          "base_uri": "https://localhost:8080/",
          "height": 300
        },
        "id": "0l-drEfhDQAM",
        "outputId": "7aebfbb1-4328-4390-8541-1941021d67ca"
      },
      "execution_count": null,
      "outputs": [
        {
          "output_type": "execute_result",
          "data": {
            "text/html": [
              "\n",
              "  <div id=\"df-df0d82bd-dcf2-40bc-a920-6e37f7d25058\">\n",
              "    <div class=\"colab-df-container\">\n",
              "      <div>\n",
              "<style scoped>\n",
              "    .dataframe tbody tr th:only-of-type {\n",
              "        vertical-align: middle;\n",
              "    }\n",
              "\n",
              "    .dataframe tbody tr th {\n",
              "        vertical-align: top;\n",
              "    }\n",
              "\n",
              "    .dataframe thead th {\n",
              "        text-align: right;\n",
              "    }\n",
              "</style>\n",
              "<table border=\"1\" class=\"dataframe\">\n",
              "  <thead>\n",
              "    <tr style=\"text-align: right;\">\n",
              "      <th></th>\n",
              "      <th>Total of Sold</th>\n",
              "      <th>Total of Favourite</th>\n",
              "      <th>Min Price (RM)</th>\n",
              "      <th>Max Price (RM)</th>\n",
              "      <th>Average Rating</th>\n",
              "    </tr>\n",
              "  </thead>\n",
              "  <tbody>\n",
              "    <tr>\n",
              "      <th>count</th>\n",
              "      <td>200.000000</td>\n",
              "      <td>200.000000</td>\n",
              "      <td>2.000000e+02</td>\n",
              "      <td>2.000000e+02</td>\n",
              "      <td>200.000000</td>\n",
              "    </tr>\n",
              "    <tr>\n",
              "      <th>mean</th>\n",
              "      <td>3737.965000</td>\n",
              "      <td>1780.295000</td>\n",
              "      <td>6.346575e+06</td>\n",
              "      <td>7.715645e+06</td>\n",
              "      <td>4.771384</td>\n",
              "    </tr>\n",
              "    <tr>\n",
              "      <th>std</th>\n",
              "      <td>9248.078367</td>\n",
              "      <td>3135.301506</td>\n",
              "      <td>1.438004e+07</td>\n",
              "      <td>1.821230e+07</td>\n",
              "      <td>0.688251</td>\n",
              "    </tr>\n",
              "    <tr>\n",
              "      <th>min</th>\n",
              "      <td>0.000000</td>\n",
              "      <td>0.000000</td>\n",
              "      <td>5.900000e+04</td>\n",
              "      <td>5.900000e+04</td>\n",
              "      <td>0.000000</td>\n",
              "    </tr>\n",
              "    <tr>\n",
              "      <th>25%</th>\n",
              "      <td>318.000000</td>\n",
              "      <td>272.750000</td>\n",
              "      <td>9.000000e+05</td>\n",
              "      <td>1.245250e+06</td>\n",
              "      <td>4.815406</td>\n",
              "    </tr>\n",
              "    <tr>\n",
              "      <th>50%</th>\n",
              "      <td>883.500000</td>\n",
              "      <td>638.000000</td>\n",
              "      <td>2.980000e+06</td>\n",
              "      <td>3.294000e+06</td>\n",
              "      <td>4.882965</td>\n",
              "    </tr>\n",
              "    <tr>\n",
              "      <th>75%</th>\n",
              "      <td>2424.000000</td>\n",
              "      <td>1983.250000</td>\n",
              "      <td>5.770000e+06</td>\n",
              "      <td>6.212250e+06</td>\n",
              "      <td>4.929221</td>\n",
              "    </tr>\n",
              "    <tr>\n",
              "      <th>max</th>\n",
              "      <td>81270.000000</td>\n",
              "      <td>21744.000000</td>\n",
              "      <td>1.199000e+08</td>\n",
              "      <td>1.299000e+08</td>\n",
              "      <td>5.000000</td>\n",
              "    </tr>\n",
              "  </tbody>\n",
              "</table>\n",
              "</div>\n",
              "      <button class=\"colab-df-convert\" onclick=\"convertToInteractive('df-df0d82bd-dcf2-40bc-a920-6e37f7d25058')\"\n",
              "              title=\"Convert this dataframe to an interactive table.\"\n",
              "              style=\"display:none;\">\n",
              "        \n",
              "  <svg xmlns=\"http://www.w3.org/2000/svg\" height=\"24px\"viewBox=\"0 0 24 24\"\n",
              "       width=\"24px\">\n",
              "    <path d=\"M0 0h24v24H0V0z\" fill=\"none\"/>\n",
              "    <path d=\"M18.56 5.44l.94 2.06.94-2.06 2.06-.94-2.06-.94-.94-2.06-.94 2.06-2.06.94zm-11 1L8.5 8.5l.94-2.06 2.06-.94-2.06-.94L8.5 2.5l-.94 2.06-2.06.94zm10 10l.94 2.06.94-2.06 2.06-.94-2.06-.94-.94-2.06-.94 2.06-2.06.94z\"/><path d=\"M17.41 7.96l-1.37-1.37c-.4-.4-.92-.59-1.43-.59-.52 0-1.04.2-1.43.59L10.3 9.45l-7.72 7.72c-.78.78-.78 2.05 0 2.83L4 21.41c.39.39.9.59 1.41.59.51 0 1.02-.2 1.41-.59l7.78-7.78 2.81-2.81c.8-.78.8-2.07 0-2.86zM5.41 20L4 18.59l7.72-7.72 1.47 1.35L5.41 20z\"/>\n",
              "  </svg>\n",
              "      </button>\n",
              "      \n",
              "  <style>\n",
              "    .colab-df-container {\n",
              "      display:flex;\n",
              "      flex-wrap:wrap;\n",
              "      gap: 12px;\n",
              "    }\n",
              "\n",
              "    .colab-df-convert {\n",
              "      background-color: #E8F0FE;\n",
              "      border: none;\n",
              "      border-radius: 50%;\n",
              "      cursor: pointer;\n",
              "      display: none;\n",
              "      fill: #1967D2;\n",
              "      height: 32px;\n",
              "      padding: 0 0 0 0;\n",
              "      width: 32px;\n",
              "    }\n",
              "\n",
              "    .colab-df-convert:hover {\n",
              "      background-color: #E2EBFA;\n",
              "      box-shadow: 0px 1px 2px rgba(60, 64, 67, 0.3), 0px 1px 3px 1px rgba(60, 64, 67, 0.15);\n",
              "      fill: #174EA6;\n",
              "    }\n",
              "\n",
              "    [theme=dark] .colab-df-convert {\n",
              "      background-color: #3B4455;\n",
              "      fill: #D2E3FC;\n",
              "    }\n",
              "\n",
              "    [theme=dark] .colab-df-convert:hover {\n",
              "      background-color: #434B5C;\n",
              "      box-shadow: 0px 1px 3px 1px rgba(0, 0, 0, 0.15);\n",
              "      filter: drop-shadow(0px 1px 2px rgba(0, 0, 0, 0.3));\n",
              "      fill: #FFFFFF;\n",
              "    }\n",
              "  </style>\n",
              "\n",
              "      <script>\n",
              "        const buttonEl =\n",
              "          document.querySelector('#df-df0d82bd-dcf2-40bc-a920-6e37f7d25058 button.colab-df-convert');\n",
              "        buttonEl.style.display =\n",
              "          google.colab.kernel.accessAllowed ? 'block' : 'none';\n",
              "\n",
              "        async function convertToInteractive(key) {\n",
              "          const element = document.querySelector('#df-df0d82bd-dcf2-40bc-a920-6e37f7d25058');\n",
              "          const dataTable =\n",
              "            await google.colab.kernel.invokeFunction('convertToInteractive',\n",
              "                                                     [key], {});\n",
              "          if (!dataTable) return;\n",
              "\n",
              "          const docLinkHtml = 'Like what you see? Visit the ' +\n",
              "            '<a target=\"_blank\" href=https://colab.research.google.com/notebooks/data_table.ipynb>data table notebook</a>'\n",
              "            + ' to learn more about interactive tables.';\n",
              "          element.innerHTML = '';\n",
              "          dataTable['output_type'] = 'display_data';\n",
              "          await google.colab.output.renderOutput(dataTable, element);\n",
              "          const docLink = document.createElement('div');\n",
              "          docLink.innerHTML = docLinkHtml;\n",
              "          element.appendChild(docLink);\n",
              "        }\n",
              "      </script>\n",
              "    </div>\n",
              "  </div>\n",
              "  "
            ],
            "text/plain": [
              "       Total of Sold  Total of Favourite  ...  Max Price (RM)  Average Rating\n",
              "count     200.000000          200.000000  ...    2.000000e+02      200.000000\n",
              "mean     3737.965000         1780.295000  ...    7.715645e+06        4.771384\n",
              "std      9248.078367         3135.301506  ...    1.821230e+07        0.688251\n",
              "min         0.000000            0.000000  ...    5.900000e+04        0.000000\n",
              "25%       318.000000          272.750000  ...    1.245250e+06        4.815406\n",
              "50%       883.500000          638.000000  ...    3.294000e+06        4.882965\n",
              "75%      2424.000000         1983.250000  ...    6.212250e+06        4.929221\n",
              "max     81270.000000        21744.000000  ...    1.299000e+08        5.000000\n",
              "\n",
              "[8 rows x 5 columns]"
            ]
          },
          "metadata": {},
          "execution_count": 16
        }
      ]
    },
    {
      "cell_type": "code",
      "source": [
        "data_df[\"Min Price (RM)\"] = data_df['Min Price (RM)']/100000\n",
        "data_df[\"Max Price (RM)\"] = data_df['Max Price (RM)']/100000\n",
        "data_df[\"Discount (%)\"] = data_df['Discount (%)'].replace({'%': ''}, regex=True).map(pd.eval).astype(int)\n",
        "data_df['Average Rating'] = data_df['Average Rating'].round(2)"
      ],
      "metadata": {
        "id": "k6etBS0jTrSd"
      },
      "execution_count": null,
      "outputs": []
    },
    {
      "cell_type": "code",
      "source": [
        "data_df.head(5)"
      ],
      "metadata": {
        "colab": {
          "base_uri": "https://localhost:8080/",
          "height": 354
        },
        "id": "XyrZpPo_L28R",
        "outputId": "fd784ca3-fd08-4c0f-af23-c954a4754214"
      },
      "execution_count": null,
      "outputs": [
        {
          "output_type": "execute_result",
          "data": {
            "text/html": [
              "\n",
              "  <div id=\"df-ff463788-1f8b-4e69-8452-f1fd20354d67\">\n",
              "    <div class=\"colab-df-container\">\n",
              "      <div>\n",
              "<style scoped>\n",
              "    .dataframe tbody tr th:only-of-type {\n",
              "        vertical-align: middle;\n",
              "    }\n",
              "\n",
              "    .dataframe tbody tr th {\n",
              "        vertical-align: top;\n",
              "    }\n",
              "\n",
              "    .dataframe thead th {\n",
              "        text-align: right;\n",
              "    }\n",
              "</style>\n",
              "<table border=\"1\" class=\"dataframe\">\n",
              "  <thead>\n",
              "    <tr style=\"text-align: right;\">\n",
              "      <th></th>\n",
              "      <th>Product Name</th>\n",
              "      <th>Total of Sold</th>\n",
              "      <th>Total of Favourite</th>\n",
              "      <th>Brand</th>\n",
              "      <th>Min Price (RM)</th>\n",
              "      <th>Max Price (RM)</th>\n",
              "      <th>Average Rating</th>\n",
              "      <th>Shipping Fee</th>\n",
              "      <th>Shop Location</th>\n",
              "      <th>Discount (%)</th>\n",
              "    </tr>\n",
              "  </thead>\n",
              "  <tbody>\n",
              "    <tr>\n",
              "      <th>0</th>\n",
              "      <td>year warranty casio gshock king of bb dark gxb...</td>\n",
              "      <td>13996</td>\n",
              "      <td>5441</td>\n",
              "      <td>no brand</td>\n",
              "      <td>4.90</td>\n",
              "      <td>18.30</td>\n",
              "      <td>4.76</td>\n",
              "      <td>False</td>\n",
              "      <td>Selangor</td>\n",
              "      <td>91</td>\n",
              "    </tr>\n",
              "    <tr>\n",
              "      <th>1</th>\n",
              "      <td>sanda waterproof men fashion watch luxury casu...</td>\n",
              "      <td>54</td>\n",
              "      <td>55</td>\n",
              "      <td>no brand</td>\n",
              "      <td>29.90</td>\n",
              "      <td>29.90</td>\n",
              "      <td>4.81</td>\n",
              "      <td>False</td>\n",
              "      <td>Mainland China</td>\n",
              "      <td>75</td>\n",
              "    </tr>\n",
              "    <tr>\n",
              "      <th>2</th>\n",
              "      <td>ready stockgrimo snova watch women magnet watc...</td>\n",
              "      <td>25488</td>\n",
              "      <td>6927</td>\n",
              "      <td>no brand</td>\n",
              "      <td>7.90</td>\n",
              "      <td>7.90</td>\n",
              "      <td>4.88</td>\n",
              "      <td>True</td>\n",
              "      <td>Selangor</td>\n",
              "      <td>84</td>\n",
              "    </tr>\n",
              "    <tr>\n",
              "      <th>3</th>\n",
              "      <td>ready stock fsmart watch full touch screen hea...</td>\n",
              "      <td>20537</td>\n",
              "      <td>21744</td>\n",
              "      <td>oem</td>\n",
              "      <td>29.90</td>\n",
              "      <td>59.99</td>\n",
              "      <td>4.83</td>\n",
              "      <td>False</td>\n",
              "      <td>Selangor</td>\n",
              "      <td>60</td>\n",
              "    </tr>\n",
              "    <tr>\n",
              "      <th>4</th>\n",
              "      <td>ready stock korean version of women retro watc...</td>\n",
              "      <td>2357</td>\n",
              "      <td>2014</td>\n",
              "      <td>no brand</td>\n",
              "      <td>5.17</td>\n",
              "      <td>7.47</td>\n",
              "      <td>4.87</td>\n",
              "      <td>False</td>\n",
              "      <td>Mainland China</td>\n",
              "      <td>78</td>\n",
              "    </tr>\n",
              "  </tbody>\n",
              "</table>\n",
              "</div>\n",
              "      <button class=\"colab-df-convert\" onclick=\"convertToInteractive('df-ff463788-1f8b-4e69-8452-f1fd20354d67')\"\n",
              "              title=\"Convert this dataframe to an interactive table.\"\n",
              "              style=\"display:none;\">\n",
              "        \n",
              "  <svg xmlns=\"http://www.w3.org/2000/svg\" height=\"24px\"viewBox=\"0 0 24 24\"\n",
              "       width=\"24px\">\n",
              "    <path d=\"M0 0h24v24H0V0z\" fill=\"none\"/>\n",
              "    <path d=\"M18.56 5.44l.94 2.06.94-2.06 2.06-.94-2.06-.94-.94-2.06-.94 2.06-2.06.94zm-11 1L8.5 8.5l.94-2.06 2.06-.94-2.06-.94L8.5 2.5l-.94 2.06-2.06.94zm10 10l.94 2.06.94-2.06 2.06-.94-2.06-.94-.94-2.06-.94 2.06-2.06.94z\"/><path d=\"M17.41 7.96l-1.37-1.37c-.4-.4-.92-.59-1.43-.59-.52 0-1.04.2-1.43.59L10.3 9.45l-7.72 7.72c-.78.78-.78 2.05 0 2.83L4 21.41c.39.39.9.59 1.41.59.51 0 1.02-.2 1.41-.59l7.78-7.78 2.81-2.81c.8-.78.8-2.07 0-2.86zM5.41 20L4 18.59l7.72-7.72 1.47 1.35L5.41 20z\"/>\n",
              "  </svg>\n",
              "      </button>\n",
              "      \n",
              "  <style>\n",
              "    .colab-df-container {\n",
              "      display:flex;\n",
              "      flex-wrap:wrap;\n",
              "      gap: 12px;\n",
              "    }\n",
              "\n",
              "    .colab-df-convert {\n",
              "      background-color: #E8F0FE;\n",
              "      border: none;\n",
              "      border-radius: 50%;\n",
              "      cursor: pointer;\n",
              "      display: none;\n",
              "      fill: #1967D2;\n",
              "      height: 32px;\n",
              "      padding: 0 0 0 0;\n",
              "      width: 32px;\n",
              "    }\n",
              "\n",
              "    .colab-df-convert:hover {\n",
              "      background-color: #E2EBFA;\n",
              "      box-shadow: 0px 1px 2px rgba(60, 64, 67, 0.3), 0px 1px 3px 1px rgba(60, 64, 67, 0.15);\n",
              "      fill: #174EA6;\n",
              "    }\n",
              "\n",
              "    [theme=dark] .colab-df-convert {\n",
              "      background-color: #3B4455;\n",
              "      fill: #D2E3FC;\n",
              "    }\n",
              "\n",
              "    [theme=dark] .colab-df-convert:hover {\n",
              "      background-color: #434B5C;\n",
              "      box-shadow: 0px 1px 3px 1px rgba(0, 0, 0, 0.15);\n",
              "      filter: drop-shadow(0px 1px 2px rgba(0, 0, 0, 0.3));\n",
              "      fill: #FFFFFF;\n",
              "    }\n",
              "  </style>\n",
              "\n",
              "      <script>\n",
              "        const buttonEl =\n",
              "          document.querySelector('#df-ff463788-1f8b-4e69-8452-f1fd20354d67 button.colab-df-convert');\n",
              "        buttonEl.style.display =\n",
              "          google.colab.kernel.accessAllowed ? 'block' : 'none';\n",
              "\n",
              "        async function convertToInteractive(key) {\n",
              "          const element = document.querySelector('#df-ff463788-1f8b-4e69-8452-f1fd20354d67');\n",
              "          const dataTable =\n",
              "            await google.colab.kernel.invokeFunction('convertToInteractive',\n",
              "                                                     [key], {});\n",
              "          if (!dataTable) return;\n",
              "\n",
              "          const docLinkHtml = 'Like what you see? Visit the ' +\n",
              "            '<a target=\"_blank\" href=https://colab.research.google.com/notebooks/data_table.ipynb>data table notebook</a>'\n",
              "            + ' to learn more about interactive tables.';\n",
              "          element.innerHTML = '';\n",
              "          dataTable['output_type'] = 'display_data';\n",
              "          await google.colab.output.renderOutput(dataTable, element);\n",
              "          const docLink = document.createElement('div');\n",
              "          docLink.innerHTML = docLinkHtml;\n",
              "          element.appendChild(docLink);\n",
              "        }\n",
              "      </script>\n",
              "    </div>\n",
              "  </div>\n",
              "  "
            ],
            "text/plain": [
              "                                        Product Name  ...  Discount (%)\n",
              "0  year warranty casio gshock king of bb dark gxb...  ...            91\n",
              "1  sanda waterproof men fashion watch luxury casu...  ...            75\n",
              "2  ready stockgrimo snova watch women magnet watc...  ...            84\n",
              "3  ready stock fsmart watch full touch screen hea...  ...            60\n",
              "4  ready stock korean version of women retro watc...  ...            78\n",
              "\n",
              "[5 rows x 10 columns]"
            ]
          },
          "metadata": {},
          "execution_count": 18
        }
      ]
    },
    {
      "cell_type": "markdown",
      "source": [
        "Data Visualisation for Average Rating, Min and Max Price before and after removing outliers"
      ],
      "metadata": {
        "id": "6hz0Ekkkb3gj"
      }
    },
    {
      "cell_type": "code",
      "source": [
        "#data visualization for average rating before remove outliers\n",
        "rating = data_df['Average Rating']\n",
        "\n",
        "#boxplot\n",
        "import matplotlib.pyplot as plt\n",
        "import seaborn as sns\n",
        "\n",
        "plt.figure(figsize=(30,10))\n",
        "sns.boxplot(x=rating) #boxplot using seaborn"
      ],
      "metadata": {
        "colab": {
          "base_uri": "https://localhost:8080/",
          "height": 422
        },
        "id": "Cj4BOmmvJSHW",
        "outputId": "c6020764-500a-4017-ac10-db0821f1eff8"
      },
      "execution_count": null,
      "outputs": [
        {
          "output_type": "execute_result",
          "data": {
            "text/plain": [
              "<matplotlib.axes._subplots.AxesSubplot at 0x7f6a126b33d0>"
            ]
          },
          "metadata": {},
          "execution_count": 19
        },
        {
          "output_type": "display_data",
          "data": {
            "image/png": "[encoded data removed]",
            "text/plain": [
              "<Figure size 2160x720 with 1 Axes>"
            ]
          },
          "metadata": {
            "needs_background": "light"
          }
        }
      ]
    },
    {
      "cell_type": "code",
      "source": [
        "#function to calculate boxplot\n",
        "def find_boundaries(df, col):\n",
        "  Q1=df[col].quantile(0.25)\n",
        "  Q3=df[col].quantile(0.75)\n",
        "  IQR=Q3-Q1\n",
        "  lower_boundary=Q1- 1.5*IQR\n",
        "  upper_boundary=Q3+ 1.5*IQR\n",
        "\n",
        "  return lower_boundary, upper_boundary"
      ],
      "metadata": {
        "id": "B7MUI1voOGek"
      },
      "execution_count": null,
      "outputs": []
    },
    {
      "cell_type": "code",
      "source": [
        "lower_bound, upper_bound = find_boundaries(data_df,'Average Rating')\n",
        "print('lower boundary: ',lower_bound)\n",
        "print('upper boundary: ', upper_bound)\n",
        "\n",
        "data_df['Average Rating']=np.where(data_df['Average Rating']>upper_bound, upper_bound,\n",
        "                          np.where(data_df['Average Rating']<lower_bound, lower_bound, data_df['Average Rating']))"
      ],
      "metadata": {
        "colab": {
          "base_uri": "https://localhost:8080/"
        },
        "id": "_mPS-ZFlJ0Sp",
        "outputId": "2f6b7de6-5f11-4a70-b048-5390a5447b5e"
      },
      "execution_count": null,
      "outputs": [
        {
          "output_type": "stream",
          "name": "stdout",
          "text": [
            "lower boundary:  4.64875\n",
            "upper boundary:  5.098749999999999\n"
          ]
        }
      ]
    },
    {
      "cell_type": "code",
      "source": [
        "#average rating after remove outliers\n",
        "plt.figure(figsize=(30,10))\n",
        "sns.boxplot(x=rating)"
      ],
      "metadata": {
        "colab": {
          "base_uri": "https://localhost:8080/",
          "height": 422
        },
        "id": "NOY2usuLOdUS",
        "outputId": "d69b2856-4fc4-4d73-8655-5b3dab2f61b4"
      },
      "execution_count": null,
      "outputs": [
        {
          "output_type": "execute_result",
          "data": {
            "text/plain": [
              "<matplotlib.axes._subplots.AxesSubplot at 0x7f6a115f8750>"
            ]
          },
          "metadata": {},
          "execution_count": 22
        },
        {
          "output_type": "display_data",
          "data": {
            "image/png": "[encoded data removed]",
            "text/plain": [
              "<Figure size 2160x720 with 1 Axes>"
            ]
          },
          "metadata": {
            "needs_background": "light"
          }
        }
      ]
    },
    {
      "cell_type": "code",
      "source": [
        "#data visualization for maximum price before remove outliers\n",
        "maxprice = data_df['Max Price (RM)']\n",
        "\n",
        "plt.figure(figsize=(40,10))\n",
        "sns.boxplot(x=maxprice) #boxplot using seaborn"
      ],
      "metadata": {
        "colab": {
          "base_uri": "https://localhost:8080/",
          "height": 326
        },
        "id": "BZ7tgIDKRLDJ",
        "outputId": "fbb6b409-6b0e-47cd-e00a-2ed23977f4ea"
      },
      "execution_count": null,
      "outputs": [
        {
          "output_type": "execute_result",
          "data": {
            "text/plain": [
              "<matplotlib.axes._subplots.AxesSubplot at 0x7f6a115f8350>"
            ]
          },
          "metadata": {},
          "execution_count": 23
        },
        {
          "output_type": "display_data",
          "data": {
            "image/png": "[encoded data removed]",
            "text/plain": [
              "<Figure size 2880x720 with 1 Axes>"
            ]
          },
          "metadata": {
            "needs_background": "light"
          }
        }
      ]
    },
    {
      "cell_type": "code",
      "source": [
        "lower_bound, upper_bound = find_boundaries(data_df,'Max Price (RM)')\n",
        "print('lower boundary: ',lower_bound)\n",
        "print('upper boundary: ', upper_bound)\n",
        "\n",
        "data_df['Max Price (RM)']=np.where(data_df['Max Price (RM)']>upper_bound, upper_bound,\n",
        "                          np.where(data_df['Max Price (RM)']<lower_bound, lower_bound, data_df['Max Price (RM)']))"
      ],
      "metadata": {
        "colab": {
          "base_uri": "https://localhost:8080/"
        },
        "id": "exxKp0xiRcnu",
        "outputId": "189051c1-ac1f-4a50-91ae-e36205eeb5a4"
      },
      "execution_count": null,
      "outputs": [
        {
          "output_type": "stream",
          "name": "stdout",
          "text": [
            "lower boundary:  -62.052499999999995\n",
            "upper boundary:  136.6275\n"
          ]
        }
      ]
    },
    {
      "cell_type": "code",
      "source": [
        "#max price after remove outliers\n",
        "plt.figure(figsize=(40,10))\n",
        "sns.boxplot(x=maxprice)"
      ],
      "metadata": {
        "colab": {
          "base_uri": "https://localhost:8080/",
          "height": 326
        },
        "id": "NhjKGTNLRwAt",
        "outputId": "eb0565a8-04e9-44bd-bb50-21bd5481ff5a"
      },
      "execution_count": null,
      "outputs": [
        {
          "output_type": "execute_result",
          "data": {
            "text/plain": [
              "<matplotlib.axes._subplots.AxesSubplot at 0x7f6a11586190>"
            ]
          },
          "metadata": {},
          "execution_count": 25
        },
        {
          "output_type": "display_data",
          "data": {
            "image/png": "[encoded data removed]",
            "text/plain": [
              "<Figure size 2880x720 with 1 Axes>"
            ]
          },
          "metadata": {
            "needs_background": "light"
          }
        }
      ]
    },
    {
      "cell_type": "markdown",
      "source": [
        "**Data Visualisation for Minimum Price**"
      ],
      "metadata": {
        "id": "lJoutGl3U9FF"
      }
    },
    {
      "cell_type": "code",
      "source": [
        "#data visualization for minimum price before remove outliers\n",
        "minprice = data_df['Min Price (RM)']\n",
        "\n",
        "plt.figure(figsize=(40,10))\n",
        "sns.boxplot(x=minprice) #boxplot using seaborn"
      ],
      "metadata": {
        "colab": {
          "base_uri": "https://localhost:8080/",
          "height": 326
        },
        "id": "JVSR13ZhTK3I",
        "outputId": "5bd67896-8691-4f52-c3ed-b2af2cfb4e2e"
      },
      "execution_count": null,
      "outputs": [
        {
          "output_type": "execute_result",
          "data": {
            "text/plain": [
              "<matplotlib.axes._subplots.AxesSubplot at 0x7f6a114dc0d0>"
            ]
          },
          "metadata": {},
          "execution_count": 26
        },
        {
          "output_type": "display_data",
          "data": {
            "image/png": "[encoded data removed]",
            "text/plain": [
              "<Figure size 2880x720 with 1 Axes>"
            ]
          },
          "metadata": {
            "needs_background": "light"
          }
        }
      ]
    },
    {
      "cell_type": "code",
      "source": [
        "lower_bound, upper_bound = find_boundaries(data_df,'Min Price (RM)')\n",
        "print('lower boundary: ',lower_bound)\n",
        "print('upper boundary: ', upper_bound)\n",
        "\n",
        "data_df['Min Price (RM)']=np.where(data_df['Min Price (RM)']>upper_bound, upper_bound,\n",
        "                          np.where(data_df['Min Price (RM)']<lower_bound, lower_bound, data_df['Min Price (RM)']))"
      ],
      "metadata": {
        "colab": {
          "base_uri": "https://localhost:8080/"
        },
        "id": "Q3nGtm1mUVCf",
        "outputId": "098991e1-32b7-42e5-f759-e193ac8f712f"
      },
      "execution_count": null,
      "outputs": [
        {
          "output_type": "stream",
          "name": "stdout",
          "text": [
            "lower boundary:  -64.05000000000001\n",
            "upper boundary:  130.75\n"
          ]
        }
      ]
    },
    {
      "cell_type": "code",
      "source": [
        "#min price after remove outliers\n",
        "plt.figure(figsize=(40,10))\n",
        "sns.boxplot(x=minprice)"
      ],
      "metadata": {
        "colab": {
          "base_uri": "https://localhost:8080/",
          "height": 326
        },
        "id": "aeZAGFd6UbOv",
        "outputId": "4d51b5b5-7174-43ea-efeb-8dd9de909add"
      },
      "execution_count": null,
      "outputs": [
        {
          "output_type": "execute_result",
          "data": {
            "text/plain": [
              "<matplotlib.axes._subplots.AxesSubplot at 0x7f6a11493b50>"
            ]
          },
          "metadata": {},
          "execution_count": 28
        },
        {
          "output_type": "display_data",
          "data": {
            "image/png": "[encoded data removed]",
            "text/plain": [
              "<Figure size 2880x720 with 1 Axes>"
            ]
          },
          "metadata": {
            "needs_background": "light"
          }
        }
      ]
    },
    {
      "cell_type": "markdown",
      "source": [
        "#**Step 3: Load**"
      ],
      "metadata": {
        "id": "oBdhAX244Sd5"
      }
    },
    {
      "cell_type": "code",
      "metadata": {
        "id": "YT7cI8hzcj4a",
        "colab": {
          "base_uri": "https://localhost:8080/"
        },
        "outputId": "3ec00b93-47a5-43a8-b2ce-eda72f64a485"
      },
      "source": [
        "from google.colab import drive\n",
        "drive.mount('drive')"
      ],
      "execution_count": null,
      "outputs": [
        {
          "output_type": "stream",
          "name": "stdout",
          "text": [
            "Mounted at drive\n"
          ]
        }
      ]
    },
    {
      "cell_type": "markdown",
      "metadata": {
        "id": "nKNuqQPGcj4b"
      },
      "source": [
        "CSV file saved in google drive."
      ]
    },
    {
      "cell_type": "code",
      "metadata": {
        "id": "XuPFM7FEcj4b"
      },
      "source": [
        "data_df.to_csv('/content/drive/My Drive/de_scrape_data.csv', encoding='utf-8', index=False)"
      ],
      "execution_count": null,
      "outputs": []
    },
    {
      "cell_type": "markdown",
      "source": [
        "##**Step 4: Visualization**"
      ],
      "metadata": {
        "id": "hlc9QVls4c32"
      }
    },
    {
      "cell_type": "code",
      "source": [
        "#max price and total sold\n",
        "sns.lmplot(x='Max Price (RM)',y='Total of Sold',data=data_df,fit_reg=True, height=8)"
      ],
      "metadata": {
        "colab": {
          "base_uri": "https://localhost:8080/",
          "height": 602
        },
        "id": "PPy0-UwWVMOP",
        "outputId": "c3df7ede-c841-4a16-91fc-bb3073c36e0f"
      },
      "execution_count": null,
      "outputs": [
        {
          "output_type": "execute_result",
          "data": {
            "text/plain": [
              "<seaborn.axisgrid.FacetGrid at 0x7f6a11dae7d0>"
            ]
          },
          "metadata": {},
          "execution_count": 29
        },
        {
          "output_type": "display_data",
          "data": {
            "image/png": "[encoded data removed]",
            "text/plain": [
              "<Figure size 576x576 with 1 Axes>"
            ]
          },
          "metadata": {
            "needs_background": "light"
          }
        }
      ]
    },
    {
      "cell_type": "code",
      "source": [
        "#average rating and total favourite\n",
        "sns.lmplot(x='Average Rating',y='Total of Favourite',data=data_df,fit_reg=True, height=8)"
      ],
      "metadata": {
        "colab": {
          "base_uri": "https://localhost:8080/",
          "height": 602
        },
        "id": "4je-L7waV1lO",
        "outputId": "5e37cbc5-90b7-466a-83a4-dd486183da62"
      },
      "execution_count": null,
      "outputs": [
        {
          "output_type": "execute_result",
          "data": {
            "text/plain": [
              "<seaborn.axisgrid.FacetGrid at 0x7f6a08b58ed0>"
            ]
          },
          "metadata": {},
          "execution_count": 30
        },
        {
          "output_type": "display_data",
          "data": {
            "image/png": "[encoded data removed]",
            "text/plain": [
              "<Figure size 576x576 with 1 Axes>"
            ]
          },
          "metadata": {
            "needs_background": "light"
          }
        }
      ]
    },
    {
      "cell_type": "code",
      "source": [
        "#average rating and total sold\n",
        "sns.lmplot(x='Average Rating',y='Total of Sold',data=data_df,fit_reg=True, height=8)"
      ],
      "metadata": {
        "colab": {
          "base_uri": "https://localhost:8080/",
          "height": 602
        },
        "id": "bnyNEfvEWFOA",
        "outputId": "17e733cb-2110-446b-95d6-8221cecdfccf"
      },
      "execution_count": null,
      "outputs": [
        {
          "output_type": "execute_result",
          "data": {
            "text/plain": [
              "<seaborn.axisgrid.FacetGrid at 0x7f6a08ad4cd0>"
            ]
          },
          "metadata": {},
          "execution_count": 31
        },
        {
          "output_type": "display_data",
          "data": {
            "image/png": "[encoded data removed]",
            "text/plain": [
              "<Figure size 576x576 with 1 Axes>"
            ]
          },
          "metadata": {
            "needs_background": "light"
          }
        }
      ]
    },
    {
      "cell_type": "code",
      "source": [
        "import plotly.express as px\n",
        "import matplotlib.pyplot as plt\n",
        "import seaborn as sns\n",
        "import plotly.figure_factory as ff\n",
        "import chart_studio.plotly as py\n",
        "import chart_studio.tools as tls"
      ],
      "metadata": {
        "id": "nnbt8yRe4f57"
      },
      "execution_count": null,
      "outputs": []
    },
    {
      "cell_type": "code",
      "source": [
        "df = pd.read_csv('/content/de_scrape_data.csv')\n",
        "df.head()"
      ],
      "metadata": {
        "colab": {
          "base_uri": "https://localhost:8080/",
          "height": 205
        },
        "id": "-eWA0jP34jjF",
        "outputId": "b9cf48f9-01c3-4915-97f5-bfbd7408034a"
      },
      "execution_count": null,
      "outputs": [
        {
          "output_type": "execute_result",
          "data": {
            "text/html": [
              "\n",
              "  <div id=\"df-9aff109b-22a3-4db3-85fd-1660a9e500c2\">\n",
              "    <div class=\"colab-df-container\">\n",
              "      <div>\n",
              "<style scoped>\n",
              "    .dataframe tbody tr th:only-of-type {\n",
              "        vertical-align: middle;\n",
              "    }\n",
              "\n",
              "    .dataframe tbody tr th {\n",
              "        vertical-align: top;\n",
              "    }\n",
              "\n",
              "    .dataframe thead th {\n",
              "        text-align: right;\n",
              "    }\n",
              "</style>\n",
              "<table border=\"1\" class=\"dataframe\">\n",
              "  <thead>\n",
              "    <tr style=\"text-align: right;\">\n",
              "      <th></th>\n",
              "      <th>Product Name</th>\n",
              "      <th>Total of Sold</th>\n",
              "      <th>Total of Favourite</th>\n",
              "      <th>Brand</th>\n",
              "      <th>Min Price (RM)</th>\n",
              "      <th>Max Price (RM)</th>\n",
              "      <th>Average Rating</th>\n",
              "      <th>Shipping Fee</th>\n",
              "      <th>Shop Location</th>\n",
              "      <th>Discount (%)</th>\n",
              "    </tr>\n",
              "  </thead>\n",
              "  <tbody>\n",
              "    <tr>\n",
              "      <th>0</th>\n",
              "      <td>year warranty casio gshock king of bb dark gxb...</td>\n",
              "      <td>13996</td>\n",
              "      <td>5441</td>\n",
              "      <td>no brand</td>\n",
              "      <td>4.90</td>\n",
              "      <td>18.30</td>\n",
              "      <td>4.76</td>\n",
              "      <td>False</td>\n",
              "      <td>Selangor</td>\n",
              "      <td>91</td>\n",
              "    </tr>\n",
              "    <tr>\n",
              "      <th>1</th>\n",
              "      <td>sanda waterproof men fashion watch luxury casu...</td>\n",
              "      <td>54</td>\n",
              "      <td>55</td>\n",
              "      <td>no brand</td>\n",
              "      <td>29.90</td>\n",
              "      <td>29.90</td>\n",
              "      <td>4.81</td>\n",
              "      <td>False</td>\n",
              "      <td>Mainland China</td>\n",
              "      <td>75</td>\n",
              "    </tr>\n",
              "    <tr>\n",
              "      <th>2</th>\n",
              "      <td>ready stockgrimo snova watch women magnet watc...</td>\n",
              "      <td>25488</td>\n",
              "      <td>6927</td>\n",
              "      <td>no brand</td>\n",
              "      <td>7.90</td>\n",
              "      <td>7.90</td>\n",
              "      <td>4.88</td>\n",
              "      <td>True</td>\n",
              "      <td>Selangor</td>\n",
              "      <td>84</td>\n",
              "    </tr>\n",
              "    <tr>\n",
              "      <th>3</th>\n",
              "      <td>ready stock fsmart watch full touch screen hea...</td>\n",
              "      <td>20537</td>\n",
              "      <td>21744</td>\n",
              "      <td>oem</td>\n",
              "      <td>29.90</td>\n",
              "      <td>59.99</td>\n",
              "      <td>4.83</td>\n",
              "      <td>False</td>\n",
              "      <td>Selangor</td>\n",
              "      <td>60</td>\n",
              "    </tr>\n",
              "    <tr>\n",
              "      <th>4</th>\n",
              "      <td>ready stock korean version of women retro watc...</td>\n",
              "      <td>2357</td>\n",
              "      <td>2014</td>\n",
              "      <td>no brand</td>\n",
              "      <td>5.17</td>\n",
              "      <td>7.47</td>\n",
              "      <td>4.87</td>\n",
              "      <td>False</td>\n",
              "      <td>Mainland China</td>\n",
              "      <td>78</td>\n",
              "    </tr>\n",
              "  </tbody>\n",
              "</table>\n",
              "</div>\n",
              "      <button class=\"colab-df-convert\" onclick=\"convertToInteractive('df-9aff109b-22a3-4db3-85fd-1660a9e500c2')\"\n",
              "              title=\"Convert this dataframe to an interactive table.\"\n",
              "              style=\"display:none;\">\n",
              "        \n",
              "  <svg xmlns=\"http://www.w3.org/2000/svg\" height=\"24px\"viewBox=\"0 0 24 24\"\n",
              "       width=\"24px\">\n",
              "    <path d=\"M0 0h24v24H0V0z\" fill=\"none\"/>\n",
              "    <path d=\"M18.56 5.44l.94 2.06.94-2.06 2.06-.94-2.06-.94-.94-2.06-.94 2.06-2.06.94zm-11 1L8.5 8.5l.94-2.06 2.06-.94-2.06-.94L8.5 2.5l-.94 2.06-2.06.94zm10 10l.94 2.06.94-2.06 2.06-.94-2.06-.94-.94-2.06-.94 2.06-2.06.94z\"/><path d=\"M17.41 7.96l-1.37-1.37c-.4-.4-.92-.59-1.43-.59-.52 0-1.04.2-1.43.59L10.3 9.45l-7.72 7.72c-.78.78-.78 2.05 0 2.83L4 21.41c.39.39.9.59 1.41.59.51 0 1.02-.2 1.41-.59l7.78-7.78 2.81-2.81c.8-.78.8-2.07 0-2.86zM5.41 20L4 18.59l7.72-7.72 1.47 1.35L5.41 20z\"/>\n",
              "  </svg>\n",
              "      </button>\n",
              "      \n",
              "  <style>\n",
              "    .colab-df-container {\n",
              "      display:flex;\n",
              "      flex-wrap:wrap;\n",
              "      gap: 12px;\n",
              "    }\n",
              "\n",
              "    .colab-df-convert {\n",
              "      background-color: #E8F0FE;\n",
              "      border: none;\n",
              "      border-radius: 50%;\n",
              "      cursor: pointer;\n",
              "      display: none;\n",
              "      fill: #1967D2;\n",
              "      height: 32px;\n",
              "      padding: 0 0 0 0;\n",
              "      width: 32px;\n",
              "    }\n",
              "\n",
              "    .colab-df-convert:hover {\n",
              "      background-color: #E2EBFA;\n",
              "      box-shadow: 0px 1px 2px rgba(60, 64, 67, 0.3), 0px 1px 3px 1px rgba(60, 64, 67, 0.15);\n",
              "      fill: #174EA6;\n",
              "    }\n",
              "\n",
              "    [theme=dark] .colab-df-convert {\n",
              "      background-color: #3B4455;\n",
              "      fill: #D2E3FC;\n",
              "    }\n",
              "\n",
              "    [theme=dark] .colab-df-convert:hover {\n",
              "      background-color: #434B5C;\n",
              "      box-shadow: 0px 1px 3px 1px rgba(0, 0, 0, 0.15);\n",
              "      filter: drop-shadow(0px 1px 2px rgba(0, 0, 0, 0.3));\n",
              "      fill: #FFFFFF;\n",
              "    }\n",
              "  </style>\n",
              "\n",
              "      <script>\n",
              "        const buttonEl =\n",
              "          document.querySelector('#df-9aff109b-22a3-4db3-85fd-1660a9e500c2 button.colab-df-convert');\n",
              "        buttonEl.style.display =\n",
              "          google.colab.kernel.accessAllowed ? 'block' : 'none';\n",
              "\n",
              "        async function convertToInteractive(key) {\n",
              "          const element = document.querySelector('#df-9aff109b-22a3-4db3-85fd-1660a9e500c2');\n",
              "          const dataTable =\n",
              "            await google.colab.kernel.invokeFunction('convertToInteractive',\n",
              "                                                     [key], {});\n",
              "          if (!dataTable) return;\n",
              "\n",
              "          const docLinkHtml = 'Like what you see? Visit the ' +\n",
              "            '<a target=\"_blank\" href=https://colab.research.google.com/notebooks/data_table.ipynb>data table notebook</a>'\n",
              "            + ' to learn more about interactive tables.';\n",
              "          element.innerHTML = '';\n",
              "          dataTable['output_type'] = 'display_data';\n",
              "          await google.colab.output.renderOutput(dataTable, element);\n",
              "          const docLink = document.createElement('div');\n",
              "          docLink.innerHTML = docLinkHtml;\n",
              "          element.appendChild(docLink);\n",
              "        }\n",
              "      </script>\n",
              "    </div>\n",
              "  </div>\n",
              "  "
            ],
            "text/plain": [
              "                                        Product Name  ...  Discount (%)\n",
              "0  year warranty casio gshock king of bb dark gxb...  ...            91\n",
              "1  sanda waterproof men fashion watch luxury casu...  ...            75\n",
              "2  ready stockgrimo snova watch women magnet watc...  ...            84\n",
              "3  ready stock fsmart watch full touch screen hea...  ...            60\n",
              "4  ready stock korean version of women retro watc...  ...            78\n",
              "\n",
              "[5 rows x 10 columns]"
            ]
          },
          "metadata": {},
          "execution_count": 2
        }
      ]
    },
    {
      "cell_type": "code",
      "source": [
        "fig_scatter = px.scatter(df, x='Min Price (RM)', y='Total of Sold', color='Brand', template='ggplot2', hover_name=df['Product Name'], opacity=0.6, title='Total number of watches sold to the Minimum price of Watches')\n",
        "fig_scatter.show()"
      ],
      "metadata": {
        "colab": {
          "base_uri": "https://localhost:8080/",
          "height": 541
        },
        "id": "bBx001KW4vs3",
        "outputId": "8e379f68-aec8-45dc-b1e3-98c91549827c"
      },
      "execution_count": null,
      "outputs": [
        {
          "output_type": "display_data",
          "data": {
            "text/html": [
              "<html>\n",
              "<head><meta charset=\"utf-8\" /></head>\n",
              "<body>\n",
              "    <div>\n",
              "            <script src=\"https://cdnjs.cloudflare.com/ajax/libs/mathjax/2.7.5/MathJax.js?config=TeX-AMS-MML_SVG\"></script><script type=\"text/javascript\">if (window.MathJax) {MathJax.Hub.Config({SVG: {font: \"STIX-Web\"}});}</script>\n",
              "                <script type=\"text/javascript\">window.PlotlyConfig = {MathJaxConfig: 'local'};</script>\n",
              "        <script src=\"https://cdn.plot.ly/plotly-latest.min.js\"></script>    \n",
              "            <div id=\"dc3d624e-7446-4654-8a7c-afe2005b9af9\" class=\"plotly-graph-div\" style=\"height:525px; width:100%;\"></div>\n",
              "            <script type=\"text/javascript\">\n",
              "                \n",
              "                    window.PLOTLYENV=window.PLOTLYENV || {};\n",
              "                    \n",
              "                if (document.getElementById(\"dc3d624e-7446-4654-8a7c-afe2005b9af9\")) {\n",
              "                    Plotly.newPlot(\n",
              "                        'dc3d624e-7446-4654-8a7c-afe2005b9af9',\n",
              "                        [{\"hoverlabel\": {\"namelength\": 0}, \"hovertemplate\": \"<b>%{hovertext}</b><br><br>Brand=no brand<br>Min Price (RM)=%{x}<br>Total of Sold=%{y}\", \"hovertext\": [\"year warranty casio gshock king of bb dark gxbb sport g shock men watch\", \"sanda waterproof men fashion watch luxury casual dragon ball orange\", \"ready stockgrimo snova watch women magnet watches dinner lawa casual gift ac\", \"ready stock korean version of women retro watch tide wild simple leather student\", \"popular hongkai inch high definition screen smart watch bluetooth call fashion fitness heart rate monitoring watches couple\", \"simple watch woman man classic luxury ultrathin watches fashion business alloy\", \"fashion silicone replacement strap band watch gt gtprogt e honor magic mmmm\", \"watchgod promothe fifth super thin rose gold leather simple fashion women watch\", \"jom promosi panas the fifth watch leather simple women quartz analog band\", \"mmmmsmart watch bracelet band bluetooth waterproof blood pressure heart rate fitness calorie\", \"mm watch strap for active band silicone bracelet watchband activescreen protector hd film\", \"year warranty casio gshock one piece dragon ball men watch waterproof sports\", \"hr ship mm silicon strap apple watch txwttfffftwatch series\", \"year warrenty gshock transparent rose gold waterproof watch ice tough series gmassra gabla\", \"lsvtr korea temperament fashion lady student small watch women\", \"new tbluetooth smart watch heart rate full touch round blood pressure fitness sport watches waterproof\", \"fast delivery korean gd peaceminusone watch pu leather women watches little daisy bracelet casual waterproof\", \"realme watch pro large color display dualsatellite gps\", \"jom promosi panas hush puppies sport chrono rubber date women watch\", \"casio same style watch college student simple fashion sports waterproof electronic women casual automatic pink couple watches shockproof wrist men\", \"months warrantyysmart watch fitness heart women men\", \"korean led watch cheap sport electronic g shock baby\", \"watch women mori department small fresh art retro roman high school student korean version simple quartz style\", \"wishdoit original waterproof men watch stainless steel strap quartz analog for business sun moon star multifunction calendar fashion wristwatch\", \"ready stock watch rrrrsmart original\", \"ready stockoriginal women dan tangan kitty watch woman leather waterproof fashion casual student watches\", \"ubuyunisex gold silver steel led waterproof quartz wrist watch women men kuarza kalis air magnet watches dinner lawa casual gift stainless\", \"keysjeff compatible with scrunchies apple watch strap mm cloth soft pattern printed fabric wristband iwatch cute elastic scrunchy bands series sewatch is not included\", \"official yrs warrantyoblvlo original casual watches mens skeleton dial vintage calfskin automatic for men vm\", \"local spot smart watch bluetooth blood pressure round bracelet waterproof sport fitness\", \"wishdoit original waterproof men watch leather strap quartz analog for sport multifunction calendar fashion wristwatch\", \"curren men quartz watch mens watches top brand luxury leather casual sport clock\", \"original free bracelet coach delancey leather rose gold women watch\", \"rectangular watch women ins style retro compact student small dial korean simple temperamental\", \"man watch big dial army military leather strap quartz calendar luxury casual sport\", \"wishdoit original women waterproof watch leather strap quartz analog for multifunction calendar casual fashion wristwatch\", \"ready stock gtr mm gtrgtr e gtrpro replacement strap soft silicone band watch wristband tali\", \"new itemsgsk tmjrainbow skeleton ga cun shock\", \"hottest watchoriginal gt grand racing pilot silicone fashion analog sport men watch\", \"khorasan alloy fashion watch creative fringe quartz bracelet watchlongflightmy\", \"ready stock fashion men women watches sports led watch stainless steel rose gold wrist stop\", \"ready stock korean fashion wild alloy mesh women flower dial watch magnet clasp casual couple outdoor sport\", \"fast delivery waterproof watches gd peaceminusone watch women ins little daisy bracelet casual pu leather\", \"baosaili men fashion casual sport quartz watch simple mens watches arabic numbers pu leather strap wrist calendar\", \"new waterproof nylon band rainbow led electronic touch screen watch\", \"couple watch men women business waterproof stainless steel strap fashion casual students\", \"coobos watch sports watches waterproof water resistant men\", \"year warranty one piece dragon ball sports men women watch\", \"ready stock dwwrist watch gamen sport watches black red dwskdr\", \"skmei men fashion quartz sports watches stainless steel mens luxury business waterproof wrist watch\", \"i watch apple pro mm\", \"year warranty casio lwa led sports women kid watch\", \"simple elegance retro ins style women watch fashion korean small square\", \"months warrantystarry magnetic women lady watch fashion luxury quartz\", \"dwpetak full black dark night men watch dw\", \"sanda original men watch dual display led luxury military quartz watches\", \"jom promosi panas geneva nylon luxury fashion quartz analog women watch\", \"original free bracelet fossil grant machine midsize leather men women watch\", \"ready stock women decoration watch pd ly pandora bradshaw pawnable waterproof watches\", \"women telefon ready stock versi korea temperamen pasang surut menonton berlian\", \"watch gtprowatch gtmm gte honor magicmmhonor magic strap gt leather silicon\", \"sworovski diamond infull set sworovskl watches leather classic women\", \"authentic fossil men grant machine midsize leather watch\", \"off men women couple set polo watch stainless steel water resistant kalis air\", \"ins\", \"year warranty g sports joker gabla sport men women watch\", \"hotwomen watch b womenwatches women diamondretrorose goldblackhadiah birthday hari jadi\", \"dwwhite color blue purple cccermin kaca putih biru ccdigital watch viral\", \"sanda new women watches leather sports quartz led clock waterproof military wrist watch\", \"promotion ins super fire simple korean retro art watch women girlfriends casual temperament college wind waterproof\", \"large full touch screen cmen watch bluetooth heart rate blood pressure multifunction lady watches\", \"year warranty g sports joker gabla sport men women watch\", \"swarovski diamond infull set sworovskl watches leather classic women viral sesuai untuk hadiah\", \"bostanten men sports shock watch time chrono alarm date week display led light big dial military watches\", \"winner original men watch hollow skeleton rhinestones fashion mechanical watches\", \"original skmei military swimming sports watches years life battery men watch m waterproof\", \"forsining mens business genuine stainless steel strap watch top brand luxury auotmatic watches\", \"new mens fashion luxury waterproof stainless steel silicone band sport watch\", \"ready stock fesyen women tali pu kulit sederhana couple berlian dua\", \"year warrenty new g sport ice toughness translucent gray watch men\", \"spot couple watch waterproof led multifunctional sports solar men and women fashion trend electronic quartz\", \"ready stock dark knight dwsports men women watch waterproof\", \"julius authentic square waterproof women watch ja\", \"years warranty gshock sports led men watch\", \"apple watch se gps with sport band\", \"korean round simple women watch retro literary small fresh student quartz\", \"smael mens watches original brand military quartz fashion sport men watch dual display casual waterproof\", \"guess conic watch men women couple quartz sport\", \"casio mtpvd men analog date day functioning classic stainless steel\", \"sanda fashion watch dual display waterproof sports men\", \"stock gawatch men sport watches black red gahrapr\", \"edifice efrdy men watches\", \"guess conic sport watch men women couple quartz sportwatch\", \"soft silicone apple watch strap for iwatch series se mm\", \"nerrad authentic watch men original waterproof double calendar sports stainless steel business quartz military man\", \"ready stock women fashion alloy mesh strap watch bracelet set full diamond magnet buckle quartz\", \"year warranty g sports gstgst sport men watch\", \"hotgsk gbd hdigital cheap sports men smart watch g viral offer shock\", \"years warranty casio gshock police evo black sport dwbbmen women watch\", \"hot sale gshock gababyg bablack color girls wrist watch women sport watches\", \"apple watch strap silicone series nike edition mm for se iwatch band straps\", \"kaizen watch cheapwatch display stand type l for g shock and others stan bentuk merah hit\", \"smart watch tbluetooth call touch screen sport heart rate monitoring answer calls\", \"original series years warranty youth sports wha whb whbw\", \"wrist strap for honor band silicone\", \"skmei local seller dual display sport watch men waterproof countdown alarm watches\", \"bostanten ultrathin wrist women watches luxury clock fashion montre femme quartz watch\", \"lokmat large full touch screen cmen watch bluetooth heart rate blood pressure multifunction lady watches\", \"evo hitamfullblack dwgred aa cheap sukansports waterproof kalis air\", \"new smart watch men women touch screen sports fitness bracelets wristwatch waterproof bluetooth for android ios pk yysypro\", \"ready stock men sport quartz watch white strap fashion waterproof\", \"casio lwavbvavbvavbvav youthdigital\", \"casio mtpvl men analog date day functioning leather\", \"beehaus premium quality pu leather watch box slot case storage holder kotak simpanan\", \"hot virallimited stock shock gatengku zafrul moto analog g viral resis\", \"caslo original man black resin band watch dwha dwh new model ori casio\", \"sanda top brand luxury men fashion sport watch waterproof led display man\", \"ltpd series women analogue casual watch with box\", \"kid watch unicorn years w\", \"milanese loop for apple watch band mm iwatch series magnetic bracelet belt se strap\", \"local spot sports smart watch gps waterproof touch screen bluetooth outdoor\", \"dwspiderpr spider man collection copy original premium\", \"smart watch kid watches for girls boys bracelet child pintar kidmen\", \"gagaskea transparent premium copy ori new versionclick for more colour\", \"timberland watches watch jarum analog kulit leather cheap viral\", \"cartoon lightweight mosquito repellent watch for kid baby wearable antimosquito bracelet\", \"year warranty classic bwcavt vintage led sports women watch\", \"ready stock mens watch fashion sport stainless steel band business wrist\", \"gacouple set bumblebee optimus prime gajarum analog watch viral g shock\", \"sports watch casual men waterproof quartz multifunctional g\", \"apple watch mm clear hydrogel film iwatch series screen protector\", \"double limited time promotionfashion guou luxury brand men women watches square dial silicone strap golden case s quartz watch\", \"waranti tahun g shock sports joker gabla sport men watch women\", \"strap for band pro honor bandwatchband wrist premium tpu color screen fitness watch bracelet\"], \"legendgroup\": \"Brand=no brand\", \"marker\": {\"color\": \"#F8766D\", \"opacity\": 0.6, \"symbol\": \"circle\"}, \"mode\": \"markers\", \"name\": \"Brand=no brand\", \"showlegend\": true, \"type\": \"scatter\", \"x\": [4.9, 29.9, 7.9, 5.17, 96.7, 8.9, 6.5, 1.4, 4.9, 13.0, 4.55, 27.9, 7.9, 39.99, 8.48, 39.8, 8.99, 130.75, 10.5, 6.66, 3.9, 4.39, 11.9, 62.5, 130.75, 15.0, 1.87, 8.2, 130.75, 19.8, 62.49, 19.8, 104.9, 8.4, 14.99, 42.5, 11.99, 27.0, 1.3, 9.3, 4.72, 7.04, 9.0, 16.8, 5.5, 22.98, 15.96, 26.5, 40.0, 23.6, 65.0, 28.7, 12.1, 5.5, 4.9, 28.8, 6.2, 130.75, 27.0, 18.4, 18.99, 69.0, 130.75, 28.9, 11.0, 52.9, 9.5, 33.0, 27.5, 14.63, 122.0, 52.9, 35.0, 31.0, 69.0, 29.4, 109.0, 5.89, 2.25, 39.9, 56.0, 12.4, 95.0, 29.9, 130.75, 9.9, 33.9, 29.31, 75.0, 29.9, 42.0, 126.0, 29.36, 3.46, 46.35, 8.69, 37.9, 44.99, 4.9, 42.0, 5.63, 1.59, 31.5, 71.9, 3.9, 34.9, 45.0, 130.75, 49.9, 2.5, 42.0, 63.0, 68.0, 26.96, 36.99, 122.0, 28.9, 80.0, 9.0, 6.5, 20.5, 55.88, 23.56, 85.0, 39.99, 2.3, 26.9, 13.5, 41.99, 130.75, 0.59, 59.99, 45.0, 4.37], \"xaxis\": \"x\", \"y\": [13996, 54, 25488, 2357, 0, 931, 527, 36877, 3228, 21643, 224, 9511, 4537, 801, 7971, 624, 1945, 150, 2620, 8122, 39800, 2381, 300, 7205, 479, 212, 1590, 201, 6, 1086, 586, 4427, 781, 931, 769, 1789, 333, 428, 15588, 974, 2951, 2094, 1042, 309, 79, 2342, 1105, 22158, 2035, 849, 68, 3893, 756, 264, 3764, 993, 352, 577, 2820, 360, 263, 1026, 59, 1857, 697, 2668, 817, 380, 1618, 1586, 232, 2668, 242, 1345, 478, 762, 2642, 1250, 742, 462, 174, 355, 185, 3527, 729, 278, 0, 357, 210, 517, 2430, 2368, 1127, 1124, 1072, 161, 3668, 199, 1846, 1950, 565, 361, 433, 2546, 1563, 187, 222, 285, 277, 0, 1128, 294, 171, 475, 497, 249, 954, 1998, 50, 46, 40, 198, 171, 296, 328, 81, 2422, 2033, 318, 0, 233, 297, 7, 129], \"yaxis\": \"y\"}, {\"hoverlabel\": {\"namelength\": 0}, \"hovertemplate\": \"<b>%{hovertext}</b><br><br>Brand=oem<br>Min Price (RM)=%{x}<br>Total of Sold=%{y}\", \"hovertext\": [\"ready stock fsmart watch full touch screen heart rate blo od pressure bluetooth sports fitness watches\", \"ready stock fsports smart watch gps ipwaterproof touch screen bluetooth outdoor\", \"giftsmart watch msmart band heart rate fitness bracelet blood pressure music remote control health waterproof pk xiao mi\", \"logo series bluetooth call inch full screen long standby custom wallpaper smart body temperature monitoring spin button watch play music heart rate pk fkwatch\", \"watch gtgtpro gt runner gtpro honor magic gtgte haylou solar lsamazfit gtr mini bip u pro soft silicone strap\", \"ready stock fsmart watch full touch screen heart rate blo od pressure bluetooth sports fitness watches\"], \"legendgroup\": \"Brand=oem\", \"marker\": {\"color\": \"#A3A500\", \"opacity\": 0.6, \"symbol\": \"circle\"}, \"mode\": \"markers\", \"name\": \"Brand=oem\", \"showlegend\": true, \"type\": \"scatter\", \"x\": [29.9, 29.0, 35.0, 99.0, 7.6, 29.9], \"xaxis\": \"x\", \"y\": [20537, 20710, 2778, 1290, 751, 20537], \"yaxis\": \"y\"}, {\"hoverlabel\": {\"namelength\": 0}, \"hovertemplate\": \"<b>%{hovertext}</b><br><br>Brand=hannah martin<br>Min Price (RM)=%{x}<br>Total of Sold=%{y}\", \"hovertext\": [\"authentic years international warranty hannah martin classic leather luxury fashion sport men women watch\", \"authentic years international warranty hannah martin classic leather with card luxury men women watch\", \"months warrantyinternational warranty hannah martin classic leather luxury fashion sport men women watch\", \"original hannah martin men luxury business fashion casual stainless steel waterproof japan movement watches\", \"original new brand quality assure hannah martin fashion watch for women business causal waterproof stainles steel\"], \"legendgroup\": \"Brand=hannah martin\", \"marker\": {\"color\": \"#00BF7D\", \"opacity\": 0.6, \"symbol\": \"circle\"}, \"mode\": \"markers\", \"name\": \"Brand=hannah martin\", \"showlegend\": true, \"type\": \"scatter\", \"x\": [6.3, 6.2, 6.5, 46.4, 52.8], \"xaxis\": \"x\", \"y\": [6002, 29885, 412, 876, 891], \"yaxis\": \"y\"}, {\"hoverlabel\": {\"namelength\": 0}, \"hovertemplate\": \"<b>%{hovertext}</b><br><br>Brand=olevs<br>Min Price (RM)=%{x}<br>Total of Sold=%{y}\", \"hovertext\": [\"olevs original waterproof watch men quartz analog genuine leather business sun moon star multifunctional calendar fashion watches\", \"olevs original waterproof watch men quartz analog genuine leather business sun moon star multifunctional calendar fashion watches\", \"olevs women original waterproof stainless steel watch leather strap quartz analog for calendar fashion casual wristwatch\", \"free watch box olevs luxury couple women original casual waterproof quartz leather men watches\"], \"legendgroup\": \"Brand=olevs\", \"marker\": {\"color\": \"#00B0F6\", \"opacity\": 0.6, \"symbol\": \"circle\"}, \"mode\": \"markers\", \"name\": \"Brand=olevs\", \"showlegend\": true, \"type\": \"scatter\", \"x\": [58.0, 58.0, 36.9, 34.44], \"xaxis\": \"x\", \"y\": [6610, 6610, 313, 9734], \"yaxis\": \"y\"}, {\"hoverlabel\": {\"namelength\": 0}, \"hovertemplate\": \"<b>%{hovertext}</b><br><br>Brand=vava voom<br>Min Price (RM)=%{x}<br>Total of Sold=%{y}\", \"hovertext\": [\"authentic vavavoom luxury business stainless steel quartz fashion men watch\"], \"legendgroup\": \"Brand=vava voom\", \"marker\": {\"color\": \"#E76BF3\", \"opacity\": 0.6, \"symbol\": \"circle\"}, \"mode\": \"markers\", \"name\": \"Brand=vava voom\", \"showlegend\": true, \"type\": \"scatter\", \"x\": [15.9], \"xaxis\": \"x\", \"y\": [7098], \"yaxis\": \"y\"}, {\"hoverlabel\": {\"namelength\": 0}, \"hovertemplate\": \"<b>%{hovertext}</b><br><br>Brand=geneva<br>Min Price (RM)=%{x}<br>Total of Sold=%{y}\", \"hovertext\": [\"jom promosi panasgeneva watches stainless steel band crystal diamond quartz analog women wrist watch\", \"watchgod promooriginal geneva luxury stainless steel diamond women watch\"], \"legendgroup\": \"Brand=geneva\", \"marker\": {\"color\": \"#F8766D\", \"opacity\": 0.6, \"symbol\": \"circle\"}, \"mode\": \"markers\", \"name\": \"Brand=geneva\", \"showlegend\": true, \"type\": \"scatter\", \"x\": [6.2, 2.0], \"xaxis\": \"x\", \"y\": [4017, 21542], \"yaxis\": \"y\"}, {\"hoverlabel\": {\"namelength\": 0}, \"hovertemplate\": \"<b>%{hovertext}</b><br><br>Brand=sanda<br>Min Price (RM)=%{x}<br>Total of Sold=%{y}\", \"hovertext\": [\"sanda men watch luxury waterproof quartz led with multifunction swimming\", \"years warrantygshock x ferrari casio g shock sports led men watch free box\", \"sanda military waterproof quartz led multifunction luxury fashion men watch\", \"sanda women watch waterproof luxury fashion multifunctional outdoor\", \"sanda bluetooth call smart watch music player waterproof exercise heart rate fitness men women calories blood pressure\"], \"legendgroup\": \"Brand=sanda\", \"marker\": {\"color\": \"#A3A500\", \"opacity\": 0.6, \"symbol\": \"circle\"}, \"mode\": \"markers\", \"name\": \"Brand=sanda\", \"showlegend\": true, \"type\": \"scatter\", \"x\": [27.78, 33.9, 27.8, 27.9, 35.34], \"xaxis\": \"x\", \"y\": [6022, 526, 4031, 5782, 1708], \"yaxis\": \"y\"}, {\"hoverlabel\": {\"namelength\": 0}, \"hovertemplate\": \"<b>%{hovertext}</b><br><br>Brand=honhx<br>Min Price (RM)=%{x}<br>Total of Sold=%{y}\", \"hovertext\": [\"watchgod promohonhx baby aosun display multifunction men women watch\", \"months warrantyhonhx big led sports men women watch h\", \"months warrantyhonhx r shock big dial led sport men watch\", \"watchgod promooriginal honhx transparent sports led men women kid watch\", \"watchgod promoyears warranty honhx sports led men women kid watch\"], \"legendgroup\": \"Brand=honhx\", \"marker\": {\"color\": \"#00BF7D\", \"opacity\": 0.6, \"symbol\": \"circle\"}, \"mode\": \"markers\", \"name\": \"Brand=honhx\", \"showlegend\": true, \"type\": \"scatter\", \"x\": [4.9, 8.2, 5.5, 0.9, 0.88], \"xaxis\": \"x\", \"y\": [5726, 1216, 738, 47455, 46960], \"yaxis\": \"y\"}, {\"hoverlabel\": {\"namelength\": 0}, \"hovertemplate\": \"<b>%{hovertext}</b><br><br>Brand=wishdoit<br>Min Price (RM)=%{x}<br>Total of Sold=%{y}\", \"hovertext\": [\"wishdoit original waterproof men watch stainless steel quartz analog for business sun moon star multifunction calendar fashion wristwatch\", \"wishdoit original waterproof men watch leather strap quartz analog for business sport multifunction calendar fashion wristwatch\", \"original wishdoit multifunction waterproof watch analog quartz men sports stainless steel black luxury casual authentic can swimming\"], \"legendgroup\": \"Brand=wishdoit\", \"marker\": {\"color\": \"#00B0F6\", \"opacity\": 0.6, \"symbol\": \"circle\"}, \"mode\": \"markers\", \"name\": \"Brand=wishdoit\", \"showlegend\": true, \"type\": \"scatter\", \"x\": [59.5, 59.5, 49.5], \"xaxis\": \"x\", \"y\": [1615, 2339, 4927], \"yaxis\": \"y\"}, {\"hoverlabel\": {\"namelength\": 0}, \"hovertemplate\": \"<b>%{hovertext}</b><br><br>Brand=wwoor<br>Min Price (RM)=%{x}<br>Total of Sold=%{y}\", \"hovertext\": [\"wwoor women watch waterproof newest original fashion casual watches for with free box\", \"wwoor sport cute student women watch ready stock original factory direct sales simple casual quartz analog waterproof lady fashion belt fast delivery free shipping best gift for lover\"], \"legendgroup\": \"Brand=wwoor\", \"marker\": {\"color\": \"#E76BF3\", \"opacity\": 0.6, \"symbol\": \"circle\"}, \"mode\": \"markers\", \"name\": \"Brand=wwoor\", \"showlegend\": true, \"type\": \"scatter\", \"x\": [33.0, 35.0], \"xaxis\": \"x\", \"y\": [1426, 835], \"yaxis\": \"y\"}, {\"hoverlabel\": {\"namelength\": 0}, \"hovertemplate\": \"<b>%{hovertext}</b><br><br>Brand=megalith<br>Min Price (RM)=%{x}<br>Total of Sold=%{y}\", \"hovertext\": [\"megalith men watch automatic mechanical d chinese dragon waterproof mens watches for man\"], \"legendgroup\": \"Brand=megalith\", \"marker\": {\"color\": \"#F8766D\", \"opacity\": 0.6, \"symbol\": \"circle\"}, \"mode\": \"markers\", \"name\": \"Brand=megalith\", \"showlegend\": true, \"type\": \"scatter\", \"x\": [95.9], \"xaxis\": \"x\", \"y\": [323], \"yaxis\": \"y\"}, {\"hoverlabel\": {\"namelength\": 0}, \"hovertemplate\": \"<b>%{hovertext}</b><br><br>Brand=aosun<br>Min Price (RM)=%{x}<br>Total of Sold=%{y}\", \"hovertext\": [\"watchgod promoyears warranty original honhx baby aosun sports men women watch\"], \"legendgroup\": \"Brand=aosun\", \"marker\": {\"color\": \"#A3A500\", \"opacity\": 0.6, \"symbol\": \"circle\"}, \"mode\": \"markers\", \"name\": \"Brand=aosun\", \"showlegend\": true, \"type\": \"scatter\", \"x\": [0.9], \"xaxis\": \"x\", \"y\": [81270], \"yaxis\": \"y\"}, {\"hoverlabel\": {\"namelength\": 0}, \"hovertemplate\": \"<b>%{hovertext}</b><br><br>Brand=skmei<br>Min Price (RM)=%{x}<br>Total of Sold=%{y}\", \"hovertext\": [\"skmei leather strap watch couple simple original waterproof watches women men\", \"skmei smart watch blood pressure heart rate sports fitness watches ultra thin diy faces for android ios\", \"skmei men sports waterproof led display watch quartz dual movement time\", \"jom promosi panasskmei men display multifunction rugged sports watch\", \"skmei men sports pedometer metronome waterproof led display watch round dial\"], \"legendgroup\": \"Brand=skmei\", \"marker\": {\"color\": \"#00BF7D\", \"opacity\": 0.6, \"symbol\": \"circle\"}, \"mode\": \"markers\", \"name\": \"Brand=skmei\", \"showlegend\": true, \"type\": \"scatter\", \"x\": [32.57, 83.3, 28.0, 19.9, 30.0], \"xaxis\": \"x\", \"y\": [974, 486, 495, 2794, 223], \"yaxis\": \"y\"}, {\"hoverlabel\": {\"namelength\": 0}, \"hovertemplate\": \"<b>%{hovertext}</b><br><br>Brand=soki<br>Min Price (RM)=%{x}<br>Total of Sold=%{y}\", \"hovertext\": [\"year warranty casio gmsstainless gshock waterproof women watch\", \"year warranty casio gmsstainless gshock waterproof women watch\"], \"legendgroup\": \"Brand=soki\", \"marker\": {\"color\": \"#00B0F6\", \"opacity\": 0.6, \"symbol\": \"circle\"}, \"mode\": \"markers\", \"name\": \"Brand=soki\", \"showlegend\": true, \"type\": \"scatter\", \"x\": [17.94, 17.94], \"xaxis\": \"x\", \"y\": [6282, 6282], \"yaxis\": \"y\"}, {\"hoverlabel\": {\"namelength\": 0}, \"hovertemplate\": \"<b>%{hovertext}</b><br><br>Brand=haylou<br>Min Price (RM)=%{x}<br>Total of Sold=%{y}\", \"hovertext\": [\"new arrival haylou gst lsb smart watch bluetooth workout modes heart rate monitor waterproof sleep management smartwatches customized faces\", \"global version original haylou solar lslss smart watch color touch screen h heart rate monitor sports\", \"latest haylou solar rt lss smart wifi bluetoote watch sports fitness band sport\"], \"legendgroup\": \"Brand=haylou\", \"marker\": {\"color\": \"#E76BF3\", \"opacity\": 0.6, \"symbol\": \"circle\"}, \"mode\": \"markers\", \"name\": \"Brand=haylou\", \"showlegend\": true, \"type\": \"scatter\", \"x\": [83.99, 92.9, 124.9], \"xaxis\": \"x\", \"y\": [1242, 5506, 316], \"yaxis\": \"y\"}, {\"hoverlabel\": {\"namelength\": 0}, \"hovertemplate\": \"<b>%{hovertext}</b><br><br>Brand=huawei<br>Min Price (RM)=%{x}<br>Total of Sold=%{y}\", \"hovertext\": [\"watch gtmm refine gold milanese strap long battery life sposupported\", \"watch gt mm smart kirin asposupported\", \"original watch gt e mm allday spomonitoring\"], \"legendgroup\": \"Brand=huawei\", \"marker\": {\"color\": \"#F8766D\", \"opacity\": 0.6, \"symbol\": \"circle\"}, \"mode\": \"markers\", \"name\": \"Brand=huawei\", \"showlegend\": true, \"type\": \"scatter\", \"x\": [130.75, 130.75, 130.75], \"xaxis\": \"x\", \"y\": [1681, 1280, 384], \"yaxis\": \"y\"}, {\"hoverlabel\": {\"namelength\": 0}, \"hovertemplate\": \"<b>%{hovertext}</b><br><br>Brand=chronos<br>Min Price (RM)=%{x}<br>Total of Sold=%{y}\", \"hovertext\": [\"original chronos grant classic calendar leather good quality fashion quartz men watch\"], \"legendgroup\": \"Brand=chronos\", \"marker\": {\"color\": \"#A3A500\", \"opacity\": 0.6, \"symbol\": \"circle\"}, \"mode\": \"markers\", \"name\": \"Brand=chronos\", \"showlegend\": true, \"type\": \"scatter\", \"x\": [19.9], \"xaxis\": \"x\", \"y\": [470], \"yaxis\": \"y\"}, {\"hoverlabel\": {\"namelength\": 0}, \"hovertemplate\": \"<b>%{hovertext}</b><br><br>Brand=casio<br>Min Price (RM)=%{x}<br>Total of Sold=%{y}\", \"hovertext\": [\"original casio women lqlqamvlqemvlqllqlb series analog watch\", \"years warranty casio original ltpvd series analogwomen watch women\", \"authentic casio women ltpvltpvdltpvgltpvsg series metal strap watch includes year warranty\", \"casio lcfdav lcfda lcfd watch original\", \"casio women ltpvltpvdltpvgltpvglltpvlltpvsgwatch year warranty\", \"ori casigshock gaavengers marvels captain america iron man spiderman men women watch wrist watches\", \"authentic casio women diver style lrwh series resin band watch includes year warranty\"], \"legendgroup\": \"Brand=casio\", \"marker\": {\"color\": \"#00BF7D\", \"opacity\": 0.6, \"symbol\": \"circle\"}, \"mode\": \"markers\", \"name\": \"Brand=casio\", \"showlegend\": true, \"type\": \"scatter\", \"x\": [39.0, 69.0, 57.6, 130.75, 56.7, 45.88, 58.5], \"xaxis\": \"x\", \"y\": [1174, 526, 684, 318, 623, 296, 1142], \"yaxis\": \"y\"}, {\"hoverlabel\": {\"namelength\": 0}, \"hovertemplate\": \"<b>%{hovertext}</b><br><br>Brand=coach<br>Min Price (RM)=%{x}<br>Total of Sold=%{y}\", \"hovertext\": [\"original free bracelet coach classic boyfriend rose gold women watch\", \"authentic coach charles stainless steel silver grey black navyblue men watch mesh strap\", \"original free bracelet coach sullivan sport leather men watch years warranty\"], \"legendgroup\": \"Brand=coach\", \"marker\": {\"color\": \"#00B0F6\", \"opacity\": 0.6, \"symbol\": \"circle\"}, \"mode\": \"markers\", \"name\": \"Brand=coach\", \"showlegend\": true, \"type\": \"scatter\", \"x\": [109.9, 122.9, 130.75], \"xaxis\": \"x\", \"y\": [823, 322, 414], \"yaxis\": \"y\"}, {\"hoverlabel\": {\"namelength\": 0}, \"hovertemplate\": \"<b>%{hovertext}</b><br><br>Brand=forsining<br>Min Price (RM)=%{x}<br>Total of Sold=%{y}\", \"hovertext\": [\"forsining sport skeleton stainless steel men watch automatic mechanical watches\", \"forsining sport skeleton stainless steel men watch automatic mechanical watches\", \"forsining mens business genuine stainless steel strap watch top brand luxury auotmatic watches\"], \"legendgroup\": \"Brand=forsining\", \"marker\": {\"color\": \"#E76BF3\", \"opacity\": 0.6, \"symbol\": \"circle\"}, \"mode\": \"markers\", \"name\": \"Brand=forsining\", \"showlegend\": true, \"type\": \"scatter\", \"x\": [52.99, 59.0, 65.0], \"xaxis\": \"x\", \"y\": [378, 978, 1085], \"yaxis\": \"y\"}, {\"hoverlabel\": {\"namelength\": 0}, \"hovertemplate\": \"<b>%{hovertext}</b><br><br>Brand=north <br>Min Price (RM)=%{x}<br>Total of Sold=%{y}\", \"hovertext\": [\"north watch women top brand luxury quartz clock fashion stainless steel casual lady gift wife girl simple waterproof\"], \"legendgroup\": \"Brand=north \", \"marker\": {\"color\": \"#F8766D\", \"opacity\": 0.6, \"symbol\": \"circle\"}, \"mode\": \"markers\", \"name\": \"Brand=north \", \"showlegend\": true, \"type\": \"scatter\", \"x\": [29.7], \"xaxis\": \"x\", \"y\": [44], \"yaxis\": \"y\"}, {\"hoverlabel\": {\"namelength\": 0}, \"hovertemplate\": \"<b>%{hovertext}</b><br><br>Brand=naviforce<br>Min Price (RM)=%{x}<br>Total of Sold=%{y}\", \"hovertext\": [\"naviforce original men sport quartz stainless steel wrist watch silver with box\"], \"legendgroup\": \"Brand=naviforce\", \"marker\": {\"color\": \"#A3A500\", \"opacity\": 0.6, \"symbol\": \"circle\"}, \"mode\": \"markers\", \"name\": \"Brand=naviforce\", \"showlegend\": true, \"type\": \"scatter\", \"x\": [55.73], \"xaxis\": \"x\", \"y\": [1631], \"yaxis\": \"y\"}, {\"hoverlabel\": {\"namelength\": 0}, \"hovertemplate\": \"<b>%{hovertext}</b><br><br>Brand=fossil<br>Min Price (RM)=%{x}<br>Total of Sold=%{y}\", \"hovertext\": [\"authentic fossil women jacqueline rose gold dial crystal bezel bracelet watch es\", \"authentic fossil men grant black leather watch fs\"], \"legendgroup\": \"Brand=fossil\", \"marker\": {\"color\": \"#00BF7D\", \"opacity\": 0.6, \"symbol\": \"circle\"}, \"mode\": \"markers\", \"name\": \"Brand=fossil\", \"showlegend\": true, \"type\": \"scatter\", \"x\": [130.75, 130.75], \"xaxis\": \"x\", \"y\": [211, 1829], \"yaxis\": \"y\"}],\n",
              "                        {\"legend\": {\"tracegroupgap\": 0}, \"template\": {\"data\": {\"bar\": [{\"error_x\": {\"color\": \"rgb(51,51,51)\"}, \"error_y\": {\"color\": \"rgb(51,51,51)\"}, \"marker\": {\"line\": {\"color\": \"rgb(237,237,237)\", \"width\": 0.5}}, \"type\": \"bar\"}], \"barpolar\": [{\"marker\": {\"line\": {\"color\": \"rgb(237,237,237)\", \"width\": 0.5}}, \"type\": \"barpolar\"}], \"carpet\": [{\"aaxis\": {\"endlinecolor\": \"rgb(51,51,51)\", \"gridcolor\": \"white\", \"linecolor\": \"white\", \"minorgridcolor\": \"white\", \"startlinecolor\": \"rgb(51,51,51)\"}, \"baxis\": {\"endlinecolor\": \"rgb(51,51,51)\", \"gridcolor\": \"white\", \"linecolor\": \"white\", \"minorgridcolor\": \"white\", \"startlinecolor\": \"rgb(51,51,51)\"}, \"type\": \"carpet\"}], \"choropleth\": [{\"colorbar\": {\"outlinewidth\": 0, \"tickcolor\": \"rgb(237,237,237)\", \"ticklen\": 6, \"ticks\": \"inside\"}, \"type\": \"choropleth\"}], \"contour\": [{\"colorbar\": {\"outlinewidth\": 0, \"tickcolor\": \"rgb(237,237,237)\", \"ticklen\": 6, \"ticks\": \"inside\"}, \"colorscale\": [[0, \"rgb(20,44,66)\"], [1, \"rgb(90,179,244)\"]], \"type\": \"contour\"}], \"contourcarpet\": [{\"colorbar\": {\"outlinewidth\": 0, \"tickcolor\": \"rgb(237,237,237)\", \"ticklen\": 6, \"ticks\": \"inside\"}, \"type\": \"contourcarpet\"}], \"heatmap\": [{\"colorbar\": {\"outlinewidth\": 0, \"tickcolor\": \"rgb(237,237,237)\", \"ticklen\": 6, \"ticks\": \"inside\"}, \"colorscale\": [[0, \"rgb(20,44,66)\"], [1, \"rgb(90,179,244)\"]], \"type\": \"heatmap\"}], \"heatmapgl\": [{\"colorbar\": {\"outlinewidth\": 0, \"tickcolor\": \"rgb(237,237,237)\", \"ticklen\": 6, \"ticks\": \"inside\"}, \"colorscale\": [[0, \"rgb(20,44,66)\"], [1, \"rgb(90,179,244)\"]], \"type\": \"heatmapgl\"}], \"histogram\": [{\"marker\": {\"colorbar\": {\"outlinewidth\": 0, \"tickcolor\": \"rgb(237,237,237)\", \"ticklen\": 6, \"ticks\": \"inside\"}}, \"type\": \"histogram\"}], \"histogram2d\": [{\"colorbar\": {\"outlinewidth\": 0, \"tickcolor\": \"rgb(237,237,237)\", \"ticklen\": 6, \"ticks\": \"inside\"}, \"colorscale\": [[0, \"rgb(20,44,66)\"], [1, \"rgb(90,179,244)\"]], \"type\": \"histogram2d\"}], \"histogram2dcontour\": [{\"colorbar\": {\"outlinewidth\": 0, \"tickcolor\": \"rgb(237,237,237)\", \"ticklen\": 6, \"ticks\": \"inside\"}, \"colorscale\": [[0, \"rgb(20,44,66)\"], [1, \"rgb(90,179,244)\"]], \"type\": \"histogram2dcontour\"}], \"mesh3d\": [{\"colorbar\": {\"outlinewidth\": 0, \"tickcolor\": \"rgb(237,237,237)\", \"ticklen\": 6, \"ticks\": \"inside\"}, \"type\": \"mesh3d\"}], \"parcoords\": [{\"line\": {\"colorbar\": {\"outlinewidth\": 0, \"tickcolor\": \"rgb(237,237,237)\", \"ticklen\": 6, \"ticks\": \"inside\"}}, \"type\": \"parcoords\"}], \"pie\": [{\"automargin\": true, \"type\": \"pie\"}], \"scatter\": [{\"marker\": {\"colorbar\": {\"outlinewidth\": 0, \"tickcolor\": \"rgb(237,237,237)\", \"ticklen\": 6, \"ticks\": \"inside\"}}, \"type\": \"scatter\"}], \"scatter3d\": [{\"line\": {\"colorbar\": {\"outlinewidth\": 0, \"tickcolor\": \"rgb(237,237,237)\", \"ticklen\": 6, \"ticks\": \"inside\"}}, \"marker\": {\"colorbar\": {\"outlinewidth\": 0, \"tickcolor\": \"rgb(237,237,237)\", \"ticklen\": 6, \"ticks\": \"inside\"}}, \"type\": \"scatter3d\"}], \"scattercarpet\": [{\"marker\": {\"colorbar\": {\"outlinewidth\": 0, \"tickcolor\": \"rgb(237,237,237)\", \"ticklen\": 6, \"ticks\": \"inside\"}}, \"type\": \"scattercarpet\"}], \"scattergeo\": [{\"marker\": {\"colorbar\": {\"outlinewidth\": 0, \"tickcolor\": \"rgb(237,237,237)\", \"ticklen\": 6, \"ticks\": \"inside\"}}, \"type\": \"scattergeo\"}], \"scattergl\": [{\"marker\": {\"colorbar\": {\"outlinewidth\": 0, \"tickcolor\": \"rgb(237,237,237)\", \"ticklen\": 6, \"ticks\": \"inside\"}}, \"type\": \"scattergl\"}], \"scattermapbox\": [{\"marker\": {\"colorbar\": {\"outlinewidth\": 0, \"tickcolor\": \"rgb(237,237,237)\", \"ticklen\": 6, \"ticks\": \"inside\"}}, \"type\": \"scattermapbox\"}], \"scatterpolar\": [{\"marker\": {\"colorbar\": {\"outlinewidth\": 0, \"tickcolor\": \"rgb(237,237,237)\", \"ticklen\": 6, \"ticks\": \"inside\"}}, \"type\": \"scatterpolar\"}], \"scatterpolargl\": [{\"marker\": {\"colorbar\": {\"outlinewidth\": 0, \"tickcolor\": \"rgb(237,237,237)\", \"ticklen\": 6, \"ticks\": \"inside\"}}, \"type\": \"scatterpolargl\"}], \"scatterternary\": [{\"marker\": {\"colorbar\": {\"outlinewidth\": 0, \"tickcolor\": \"rgb(237,237,237)\", \"ticklen\": 6, \"ticks\": \"inside\"}}, \"type\": \"scatterternary\"}], \"surface\": [{\"colorbar\": {\"outlinewidth\": 0, \"tickcolor\": \"rgb(237,237,237)\", \"ticklen\": 6, \"ticks\": \"inside\"}, \"colorscale\": [[0, \"rgb(20,44,66)\"], [1, \"rgb(90,179,244)\"]], \"type\": \"surface\"}], \"table\": [{\"cells\": {\"fill\": {\"color\": \"rgb(237,237,237)\"}, \"line\": {\"color\": \"white\"}}, \"header\": {\"fill\": {\"color\": \"rgb(217,217,217)\"}, \"line\": {\"color\": \"white\"}}, \"type\": \"table\"}]}, \"layout\": {\"annotationdefaults\": {\"arrowhead\": 0, \"arrowwidth\": 1}, \"coloraxis\": {\"colorbar\": {\"outlinewidth\": 0, \"tickcolor\": \"rgb(237,237,237)\", \"ticklen\": 6, \"ticks\": \"inside\"}}, \"colorscale\": {\"sequential\": [[0, \"rgb(20,44,66)\"], [1, \"rgb(90,179,244)\"]], \"sequentialminus\": [[0, \"rgb(20,44,66)\"], [1, \"rgb(90,179,244)\"]]}, \"colorway\": [\"#F8766D\", \"#A3A500\", \"#00BF7D\", \"#00B0F6\", \"#E76BF3\"], \"font\": {\"color\": \"rgb(51,51,51)\"}, \"geo\": {\"bgcolor\": \"white\", \"lakecolor\": \"white\", \"landcolor\": \"rgb(237,237,237)\", \"showlakes\": true, \"showland\": true, \"subunitcolor\": \"white\"}, \"hoverlabel\": {\"align\": \"left\"}, \"hovermode\": \"closest\", \"paper_bgcolor\": \"white\", \"plot_bgcolor\": \"rgb(237,237,237)\", \"polar\": {\"angularaxis\": {\"gridcolor\": \"white\", \"linecolor\": \"white\", \"showgrid\": true, \"tickcolor\": \"rgb(51,51,51)\", \"ticks\": \"outside\"}, \"bgcolor\": \"rgb(237,237,237)\", \"radialaxis\": {\"gridcolor\": \"white\", \"linecolor\": \"white\", \"showgrid\": true, \"tickcolor\": \"rgb(51,51,51)\", \"ticks\": \"outside\"}}, \"scene\": {\"xaxis\": {\"backgroundcolor\": \"rgb(237,237,237)\", \"gridcolor\": \"white\", \"gridwidth\": 2, \"linecolor\": \"white\", \"showbackground\": true, \"showgrid\": true, \"tickcolor\": \"rgb(51,51,51)\", \"ticks\": \"outside\", \"zerolinecolor\": \"white\"}, \"yaxis\": {\"backgroundcolor\": \"rgb(237,237,237)\", \"gridcolor\": \"white\", \"gridwidth\": 2, \"linecolor\": \"white\", \"showbackground\": true, \"showgrid\": true, \"tickcolor\": \"rgb(51,51,51)\", \"ticks\": \"outside\", \"zerolinecolor\": \"white\"}, \"zaxis\": {\"backgroundcolor\": \"rgb(237,237,237)\", \"gridcolor\": \"white\", \"gridwidth\": 2, \"linecolor\": \"white\", \"showbackground\": true, \"showgrid\": true, \"tickcolor\": \"rgb(51,51,51)\", \"ticks\": \"outside\", \"zerolinecolor\": \"white\"}}, \"shapedefaults\": {\"fillcolor\": \"black\", \"line\": {\"width\": 0}, \"opacity\": 0.3}, \"ternary\": {\"aaxis\": {\"gridcolor\": \"white\", \"linecolor\": \"white\", \"showgrid\": true, \"tickcolor\": \"rgb(51,51,51)\", \"ticks\": \"outside\"}, \"baxis\": {\"gridcolor\": \"white\", \"linecolor\": \"white\", \"showgrid\": true, \"tickcolor\": \"rgb(51,51,51)\", \"ticks\": \"outside\"}, \"bgcolor\": \"rgb(237,237,237)\", \"caxis\": {\"gridcolor\": \"white\", \"linecolor\": \"white\", \"showgrid\": true, \"tickcolor\": \"rgb(51,51,51)\", \"ticks\": \"outside\"}}, \"xaxis\": {\"automargin\": true, \"gridcolor\": \"white\", \"linecolor\": \"white\", \"showgrid\": true, \"tickcolor\": \"rgb(51,51,51)\", \"ticks\": \"outside\", \"title\": {\"standoff\": 15}, \"zerolinecolor\": \"white\"}, \"yaxis\": {\"automargin\": true, \"gridcolor\": \"white\", \"linecolor\": \"white\", \"showgrid\": true, \"tickcolor\": \"rgb(51,51,51)\", \"ticks\": \"outside\", \"title\": {\"standoff\": 15}, \"zerolinecolor\": \"white\"}}}, \"title\": {\"text\": \"Total number of watches sold to the Minimum price of Watches\"}, \"xaxis\": {\"anchor\": \"y\", \"domain\": [0.0, 1.0], \"title\": {\"text\": \"Min Price (RM)\"}}, \"yaxis\": {\"anchor\": \"x\", \"domain\": [0.0, 1.0], \"title\": {\"text\": \"Total of Sold\"}}},\n",
              "                        {\"responsive\": true}\n",
              "                    ).then(function(){\n",
              "                            \n",
              "var gd = document.getElementById('dc3d624e-7446-4654-8a7c-afe2005b9af9');\n",
              "var x = new MutationObserver(function (mutations, observer) {{\n",
              "        var display = window.getComputedStyle(gd).display;\n",
              "        if (!display || display === 'none') {{\n",
              "            console.log([gd, 'removed!']);\n",
              "            Plotly.purge(gd);\n",
              "            observer.disconnect();\n",
              "        }}\n",
              "}});\n",
              "\n",
              "// Listen for the removal of the full notebook cells\n",
              "var notebookContainer = gd.closest('#notebook-container');\n",
              "if (notebookContainer) {{\n",
              "    x.observe(notebookContainer, {childList: true});\n",
              "}}\n",
              "\n",
              "// Listen for the clearing of the current output cell\n",
              "var outputEl = gd.closest('.output');\n",
              "if (outputEl) {{\n",
              "    x.observe(outputEl, {childList: true});\n",
              "}}\n",
              "\n",
              "                        })\n",
              "                };\n",
              "                \n",
              "            </script>\n",
              "        </div>\n",
              "</body>\n",
              "</html>"
            ]
          },
          "metadata": {}
        }
      ]
    },
    {
      "cell_type": "code",
      "source": [
        "fig_scatter = px.scatter(df, x='Average Rating', y='Total of Sold', color='Brand', template='ggplot2', hover_name=df['Total of Favourite'], opacity=0.6, title='Total number of watches sold to the Average Ratings of Watches')\n",
        "fig_scatter.show()"
      ],
      "metadata": {
        "colab": {
          "base_uri": "https://localhost:8080/",
          "height": 541
        },
        "id": "VkHgbWBa477f",
        "outputId": "6e6a90d1-a9b4-4d82-a2d3-667fc78c34e0"
      },
      "execution_count": null,
      "outputs": [
        {
          "output_type": "display_data",
          "data": {
            "text/html": [
              "<html>\n",
              "<head><meta charset=\"utf-8\" /></head>\n",
              "<body>\n",
              "    <div>\n",
              "            <script src=\"https://cdnjs.cloudflare.com/ajax/libs/mathjax/2.7.5/MathJax.js?config=TeX-AMS-MML_SVG\"></script><script type=\"text/javascript\">if (window.MathJax) {MathJax.Hub.Config({SVG: {font: \"STIX-Web\"}});}</script>\n",
              "                <script type=\"text/javascript\">window.PlotlyConfig = {MathJaxConfig: 'local'};</script>\n",
              "        <script src=\"https://cdn.plot.ly/plotly-latest.min.js\"></script>    \n",
              "            <div id=\"bf9e3a4b-9b24-4a3b-8815-3a097b7d1f36\" class=\"plotly-graph-div\" style=\"height:525px; width:100%;\"></div>\n",
              "            <script type=\"text/javascript\">\n",
              "                \n",
              "                    window.PLOTLYENV=window.PLOTLYENV || {};\n",
              "                    \n",
              "                if (document.getElementById(\"bf9e3a4b-9b24-4a3b-8815-3a097b7d1f36\")) {\n",
              "                    Plotly.newPlot(\n",
              "                        'bf9e3a4b-9b24-4a3b-8815-3a097b7d1f36',\n",
              "                        [{\"hoverlabel\": {\"namelength\": 0}, \"hovertemplate\": \"<b>%{hovertext}</b><br><br>Brand=no brand<br>Average Rating=%{x}<br>Total of Sold=%{y}\", \"hovertext\": [5441.0, 55.0, 6927.0, 2014.0, 3.0, 820.0, 78.0, 10279.0, 1453.0, 5361.0, 18.0, 4079.0, 859.0, 951.0, 10657.0, 590.0, 2468.0, 224.0, 989.0, 6060.0, 12054.0, 808.0, 545.0, 5378.0, 392.0, 318.0, 597.0, 151.0, 12.0, 664.0, 394.0, 2107.0, 763.0, 1490.0, 321.0, 1104.0, 65.0, 575.0, 2536.0, 618.0, 606.0, 2206.0, 2548.0, 142.0, 42.0, 1170.0, 495.0, 8722.0, 698.0, 463.0, 978.0, 4610.0, 1092.0, 60.0, 2405.0, 604.0, 295.0, 1081.0, 3584.0, 353.0, 72.0, 1330.0, 83.0, 1221.0, 460.0, 2659.0, 880.0, 363.0, 542.0, 3481.0, 210.0, 2659.0, 439.0, 557.0, 744.0, 599.0, 1973.0, 277.0, 539.0, 354.0, 13.0, 152.0, 630.0, 2555.0, 2862.0, 234.0, 1.0, 404.0, 155.0, 382.0, 543.0, 3656.0, 1155.0, 54.0, 629.0, 98.0, 2411.0, 346.0, 1024.0, 465.0, 26.0, 8.0, 227.0, 1662.0, 169.0, 56.0, 513.0, 425.0, 266.0, 4.0, 50.0, 51.0, 250.0, 185.0, 496.0, 406.0, 449.0, 2928.0, 10.0, 7.0, 53.0, 155.0, 51.0, 370.0, 799.0, 20.0, 1808.0, 679.0, 559.0, 0.0, 16.0, 459.0, 241.0, 7.0], \"legendgroup\": \"Brand=no brand\", \"marker\": {\"color\": \"#F8766D\", \"opacity\": 0.6, \"symbol\": \"circle\"}, \"mode\": \"markers\", \"name\": \"Brand=no brand\", \"showlegend\": true, \"type\": \"scatter\", \"x\": [4.76, 4.81, 4.88, 4.87, 4.64875, 4.7, 4.88, 4.8, 4.82, 4.8, 4.8, 4.69, 4.92, 4.86, 4.87, 4.94, 4.92, 4.98, 4.7, 4.82, 4.66, 4.88, 4.95, 4.94, 4.94, 4.96, 4.76, 4.92, 5.0, 4.71, 4.93, 4.75, 4.88, 4.96, 4.83, 4.96, 4.93, 4.83, 4.85, 4.88, 4.73, 4.78, 4.92, 4.88, 5.0, 4.9, 4.9, 4.74, 4.82, 4.85, 4.89, 4.7, 4.92, 4.81, 4.82, 4.87, 4.76, 4.85, 4.83, 4.93, 4.95, 4.93, 5.0, 4.88, 4.72, 4.79, 4.88, 4.87, 4.9, 4.91, 4.96, 4.79, 4.8, 4.83, 4.83, 4.89, 4.87, 4.64875, 4.66, 4.9, 5.0, 4.88, 4.98, 4.75, 4.96, 4.89, 4.64875, 4.94, 4.96, 4.83, 4.91, 4.87, 4.92, 4.96, 4.93, 4.82, 4.81, 4.96, 4.83, 4.84, 4.91, 4.93, 4.89, 4.94, 4.85, 4.94, 4.89, 4.96, 4.98, 4.64875, 4.88, 4.98, 4.96, 4.89, 4.92, 4.98, 4.9, 4.93, 4.9, 5.0, 4.77, 5.0, 4.72, 4.96, 4.64875, 4.76, 4.8, 4.64875, 4.81, 4.64875, 4.75, 4.89, 5.0, 5.0], \"xaxis\": \"x\", \"y\": [13996, 54, 25488, 2357, 0, 931, 527, 36877, 3228, 21643, 224, 9511, 4537, 801, 7971, 624, 1945, 150, 2620, 8122, 39800, 2381, 300, 7205, 479, 212, 1590, 201, 6, 1086, 586, 4427, 781, 931, 769, 1789, 333, 428, 15588, 974, 2951, 2094, 1042, 309, 79, 2342, 1105, 22158, 2035, 849, 68, 3893, 756, 264, 3764, 993, 352, 577, 2820, 360, 263, 1026, 59, 1857, 697, 2668, 817, 380, 1618, 1586, 232, 2668, 242, 1345, 478, 762, 2642, 1250, 742, 462, 174, 355, 185, 3527, 729, 278, 0, 357, 210, 517, 2430, 2368, 1127, 1124, 1072, 161, 3668, 199, 1846, 1950, 565, 361, 433, 2546, 1563, 187, 222, 285, 277, 0, 1128, 294, 171, 475, 497, 249, 954, 1998, 50, 46, 40, 198, 171, 296, 328, 81, 2422, 2033, 318, 0, 233, 297, 7, 129], \"yaxis\": \"y\"}, {\"hoverlabel\": {\"namelength\": 0}, \"hovertemplate\": \"<b>%{hovertext}</b><br><br>Brand=oem<br>Average Rating=%{x}<br>Total of Sold=%{y}\", \"hovertext\": [21744.0, 17950.0, 1057.0, 3891.0, 254.0, 21744.0], \"legendgroup\": \"Brand=oem\", \"marker\": {\"color\": \"#A3A500\", \"opacity\": 0.6, \"symbol\": \"circle\"}, \"mode\": \"markers\", \"name\": \"Brand=oem\", \"showlegend\": true, \"type\": \"scatter\", \"x\": [4.83, 4.86, 4.68, 4.84, 4.92, 4.83], \"xaxis\": \"x\", \"y\": [20537, 20710, 2778, 1290, 751, 20537], \"yaxis\": \"y\"}, {\"hoverlabel\": {\"namelength\": 0}, \"hovertemplate\": \"<b>%{hovertext}</b><br><br>Brand=hannah martin<br>Average Rating=%{x}<br>Total of Sold=%{y}\", \"hovertext\": [1936.0, 8728.0, 200.0, 1105.0, 857.0], \"legendgroup\": \"Brand=hannah martin\", \"marker\": {\"color\": \"#00BF7D\", \"opacity\": 0.6, \"symbol\": \"circle\"}, \"mode\": \"markers\", \"name\": \"Brand=hannah martin\", \"showlegend\": true, \"type\": \"scatter\", \"x\": [4.74, 4.8, 4.76, 4.91, 4.94], \"xaxis\": \"x\", \"y\": [6002, 29885, 412, 876, 891], \"yaxis\": \"y\"}, {\"hoverlabel\": {\"namelength\": 0}, \"hovertemplate\": \"<b>%{hovertext}</b><br><br>Brand=olevs<br>Average Rating=%{x}<br>Total of Sold=%{y}\", \"hovertext\": [4528.0, 4528.0, 258.0, 4955.0], \"legendgroup\": \"Brand=olevs\", \"marker\": {\"color\": \"#00B0F6\", \"opacity\": 0.6, \"symbol\": \"circle\"}, \"mode\": \"markers\", \"name\": \"Brand=olevs\", \"showlegend\": true, \"type\": \"scatter\", \"x\": [4.94, 4.94, 4.93, 4.95], \"xaxis\": \"x\", \"y\": [6610, 6610, 313, 9734], \"yaxis\": \"y\"}, {\"hoverlabel\": {\"namelength\": 0}, \"hovertemplate\": \"<b>%{hovertext}</b><br><br>Brand=vava voom<br>Average Rating=%{x}<br>Total of Sold=%{y}\", \"hovertext\": [2236.0], \"legendgroup\": \"Brand=vava voom\", \"marker\": {\"color\": \"#E76BF3\", \"opacity\": 0.6, \"symbol\": \"circle\"}, \"mode\": \"markers\", \"name\": \"Brand=vava voom\", \"showlegend\": true, \"type\": \"scatter\", \"x\": [4.72], \"xaxis\": \"x\", \"y\": [7098], \"yaxis\": \"y\"}, {\"hoverlabel\": {\"namelength\": 0}, \"hovertemplate\": \"<b>%{hovertext}</b><br><br>Brand=geneva<br>Average Rating=%{x}<br>Total of Sold=%{y}\", \"hovertext\": [1265.0, 5486.0], \"legendgroup\": \"Brand=geneva\", \"marker\": {\"color\": \"#F8766D\", \"opacity\": 0.6, \"symbol\": \"circle\"}, \"mode\": \"markers\", \"name\": \"Brand=geneva\", \"showlegend\": true, \"type\": \"scatter\", \"x\": [4.84, 4.81], \"xaxis\": \"x\", \"y\": [4017, 21542], \"yaxis\": \"y\"}, {\"hoverlabel\": {\"namelength\": 0}, \"hovertemplate\": \"<b>%{hovertext}</b><br><br>Brand=sanda<br>Average Rating=%{x}<br>Total of Sold=%{y}\", \"hovertext\": [2208.0, 540.0, 2327.0, 4478.0, 2420.0], \"legendgroup\": \"Brand=sanda\", \"marker\": {\"color\": \"#A3A500\", \"opacity\": 0.6, \"symbol\": \"circle\"}, \"mode\": \"markers\", \"name\": \"Brand=sanda\", \"showlegend\": true, \"type\": \"scatter\", \"x\": [4.88, 4.86, 4.87, 4.89, 4.69], \"xaxis\": \"x\", \"y\": [6022, 526, 4031, 5782, 1708], \"yaxis\": \"y\"}, {\"hoverlabel\": {\"namelength\": 0}, \"hovertemplate\": \"<b>%{hovertext}</b><br><br>Brand=honhx<br>Average Rating=%{x}<br>Total of Sold=%{y}\", \"hovertext\": [1386.0, 339.0, 156.0, 5954.0, 4434.0], \"legendgroup\": \"Brand=honhx\", \"marker\": {\"color\": \"#00BF7D\", \"opacity\": 0.6, \"symbol\": \"circle\"}, \"mode\": \"markers\", \"name\": \"Brand=honhx\", \"showlegend\": true, \"type\": \"scatter\", \"x\": [4.89, 4.78, 4.79, 4.87, 4.84], \"xaxis\": \"x\", \"y\": [5726, 1216, 738, 47455, 46960], \"yaxis\": \"y\"}, {\"hoverlabel\": {\"namelength\": 0}, \"hovertemplate\": \"<b>%{hovertext}</b><br><br>Brand=wishdoit<br>Average Rating=%{x}<br>Total of Sold=%{y}\", \"hovertext\": [1203.0, 1862.0, 3102.0], \"legendgroup\": \"Brand=wishdoit\", \"marker\": {\"color\": \"#00B0F6\", \"opacity\": 0.6, \"symbol\": \"circle\"}, \"mode\": \"markers\", \"name\": \"Brand=wishdoit\", \"showlegend\": true, \"type\": \"scatter\", \"x\": [4.95, 4.94, 4.94], \"xaxis\": \"x\", \"y\": [1615, 2339, 4927], \"yaxis\": \"y\"}, {\"hoverlabel\": {\"namelength\": 0}, \"hovertemplate\": \"<b>%{hovertext}</b><br><br>Brand=wwoor<br>Average Rating=%{x}<br>Total of Sold=%{y}\", \"hovertext\": [1145.0, 1719.0], \"legendgroup\": \"Brand=wwoor\", \"marker\": {\"color\": \"#E76BF3\", \"opacity\": 0.6, \"symbol\": \"circle\"}, \"mode\": \"markers\", \"name\": \"Brand=wwoor\", \"showlegend\": true, \"type\": \"scatter\", \"x\": [4.94, 4.96], \"xaxis\": \"x\", \"y\": [1426, 835], \"yaxis\": \"y\"}, {\"hoverlabel\": {\"namelength\": 0}, \"hovertemplate\": \"<b>%{hovertext}</b><br><br>Brand=megalith<br>Average Rating=%{x}<br>Total of Sold=%{y}\", \"hovertext\": [1141.0], \"legendgroup\": \"Brand=megalith\", \"marker\": {\"color\": \"#F8766D\", \"opacity\": 0.6, \"symbol\": \"circle\"}, \"mode\": \"markers\", \"name\": \"Brand=megalith\", \"showlegend\": true, \"type\": \"scatter\", \"x\": [4.84], \"xaxis\": \"x\", \"y\": [323], \"yaxis\": \"y\"}, {\"hoverlabel\": {\"namelength\": 0}, \"hovertemplate\": \"<b>%{hovertext}</b><br><br>Brand=aosun<br>Average Rating=%{x}<br>Total of Sold=%{y}\", \"hovertext\": [10469.0], \"legendgroup\": \"Brand=aosun\", \"marker\": {\"color\": \"#A3A500\", \"opacity\": 0.6, \"symbol\": \"circle\"}, \"mode\": \"markers\", \"name\": \"Brand=aosun\", \"showlegend\": true, \"type\": \"scatter\", \"x\": [4.83], \"xaxis\": \"x\", \"y\": [81270], \"yaxis\": \"y\"}, {\"hoverlabel\": {\"namelength\": 0}, \"hovertemplate\": \"<b>%{hovertext}</b><br><br>Brand=skmei<br>Average Rating=%{x}<br>Total of Sold=%{y}\", \"hovertext\": [922.0, 646.0, 228.0, 843.0, 132.0], \"legendgroup\": \"Brand=skmei\", \"marker\": {\"color\": \"#00BF7D\", \"opacity\": 0.6, \"symbol\": \"circle\"}, \"mode\": \"markers\", \"name\": \"Brand=skmei\", \"showlegend\": true, \"type\": \"scatter\", \"x\": [4.92, 4.87, 4.88, 4.85, 4.82], \"xaxis\": \"x\", \"y\": [974, 486, 495, 2794, 223], \"yaxis\": \"y\"}, {\"hoverlabel\": {\"namelength\": 0}, \"hovertemplate\": \"<b>%{hovertext}</b><br><br>Brand=soki<br>Average Rating=%{x}<br>Total of Sold=%{y}\", \"hovertext\": [3319.0, 3319.0], \"legendgroup\": \"Brand=soki\", \"marker\": {\"color\": \"#00B0F6\", \"opacity\": 0.6, \"symbol\": \"circle\"}, \"mode\": \"markers\", \"name\": \"Brand=soki\", \"showlegend\": true, \"type\": \"scatter\", \"x\": [4.81, 4.81], \"xaxis\": \"x\", \"y\": [6282, 6282], \"yaxis\": \"y\"}, {\"hoverlabel\": {\"namelength\": 0}, \"hovertemplate\": \"<b>%{hovertext}</b><br><br>Brand=haylou<br>Average Rating=%{x}<br>Total of Sold=%{y}\", \"hovertext\": [1170.0, 4398.0, 288.0], \"legendgroup\": \"Brand=haylou\", \"marker\": {\"color\": \"#E76BF3\", \"opacity\": 0.6, \"symbol\": \"circle\"}, \"mode\": \"markers\", \"name\": \"Brand=haylou\", \"showlegend\": true, \"type\": \"scatter\", \"x\": [4.91, 4.95, 4.94], \"xaxis\": \"x\", \"y\": [1242, 5506, 316], \"yaxis\": \"y\"}, {\"hoverlabel\": {\"namelength\": 0}, \"hovertemplate\": \"<b>%{hovertext}</b><br><br>Brand=huawei<br>Average Rating=%{x}<br>Total of Sold=%{y}\", \"hovertext\": [2136.0, 1262.0, 336.0], \"legendgroup\": \"Brand=huawei\", \"marker\": {\"color\": \"#F8766D\", \"opacity\": 0.6, \"symbol\": \"circle\"}, \"mode\": \"markers\", \"name\": \"Brand=huawei\", \"showlegend\": true, \"type\": \"scatter\", \"x\": [4.91, 4.92, 4.95], \"xaxis\": \"x\", \"y\": [1681, 1280, 384], \"yaxis\": \"y\"}, {\"hoverlabel\": {\"namelength\": 0}, \"hovertemplate\": \"<b>%{hovertext}</b><br><br>Brand=chronos<br>Average Rating=%{x}<br>Total of Sold=%{y}\", \"hovertext\": [250.0], \"legendgroup\": \"Brand=chronos\", \"marker\": {\"color\": \"#A3A500\", \"opacity\": 0.6, \"symbol\": \"circle\"}, \"mode\": \"markers\", \"name\": \"Brand=chronos\", \"showlegend\": true, \"type\": \"scatter\", \"x\": [4.86], \"xaxis\": \"x\", \"y\": [470], \"yaxis\": \"y\"}, {\"hoverlabel\": {\"namelength\": 0}, \"hovertemplate\": \"<b>%{hovertext}</b><br><br>Brand=casio<br>Average Rating=%{x}<br>Total of Sold=%{y}\", \"hovertext\": [1692.0, 630.0, 856.0, 275.0, 706.0, 489.0, 774.0], \"legendgroup\": \"Brand=casio\", \"marker\": {\"color\": \"#00BF7D\", \"opacity\": 0.6, \"symbol\": \"circle\"}, \"mode\": \"markers\", \"name\": \"Brand=casio\", \"showlegend\": true, \"type\": \"scatter\", \"x\": [4.91, 4.93, 4.91, 4.97, 4.92, 4.86, 4.92], \"xaxis\": \"x\", \"y\": [1174, 526, 684, 318, 623, 296, 1142], \"yaxis\": \"y\"}, {\"hoverlabel\": {\"namelength\": 0}, \"hovertemplate\": \"<b>%{hovertext}</b><br><br>Brand=coach<br>Average Rating=%{x}<br>Total of Sold=%{y}\", \"hovertext\": [973.0, 405.0, 605.0], \"legendgroup\": \"Brand=coach\", \"marker\": {\"color\": \"#00B0F6\", \"opacity\": 0.6, \"symbol\": \"circle\"}, \"mode\": \"markers\", \"name\": \"Brand=coach\", \"showlegend\": true, \"type\": \"scatter\", \"x\": [4.91, 4.86, 4.89], \"xaxis\": \"x\", \"y\": [823, 322, 414], \"yaxis\": \"y\"}, {\"hoverlabel\": {\"namelength\": 0}, \"hovertemplate\": \"<b>%{hovertext}</b><br><br>Brand=forsining<br>Average Rating=%{x}<br>Total of Sold=%{y}\", \"hovertext\": [361.0, 777.0, 930.0], \"legendgroup\": \"Brand=forsining\", \"marker\": {\"color\": \"#E76BF3\", \"opacity\": 0.6, \"symbol\": \"circle\"}, \"mode\": \"markers\", \"name\": \"Brand=forsining\", \"showlegend\": true, \"type\": \"scatter\", \"x\": [4.82, 4.81, 4.85], \"xaxis\": \"x\", \"y\": [378, 978, 1085], \"yaxis\": \"y\"}, {\"hoverlabel\": {\"namelength\": 0}, \"hovertemplate\": \"<b>%{hovertext}</b><br><br>Brand=north <br>Average Rating=%{x}<br>Total of Sold=%{y}\", \"hovertext\": [66.0], \"legendgroup\": \"Brand=north \", \"marker\": {\"color\": \"#F8766D\", \"opacity\": 0.6, \"symbol\": \"circle\"}, \"mode\": \"markers\", \"name\": \"Brand=north \", \"showlegend\": true, \"type\": \"scatter\", \"x\": [4.91], \"xaxis\": \"x\", \"y\": [44], \"yaxis\": \"y\"}, {\"hoverlabel\": {\"namelength\": 0}, \"hovertemplate\": \"<b>%{hovertext}</b><br><br>Brand=naviforce<br>Average Rating=%{x}<br>Total of Sold=%{y}\", \"hovertext\": [1423.0], \"legendgroup\": \"Brand=naviforce\", \"marker\": {\"color\": \"#A3A500\", \"opacity\": 0.6, \"symbol\": \"circle\"}, \"mode\": \"markers\", \"name\": \"Brand=naviforce\", \"showlegend\": true, \"type\": \"scatter\", \"x\": [4.9], \"xaxis\": \"x\", \"y\": [1631], \"yaxis\": \"y\"}, {\"hoverlabel\": {\"namelength\": 0}, \"hovertemplate\": \"<b>%{hovertext}</b><br><br>Brand=fossil<br>Average Rating=%{x}<br>Total of Sold=%{y}\", \"hovertext\": [478.0, 4777.0], \"legendgroup\": \"Brand=fossil\", \"marker\": {\"color\": \"#00BF7D\", \"opacity\": 0.6, \"symbol\": \"circle\"}, \"mode\": \"markers\", \"name\": \"Brand=fossil\", \"showlegend\": true, \"type\": \"scatter\", \"x\": [4.93, 4.91], \"xaxis\": \"x\", \"y\": [211, 1829], \"yaxis\": \"y\"}],\n",
              "                        {\"legend\": {\"tracegroupgap\": 0}, \"template\": {\"data\": {\"bar\": [{\"error_x\": {\"color\": \"rgb(51,51,51)\"}, \"error_y\": {\"color\": \"rgb(51,51,51)\"}, \"marker\": {\"line\": {\"color\": \"rgb(237,237,237)\", \"width\": 0.5}}, \"type\": \"bar\"}], \"barpolar\": [{\"marker\": {\"line\": {\"color\": \"rgb(237,237,237)\", \"width\": 0.5}}, \"type\": \"barpolar\"}], \"carpet\": [{\"aaxis\": {\"endlinecolor\": \"rgb(51,51,51)\", \"gridcolor\": \"white\", \"linecolor\": \"white\", \"minorgridcolor\": \"white\", \"startlinecolor\": \"rgb(51,51,51)\"}, \"baxis\": {\"endlinecolor\": \"rgb(51,51,51)\", \"gridcolor\": \"white\", \"linecolor\": \"white\", \"minorgridcolor\": \"white\", \"startlinecolor\": \"rgb(51,51,51)\"}, \"type\": \"carpet\"}], \"choropleth\": [{\"colorbar\": {\"outlinewidth\": 0, \"tickcolor\": \"rgb(237,237,237)\", \"ticklen\": 6, \"ticks\": \"inside\"}, \"type\": \"choropleth\"}], \"contour\": [{\"colorbar\": {\"outlinewidth\": 0, \"tickcolor\": \"rgb(237,237,237)\", \"ticklen\": 6, \"ticks\": \"inside\"}, \"colorscale\": [[0, \"rgb(20,44,66)\"], [1, \"rgb(90,179,244)\"]], \"type\": \"contour\"}], \"contourcarpet\": [{\"colorbar\": {\"outlinewidth\": 0, \"tickcolor\": \"rgb(237,237,237)\", \"ticklen\": 6, \"ticks\": \"inside\"}, \"type\": \"contourcarpet\"}], \"heatmap\": [{\"colorbar\": {\"outlinewidth\": 0, \"tickcolor\": \"rgb(237,237,237)\", \"ticklen\": 6, \"ticks\": \"inside\"}, \"colorscale\": [[0, \"rgb(20,44,66)\"], [1, \"rgb(90,179,244)\"]], \"type\": \"heatmap\"}], \"heatmapgl\": [{\"colorbar\": {\"outlinewidth\": 0, \"tickcolor\": \"rgb(237,237,237)\", \"ticklen\": 6, \"ticks\": \"inside\"}, \"colorscale\": [[0, \"rgb(20,44,66)\"], [1, \"rgb(90,179,244)\"]], \"type\": \"heatmapgl\"}], \"histogram\": [{\"marker\": {\"colorbar\": {\"outlinewidth\": 0, \"tickcolor\": \"rgb(237,237,237)\", \"ticklen\": 6, \"ticks\": \"inside\"}}, \"type\": \"histogram\"}], \"histogram2d\": [{\"colorbar\": {\"outlinewidth\": 0, \"tickcolor\": \"rgb(237,237,237)\", \"ticklen\": 6, \"ticks\": \"inside\"}, \"colorscale\": [[0, \"rgb(20,44,66)\"], [1, \"rgb(90,179,244)\"]], \"type\": \"histogram2d\"}], \"histogram2dcontour\": [{\"colorbar\": {\"outlinewidth\": 0, \"tickcolor\": \"rgb(237,237,237)\", \"ticklen\": 6, \"ticks\": \"inside\"}, \"colorscale\": [[0, \"rgb(20,44,66)\"], [1, \"rgb(90,179,244)\"]], \"type\": \"histogram2dcontour\"}], \"mesh3d\": [{\"colorbar\": {\"outlinewidth\": 0, \"tickcolor\": \"rgb(237,237,237)\", \"ticklen\": 6, \"ticks\": \"inside\"}, \"type\": \"mesh3d\"}], \"parcoords\": [{\"line\": {\"colorbar\": {\"outlinewidth\": 0, \"tickcolor\": \"rgb(237,237,237)\", \"ticklen\": 6, \"ticks\": \"inside\"}}, \"type\": \"parcoords\"}], \"pie\": [{\"automargin\": true, \"type\": \"pie\"}], \"scatter\": [{\"marker\": {\"colorbar\": {\"outlinewidth\": 0, \"tickcolor\": \"rgb(237,237,237)\", \"ticklen\": 6, \"ticks\": \"inside\"}}, \"type\": \"scatter\"}], \"scatter3d\": [{\"line\": {\"colorbar\": {\"outlinewidth\": 0, \"tickcolor\": \"rgb(237,237,237)\", \"ticklen\": 6, \"ticks\": \"inside\"}}, \"marker\": {\"colorbar\": {\"outlinewidth\": 0, \"tickcolor\": \"rgb(237,237,237)\", \"ticklen\": 6, \"ticks\": \"inside\"}}, \"type\": \"scatter3d\"}], \"scattercarpet\": [{\"marker\": {\"colorbar\": {\"outlinewidth\": 0, \"tickcolor\": \"rgb(237,237,237)\", \"ticklen\": 6, \"ticks\": \"inside\"}}, \"type\": \"scattercarpet\"}], \"scattergeo\": [{\"marker\": {\"colorbar\": {\"outlinewidth\": 0, \"tickcolor\": \"rgb(237,237,237)\", \"ticklen\": 6, \"ticks\": \"inside\"}}, \"type\": \"scattergeo\"}], \"scattergl\": [{\"marker\": {\"colorbar\": {\"outlinewidth\": 0, \"tickcolor\": \"rgb(237,237,237)\", \"ticklen\": 6, \"ticks\": \"inside\"}}, \"type\": \"scattergl\"}], \"scattermapbox\": [{\"marker\": {\"colorbar\": {\"outlinewidth\": 0, \"tickcolor\": \"rgb(237,237,237)\", \"ticklen\": 6, \"ticks\": \"inside\"}}, \"type\": \"scattermapbox\"}], \"scatterpolar\": [{\"marker\": {\"colorbar\": {\"outlinewidth\": 0, \"tickcolor\": \"rgb(237,237,237)\", \"ticklen\": 6, \"ticks\": \"inside\"}}, \"type\": \"scatterpolar\"}], \"scatterpolargl\": [{\"marker\": {\"colorbar\": {\"outlinewidth\": 0, \"tickcolor\": \"rgb(237,237,237)\", \"ticklen\": 6, \"ticks\": \"inside\"}}, \"type\": \"scatterpolargl\"}], \"scatterternary\": [{\"marker\": {\"colorbar\": {\"outlinewidth\": 0, \"tickcolor\": \"rgb(237,237,237)\", \"ticklen\": 6, \"ticks\": \"inside\"}}, \"type\": \"scatterternary\"}], \"surface\": [{\"colorbar\": {\"outlinewidth\": 0, \"tickcolor\": \"rgb(237,237,237)\", \"ticklen\": 6, \"ticks\": \"inside\"}, \"colorscale\": [[0, \"rgb(20,44,66)\"], [1, \"rgb(90,179,244)\"]], \"type\": \"surface\"}], \"table\": [{\"cells\": {\"fill\": {\"color\": \"rgb(237,237,237)\"}, \"line\": {\"color\": \"white\"}}, \"header\": {\"fill\": {\"color\": \"rgb(217,217,217)\"}, \"line\": {\"color\": \"white\"}}, \"type\": \"table\"}]}, \"layout\": {\"annotationdefaults\": {\"arrowhead\": 0, \"arrowwidth\": 1}, \"coloraxis\": {\"colorbar\": {\"outlinewidth\": 0, \"tickcolor\": \"rgb(237,237,237)\", \"ticklen\": 6, \"ticks\": \"inside\"}}, \"colorscale\": {\"sequential\": [[0, \"rgb(20,44,66)\"], [1, \"rgb(90,179,244)\"]], \"sequentialminus\": [[0, \"rgb(20,44,66)\"], [1, \"rgb(90,179,244)\"]]}, \"colorway\": [\"#F8766D\", \"#A3A500\", \"#00BF7D\", \"#00B0F6\", \"#E76BF3\"], \"font\": {\"color\": \"rgb(51,51,51)\"}, \"geo\": {\"bgcolor\": \"white\", \"lakecolor\": \"white\", \"landcolor\": \"rgb(237,237,237)\", \"showlakes\": true, \"showland\": true, \"subunitcolor\": \"white\"}, \"hoverlabel\": {\"align\": \"left\"}, \"hovermode\": \"closest\", \"paper_bgcolor\": \"white\", \"plot_bgcolor\": \"rgb(237,237,237)\", \"polar\": {\"angularaxis\": {\"gridcolor\": \"white\", \"linecolor\": \"white\", \"showgrid\": true, \"tickcolor\": \"rgb(51,51,51)\", \"ticks\": \"outside\"}, \"bgcolor\": \"rgb(237,237,237)\", \"radialaxis\": {\"gridcolor\": \"white\", \"linecolor\": \"white\", \"showgrid\": true, \"tickcolor\": \"rgb(51,51,51)\", \"ticks\": \"outside\"}}, \"scene\": {\"xaxis\": {\"backgroundcolor\": \"rgb(237,237,237)\", \"gridcolor\": \"white\", \"gridwidth\": 2, \"linecolor\": \"white\", \"showbackground\": true, \"showgrid\": true, \"tickcolor\": \"rgb(51,51,51)\", \"ticks\": \"outside\", \"zerolinecolor\": \"white\"}, \"yaxis\": {\"backgroundcolor\": \"rgb(237,237,237)\", \"gridcolor\": \"white\", \"gridwidth\": 2, \"linecolor\": \"white\", \"showbackground\": true, \"showgrid\": true, \"tickcolor\": \"rgb(51,51,51)\", \"ticks\": \"outside\", \"zerolinecolor\": \"white\"}, \"zaxis\": {\"backgroundcolor\": \"rgb(237,237,237)\", \"gridcolor\": \"white\", \"gridwidth\": 2, \"linecolor\": \"white\", \"showbackground\": true, \"showgrid\": true, \"tickcolor\": \"rgb(51,51,51)\", \"ticks\": \"outside\", \"zerolinecolor\": \"white\"}}, \"shapedefaults\": {\"fillcolor\": \"black\", \"line\": {\"width\": 0}, \"opacity\": 0.3}, \"ternary\": {\"aaxis\": {\"gridcolor\": \"white\", \"linecolor\": \"white\", \"showgrid\": true, \"tickcolor\": \"rgb(51,51,51)\", \"ticks\": \"outside\"}, \"baxis\": {\"gridcolor\": \"white\", \"linecolor\": \"white\", \"showgrid\": true, \"tickcolor\": \"rgb(51,51,51)\", \"ticks\": \"outside\"}, \"bgcolor\": \"rgb(237,237,237)\", \"caxis\": {\"gridcolor\": \"white\", \"linecolor\": \"white\", \"showgrid\": true, \"tickcolor\": \"rgb(51,51,51)\", \"ticks\": \"outside\"}}, \"xaxis\": {\"automargin\": true, \"gridcolor\": \"white\", \"linecolor\": \"white\", \"showgrid\": true, \"tickcolor\": \"rgb(51,51,51)\", \"ticks\": \"outside\", \"title\": {\"standoff\": 15}, \"zerolinecolor\": \"white\"}, \"yaxis\": {\"automargin\": true, \"gridcolor\": \"white\", \"linecolor\": \"white\", \"showgrid\": true, \"tickcolor\": \"rgb(51,51,51)\", \"ticks\": \"outside\", \"title\": {\"standoff\": 15}, \"zerolinecolor\": \"white\"}}}, \"title\": {\"text\": \"Total number of watches sold to the Average Ratings of Watches\"}, \"xaxis\": {\"anchor\": \"y\", \"domain\": [0.0, 1.0], \"title\": {\"text\": \"Average Rating\"}}, \"yaxis\": {\"anchor\": \"x\", \"domain\": [0.0, 1.0], \"title\": {\"text\": \"Total of Sold\"}}},\n",
              "                        {\"responsive\": true}\n",
              "                    ).then(function(){\n",
              "                            \n",
              "var gd = document.getElementById('bf9e3a4b-9b24-4a3b-8815-3a097b7d1f36');\n",
              "var x = new MutationObserver(function (mutations, observer) {{\n",
              "        var display = window.getComputedStyle(gd).display;\n",
              "        if (!display || display === 'none') {{\n",
              "            console.log([gd, 'removed!']);\n",
              "            Plotly.purge(gd);\n",
              "            observer.disconnect();\n",
              "        }}\n",
              "}});\n",
              "\n",
              "// Listen for the removal of the full notebook cells\n",
              "var notebookContainer = gd.closest('#notebook-container');\n",
              "if (notebookContainer) {{\n",
              "    x.observe(notebookContainer, {childList: true});\n",
              "}}\n",
              "\n",
              "// Listen for the clearing of the current output cell\n",
              "var outputEl = gd.closest('.output');\n",
              "if (outputEl) {{\n",
              "    x.observe(outputEl, {childList: true});\n",
              "}}\n",
              "\n",
              "                        })\n",
              "                };\n",
              "                \n",
              "            </script>\n",
              "        </div>\n",
              "</body>\n",
              "</html>"
            ]
          },
          "metadata": {}
        }
      ]
    },
    {
      "cell_type": "code",
      "source": [
        "fig_bar = px.histogram(df, x='Shop Location', y='Total of Sold', color='Shipping Fee', template='ggplot2', opacity=0.6)\n",
        "fig_bar.show()"
      ],
      "metadata": {
        "id": "3g0vCmOd49XL"
      },
      "execution_count": null,
      "outputs": []
    },
    {
      "cell_type": "code",
      "source": [
        "fig_scatter = px.scatter(df, x='Discount (%)', y='Total of Sold', color='Shop Location', template='ggplot2', hover_name=df['Min Price (RM)'], title='Total Number of Watches Sold to the Discount Offered')\n",
        "fig_scatter.show()"
      ],
      "metadata": {
        "colab": {
          "base_uri": "https://localhost:8080/",
          "height": 541
        },
        "id": "gHTbgWEL5ANJ",
        "outputId": "64c2a3bb-847b-445c-806b-5d3a7e1bfff3"
      },
      "execution_count": null,
      "outputs": [
        {
          "output_type": "display_data",
          "data": {
            "text/html": [
              "<html>\n",
              "<head><meta charset=\"utf-8\" /></head>\n",
              "<body>\n",
              "    <div>\n",
              "            <script src=\"https://cdnjs.cloudflare.com/ajax/libs/mathjax/2.7.5/MathJax.js?config=TeX-AMS-MML_SVG\"></script><script type=\"text/javascript\">if (window.MathJax) {MathJax.Hub.Config({SVG: {font: \"STIX-Web\"}});}</script>\n",
              "                <script type=\"text/javascript\">window.PlotlyConfig = {MathJaxConfig: 'local'};</script>\n",
              "        <script src=\"https://cdn.plot.ly/plotly-latest.min.js\"></script>    \n",
              "            <div id=\"60c9d0df-7728-446f-913d-bc5a8887489d\" class=\"plotly-graph-div\" style=\"height:525px; width:100%;\"></div>\n",
              "            <script type=\"text/javascript\">\n",
              "                \n",
              "                    window.PLOTLYENV=window.PLOTLYENV || {};\n",
              "                    \n",
              "                if (document.getElementById(\"60c9d0df-7728-446f-913d-bc5a8887489d\")) {\n",
              "                    Plotly.newPlot(\n",
              "                        '60c9d0df-7728-446f-913d-bc5a8887489d',\n",
              "                        [{\"hoverlabel\": {\"namelength\": 0}, \"hovertemplate\": \"<b>%{hovertext}</b><br><br>Shop Location=Selangor<br>Discount (%)=%{x}<br>Total of Sold=%{y}\", \"hovertext\": [4.9, 7.9, 29.9, 1.4, 4.9, 6.3, 27.9, 58.0, 6.2, 39.99, 39.8, 130.75, 10.5, 15.9, 3.9, 62.5, 62.49, 104.9, 6.2, 27.78, 42.5, 33.9, 1.3, 29.0, 4.9, 6.5, 58.0, 59.5, 26.5, 2.0, 65.0, 8.2, 5.5, 28.7, 5.5, 0.9, 6.2, 130.75, 29.9, 18.99, 130.75, 28.9, 28.0, 17.94, 52.9, 9.5, 17.94, 130.75, 52.9, 19.9, 31.0, 59.5, 109.9, 122.9, 39.9, 12.4, 95.0, 29.9, 130.75, 130.75, 29.9, 42.0, 92.9, 37.9, 55.73, 124.9, 46.4, 0.9, 4.9, 52.8, 1.59, 31.5, 34.9, 45.0, 57.6, 0.88, 26.96, 19.9, 9.0, 55.88, 2.3, 26.9, 30.0, 34.44, 56.7, 58.5, 130.75, 45.0], \"legendgroup\": \"Shop Location=Selangor\", \"marker\": {\"color\": \"#F8766D\", \"symbol\": \"circle\"}, \"mode\": \"markers\", \"name\": \"Shop Location=Selangor\", \"showlegend\": true, \"type\": \"scatter\", \"x\": [91, 84, 60, 97, 57, 92, 95, 90, 97, 0, 60, 43, 89, 94, 90, 73, 73, 92, 91, 86, 86, 74, 88, 71, 93, 91, 90, 75, 98, 91, 90, 91, 94, 64, 86, 94, 94, 85, 60, 52, 83, 76, 0, 70, 74, 22, 70, 0, 74, 85, 74, 73, 89, 89, 0, 85, 50, 95, 84, 13, 83, 58, 13, 76, 38, 37, 5, 98, 75, 0, 0, 84, 0, 47, 0, 99, 48, 67, 0, 0, 54, 86, 0, 73, 0, 0, 0, 91], \"xaxis\": \"x\", \"y\": [13996, 25488, 20537, 36877, 3228, 6002, 9511, 6610, 29885, 801, 624, 150, 2620, 7098, 39800, 7205, 586, 781, 4017, 6022, 1789, 526, 15588, 20710, 5726, 412, 6610, 1615, 22158, 21542, 68, 1216, 738, 3893, 264, 81270, 352, 577, 20537, 263, 59, 1857, 495, 6282, 2668, 817, 6282, 1681, 2668, 470, 1345, 2339, 823, 322, 462, 355, 185, 3527, 414, 1280, 517, 2430, 5506, 3668, 1631, 316, 876, 47455, 1846, 891, 361, 433, 187, 222, 684, 46960, 475, 2794, 50, 198, 81, 2422, 223, 9734, 623, 1142, 384, 7], \"yaxis\": \"y\"}, {\"hoverlabel\": {\"namelength\": 0}, \"hovertemplate\": \"<b>%{hovertext}</b><br><br>Shop Location=Mainland China<br>Discount (%)=%{x}<br>Total of Sold=%{y}\", \"hovertext\": [29.9, 5.17, 96.7, 8.9, 6.5, 4.55, 8.48, 8.99, 6.66, 11.9, 15.0, 1.87, 8.2, 130.75, 19.8, 8.4, 14.99, 9.3, 4.72, 35.0, 7.04, 9.0, 27.8, 33.0, 35.0, 16.8, 27.9, 5.5, 22.98, 40.0, 23.6, 95.9, 12.1, 99.0, 4.9, 28.8, 27.0, 18.4, 7.6, 32.57, 83.3, 35.34, 83.99, 11.0, 27.5, 14.63, 69.0, 29.4, 52.99, 109.0, 5.89, 2.25, 56.0, 9.9, 36.9, 33.9, 29.31, 29.36, 3.46, 29.7, 46.35, 8.69, 42.0, 5.63, 59.0, 3.9, 2.5, 42.0, 65.0, 28.9, 6.5, 13.5, 45.88, 130.75, 0.59, 59.99, 49.5, 4.37], \"legendgroup\": \"Shop Location=Mainland China\", \"marker\": {\"color\": \"#A3A500\", \"symbol\": \"circle\"}, \"mode\": \"markers\", \"name\": \"Shop Location=Mainland China\", \"showlegend\": true, \"type\": \"scatter\", \"x\": [75, 78, 60, 78, 65, 30, 51, 55, 73, 53, 65, 16, 59, 27, 73, 52, 60, 37, 55, 30, 70, 55, 86, 85, 84, 44, 81, 80, 60, 60, 60, 44, 52, 51, 92, 81, 86, 54, 69, 51, 97, 86, 63, 59, 91, 58, 57, 30, 77, 92, 5, 76, 20, 60, 84, 63, 71, 71, 65, 85, 89, 58, 65, 70, 35, 56, 50, 84, 92, 79, 67, 73, 96, 35, 61, 32, 73, 50], \"xaxis\": \"x\", \"y\": [54, 2357, 0, 931, 527, 224, 7971, 1945, 8122, 300, 212, 1590, 201, 6, 4427, 931, 769, 974, 2951, 2778, 2094, 1042, 4031, 1426, 835, 309, 5782, 79, 2342, 2035, 849, 323, 756, 1290, 3764, 993, 2820, 360, 751, 974, 486, 1708, 1242, 697, 1618, 1586, 478, 762, 378, 2642, 1250, 742, 174, 278, 313, 0, 357, 1127, 1124, 44, 1072, 161, 1950, 565, 978, 1563, 0, 1128, 1085, 954, 46, 2033, 296, 0, 233, 297, 4927, 129], \"yaxis\": \"y\"}, {\"hoverlabel\": {\"namelength\": 0}, \"hovertemplate\": \"<b>%{hovertext}</b><br><br>Shop Location=Kuala Lumpur<br>Discount (%)=%{x}<br>Total of Sold=%{y}\", \"hovertext\": [13.0, 7.9, 4.39, 130.75, 27.0, 69.0, 122.0, 39.0, 130.75, 75.0, 126.0, 44.99, 49.9, 130.75, 68.0, 36.99, 122.0, 130.75, 39.99, 41.99], \"legendgroup\": \"Shop Location=Kuala Lumpur\", \"marker\": {\"color\": \"#00BF7D\", \"symbol\": \"circle\"}, \"mode\": \"markers\", \"name\": \"Shop Location=Kuala Lumpur\", \"showlegend\": true, \"type\": \"scatter\", \"x\": [44, 60, 85, 14, 0, 0, 80, 57, 0, 0, 16, 55, 0, 72, 0, 63, 39, 85, 33, 53], \"xaxis\": \"x\", \"y\": [21643, 4537, 2381, 479, 428, 1026, 232, 1174, 729, 210, 2368, 199, 277, 211, 171, 497, 249, 1829, 328, 318], \"yaxis\": \"y\"}, {\"hoverlabel\": {\"namelength\": 0}, \"hovertemplate\": \"<b>%{hovertext}</b><br><br>Shop Location=Penang<br>Discount (%)=%{x}<br>Total of Sold=%{y}\", \"hovertext\": [19.8, 63.0, 20.5, 23.56], \"legendgroup\": \"Shop Location=Penang\", \"marker\": {\"color\": \"#00B0F6\", \"symbol\": \"circle\"}, \"mode\": \"markers\", \"name\": \"Shop Location=Penang\", \"showlegend\": true, \"type\": \"scatter\", \"x\": [38, 0, 24, 5], \"xaxis\": \"x\", \"y\": [1086, 294, 40, 171], \"yaxis\": \"y\"}, {\"hoverlabel\": {\"namelength\": 0}, \"hovertemplate\": \"<b>%{hovertext}</b><br><br>Shop Location=Johor<br>Discount (%)=%{x}<br>Total of Sold=%{y}\", \"hovertext\": [11.99, 15.96, 33.0, 71.9, 130.75, 69.0, 80.0, 85.0], \"legendgroup\": \"Shop Location=Johor\", \"marker\": {\"color\": \"#E76BF3\", \"symbol\": \"circle\"}, \"mode\": \"markers\", \"name\": \"Shop Location=Johor\", \"showlegend\": true, \"type\": \"scatter\", \"x\": [40, 60, 0, 0, 39, 0, 44, 0], \"xaxis\": \"x\", \"y\": [333, 1105, 380, 2546, 285, 526, 1998, 296], \"yaxis\": \"y\"}, {\"hoverlabel\": {\"namelength\": 0}, \"hovertemplate\": \"<b>%{hovertext}</b><br><br>Shop Location=Kelantan<br>Discount (%)=%{x}<br>Total of Sold=%{y}\", \"hovertext\": [35.0], \"legendgroup\": \"Shop Location=Kelantan\", \"marker\": {\"color\": \"#F8766D\", \"symbol\": \"circle\"}, \"mode\": \"markers\", \"name\": \"Shop Location=Kelantan\", \"showlegend\": true, \"type\": \"scatter\", \"x\": [88], \"xaxis\": \"x\", \"y\": [242], \"yaxis\": \"y\"}, {\"hoverlabel\": {\"namelength\": 0}, \"hovertemplate\": \"<b>%{hovertext}</b><br><br>Shop Location=Kedah<br>Discount (%)=%{x}<br>Total of Sold=%{y}\", \"hovertext\": [130.75], \"legendgroup\": \"Shop Location=Kedah\", \"marker\": {\"color\": \"#A3A500\", \"symbol\": \"circle\"}, \"mode\": \"markers\", \"name\": \"Shop Location=Kedah\", \"showlegend\": true, \"type\": \"scatter\", \"x\": [0], \"xaxis\": \"x\", \"y\": [318], \"yaxis\": \"y\"}],\n",
              "                        {\"legend\": {\"tracegroupgap\": 0}, \"template\": {\"data\": {\"bar\": [{\"error_x\": {\"color\": \"rgb(51,51,51)\"}, \"error_y\": {\"color\": \"rgb(51,51,51)\"}, \"marker\": {\"line\": {\"color\": \"rgb(237,237,237)\", \"width\": 0.5}}, \"type\": \"bar\"}], \"barpolar\": [{\"marker\": {\"line\": {\"color\": \"rgb(237,237,237)\", \"width\": 0.5}}, \"type\": \"barpolar\"}], \"carpet\": [{\"aaxis\": {\"endlinecolor\": \"rgb(51,51,51)\", \"gridcolor\": \"white\", \"linecolor\": \"white\", \"minorgridcolor\": \"white\", \"startlinecolor\": \"rgb(51,51,51)\"}, \"baxis\": {\"endlinecolor\": \"rgb(51,51,51)\", \"gridcolor\": \"white\", \"linecolor\": \"white\", \"minorgridcolor\": \"white\", \"startlinecolor\": \"rgb(51,51,51)\"}, \"type\": \"carpet\"}], \"choropleth\": [{\"colorbar\": {\"outlinewidth\": 0, \"tickcolor\": \"rgb(237,237,237)\", \"ticklen\": 6, \"ticks\": \"inside\"}, \"type\": \"choropleth\"}], \"contour\": [{\"colorbar\": {\"outlinewidth\": 0, \"tickcolor\": \"rgb(237,237,237)\", \"ticklen\": 6, \"ticks\": \"inside\"}, \"colorscale\": [[0, \"rgb(20,44,66)\"], [1, \"rgb(90,179,244)\"]], \"type\": \"contour\"}], \"contourcarpet\": [{\"colorbar\": {\"outlinewidth\": 0, \"tickcolor\": \"rgb(237,237,237)\", \"ticklen\": 6, \"ticks\": \"inside\"}, \"type\": \"contourcarpet\"}], \"heatmap\": [{\"colorbar\": {\"outlinewidth\": 0, \"tickcolor\": \"rgb(237,237,237)\", \"ticklen\": 6, \"ticks\": \"inside\"}, \"colorscale\": [[0, \"rgb(20,44,66)\"], [1, \"rgb(90,179,244)\"]], \"type\": \"heatmap\"}], \"heatmapgl\": [{\"colorbar\": {\"outlinewidth\": 0, \"tickcolor\": \"rgb(237,237,237)\", \"ticklen\": 6, \"ticks\": \"inside\"}, \"colorscale\": [[0, \"rgb(20,44,66)\"], [1, \"rgb(90,179,244)\"]], \"type\": \"heatmapgl\"}], \"histogram\": [{\"marker\": {\"colorbar\": {\"outlinewidth\": 0, \"tickcolor\": \"rgb(237,237,237)\", \"ticklen\": 6, \"ticks\": \"inside\"}}, \"type\": \"histogram\"}], \"histogram2d\": [{\"colorbar\": {\"outlinewidth\": 0, \"tickcolor\": \"rgb(237,237,237)\", \"ticklen\": 6, \"ticks\": \"inside\"}, \"colorscale\": [[0, \"rgb(20,44,66)\"], [1, \"rgb(90,179,244)\"]], \"type\": \"histogram2d\"}], \"histogram2dcontour\": [{\"colorbar\": {\"outlinewidth\": 0, \"tickcolor\": \"rgb(237,237,237)\", \"ticklen\": 6, \"ticks\": \"inside\"}, \"colorscale\": [[0, \"rgb(20,44,66)\"], [1, \"rgb(90,179,244)\"]], \"type\": \"histogram2dcontour\"}], \"mesh3d\": [{\"colorbar\": {\"outlinewidth\": 0, \"tickcolor\": \"rgb(237,237,237)\", \"ticklen\": 6, \"ticks\": \"inside\"}, \"type\": \"mesh3d\"}], \"parcoords\": [{\"line\": {\"colorbar\": {\"outlinewidth\": 0, \"tickcolor\": \"rgb(237,237,237)\", \"ticklen\": 6, \"ticks\": \"inside\"}}, \"type\": \"parcoords\"}], \"pie\": [{\"automargin\": true, \"type\": \"pie\"}], \"scatter\": [{\"marker\": {\"colorbar\": {\"outlinewidth\": 0, \"tickcolor\": \"rgb(237,237,237)\", \"ticklen\": 6, \"ticks\": \"inside\"}}, \"type\": \"scatter\"}], \"scatter3d\": [{\"line\": {\"colorbar\": {\"outlinewidth\": 0, \"tickcolor\": \"rgb(237,237,237)\", \"ticklen\": 6, \"ticks\": \"inside\"}}, \"marker\": {\"colorbar\": {\"outlinewidth\": 0, \"tickcolor\": \"rgb(237,237,237)\", \"ticklen\": 6, \"ticks\": \"inside\"}}, \"type\": \"scatter3d\"}], \"scattercarpet\": [{\"marker\": {\"colorbar\": {\"outlinewidth\": 0, \"tickcolor\": \"rgb(237,237,237)\", \"ticklen\": 6, \"ticks\": \"inside\"}}, \"type\": \"scattercarpet\"}], \"scattergeo\": [{\"marker\": {\"colorbar\": {\"outlinewidth\": 0, \"tickcolor\": \"rgb(237,237,237)\", \"ticklen\": 6, \"ticks\": \"inside\"}}, \"type\": \"scattergeo\"}], \"scattergl\": [{\"marker\": {\"colorbar\": {\"outlinewidth\": 0, \"tickcolor\": \"rgb(237,237,237)\", \"ticklen\": 6, \"ticks\": \"inside\"}}, \"type\": \"scattergl\"}], \"scattermapbox\": [{\"marker\": {\"colorbar\": {\"outlinewidth\": 0, \"tickcolor\": \"rgb(237,237,237)\", \"ticklen\": 6, \"ticks\": \"inside\"}}, \"type\": \"scattermapbox\"}], \"scatterpolar\": [{\"marker\": {\"colorbar\": {\"outlinewidth\": 0, \"tickcolor\": \"rgb(237,237,237)\", \"ticklen\": 6, \"ticks\": \"inside\"}}, \"type\": \"scatterpolar\"}], \"scatterpolargl\": [{\"marker\": {\"colorbar\": {\"outlinewidth\": 0, \"tickcolor\": \"rgb(237,237,237)\", \"ticklen\": 6, \"ticks\": \"inside\"}}, \"type\": \"scatterpolargl\"}], \"scatterternary\": [{\"marker\": {\"colorbar\": {\"outlinewidth\": 0, \"tickcolor\": \"rgb(237,237,237)\", \"ticklen\": 6, \"ticks\": \"inside\"}}, \"type\": \"scatterternary\"}], \"surface\": [{\"colorbar\": {\"outlinewidth\": 0, \"tickcolor\": \"rgb(237,237,237)\", \"ticklen\": 6, \"ticks\": \"inside\"}, \"colorscale\": [[0, \"rgb(20,44,66)\"], [1, \"rgb(90,179,244)\"]], \"type\": \"surface\"}], \"table\": [{\"cells\": {\"fill\": {\"color\": \"rgb(237,237,237)\"}, \"line\": {\"color\": \"white\"}}, \"header\": {\"fill\": {\"color\": \"rgb(217,217,217)\"}, \"line\": {\"color\": \"white\"}}, \"type\": \"table\"}]}, \"layout\": {\"annotationdefaults\": {\"arrowhead\": 0, \"arrowwidth\": 1}, \"coloraxis\": {\"colorbar\": {\"outlinewidth\": 0, \"tickcolor\": \"rgb(237,237,237)\", \"ticklen\": 6, \"ticks\": \"inside\"}}, \"colorscale\": {\"sequential\": [[0, \"rgb(20,44,66)\"], [1, \"rgb(90,179,244)\"]], \"sequentialminus\": [[0, \"rgb(20,44,66)\"], [1, \"rgb(90,179,244)\"]]}, \"colorway\": [\"#F8766D\", \"#A3A500\", \"#00BF7D\", \"#00B0F6\", \"#E76BF3\"], \"font\": {\"color\": \"rgb(51,51,51)\"}, \"geo\": {\"bgcolor\": \"white\", \"lakecolor\": \"white\", \"landcolor\": \"rgb(237,237,237)\", \"showlakes\": true, \"showland\": true, \"subunitcolor\": \"white\"}, \"hoverlabel\": {\"align\": \"left\"}, \"hovermode\": \"closest\", \"paper_bgcolor\": \"white\", \"plot_bgcolor\": \"rgb(237,237,237)\", \"polar\": {\"angularaxis\": {\"gridcolor\": \"white\", \"linecolor\": \"white\", \"showgrid\": true, \"tickcolor\": \"rgb(51,51,51)\", \"ticks\": \"outside\"}, \"bgcolor\": \"rgb(237,237,237)\", \"radialaxis\": {\"gridcolor\": \"white\", \"linecolor\": \"white\", \"showgrid\": true, \"tickcolor\": \"rgb(51,51,51)\", \"ticks\": \"outside\"}}, \"scene\": {\"xaxis\": {\"backgroundcolor\": \"rgb(237,237,237)\", \"gridcolor\": \"white\", \"gridwidth\": 2, \"linecolor\": \"white\", \"showbackground\": true, \"showgrid\": true, \"tickcolor\": \"rgb(51,51,51)\", \"ticks\": \"outside\", \"zerolinecolor\": \"white\"}, \"yaxis\": {\"backgroundcolor\": \"rgb(237,237,237)\", \"gridcolor\": \"white\", \"gridwidth\": 2, \"linecolor\": \"white\", \"showbackground\": true, \"showgrid\": true, \"tickcolor\": \"rgb(51,51,51)\", \"ticks\": \"outside\", \"zerolinecolor\": \"white\"}, \"zaxis\": {\"backgroundcolor\": \"rgb(237,237,237)\", \"gridcolor\": \"white\", \"gridwidth\": 2, \"linecolor\": \"white\", \"showbackground\": true, \"showgrid\": true, \"tickcolor\": \"rgb(51,51,51)\", \"ticks\": \"outside\", \"zerolinecolor\": \"white\"}}, \"shapedefaults\": {\"fillcolor\": \"black\", \"line\": {\"width\": 0}, \"opacity\": 0.3}, \"ternary\": {\"aaxis\": {\"gridcolor\": \"white\", \"linecolor\": \"white\", \"showgrid\": true, \"tickcolor\": \"rgb(51,51,51)\", \"ticks\": \"outside\"}, \"baxis\": {\"gridcolor\": \"white\", \"linecolor\": \"white\", \"showgrid\": true, \"tickcolor\": \"rgb(51,51,51)\", \"ticks\": \"outside\"}, \"bgcolor\": \"rgb(237,237,237)\", \"caxis\": {\"gridcolor\": \"white\", \"linecolor\": \"white\", \"showgrid\": true, \"tickcolor\": \"rgb(51,51,51)\", \"ticks\": \"outside\"}}, \"xaxis\": {\"automargin\": true, \"gridcolor\": \"white\", \"linecolor\": \"white\", \"showgrid\": true, \"tickcolor\": \"rgb(51,51,51)\", \"ticks\": \"outside\", \"title\": {\"standoff\": 15}, \"zerolinecolor\": \"white\"}, \"yaxis\": {\"automargin\": true, \"gridcolor\": \"white\", \"linecolor\": \"white\", \"showgrid\": true, \"tickcolor\": \"rgb(51,51,51)\", \"ticks\": \"outside\", \"title\": {\"standoff\": 15}, \"zerolinecolor\": \"white\"}}}, \"title\": {\"text\": \"Total Number of Watches Sold to the Discount Offered\"}, \"xaxis\": {\"anchor\": \"y\", \"domain\": [0.0, 1.0], \"title\": {\"text\": \"Discount (%)\"}}, \"yaxis\": {\"anchor\": \"x\", \"domain\": [0.0, 1.0], \"title\": {\"text\": \"Total of Sold\"}}},\n",
              "                        {\"responsive\": true}\n",
              "                    ).then(function(){\n",
              "                            \n",
              "var gd = document.getElementById('60c9d0df-7728-446f-913d-bc5a8887489d');\n",
              "var x = new MutationObserver(function (mutations, observer) {{\n",
              "        var display = window.getComputedStyle(gd).display;\n",
              "        if (!display || display === 'none') {{\n",
              "            console.log([gd, 'removed!']);\n",
              "            Plotly.purge(gd);\n",
              "            observer.disconnect();\n",
              "        }}\n",
              "}});\n",
              "\n",
              "// Listen for the removal of the full notebook cells\n",
              "var notebookContainer = gd.closest('#notebook-container');\n",
              "if (notebookContainer) {{\n",
              "    x.observe(notebookContainer, {childList: true});\n",
              "}}\n",
              "\n",
              "// Listen for the clearing of the current output cell\n",
              "var outputEl = gd.closest('.output');\n",
              "if (outputEl) {{\n",
              "    x.observe(outputEl, {childList: true});\n",
              "}}\n",
              "\n",
              "                        })\n",
              "                };\n",
              "                \n",
              "            </script>\n",
              "        </div>\n",
              "</body>\n",
              "</html>"
            ]
          },
          "metadata": {}
        }
      ]
    },
    {
      "cell_type": "code",
      "source": [
        ""
      ],
      "metadata": {
        "id": "qgOjg4zI5BQv"
      },
      "execution_count": null,
      "outputs": []
    }
  ]
}